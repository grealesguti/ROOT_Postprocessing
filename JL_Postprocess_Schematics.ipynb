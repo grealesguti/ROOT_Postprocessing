{
 "cells": [
  {
   "cell_type": "code",
   "execution_count": 1,
   "id": "7d20bba4-e258-4280-b42b-1c4089a9ced0",
   "metadata": {
    "tags": []
   },
   "outputs": [
    {
     "name": "stdout",
     "output_type": "stream",
     "text": [
      "Welcome to JupyROOT 6.26/10\n"
     ]
    }
   ],
   "source": [
    "from Postprocess_functions import *"
   ]
  },
  {
   "cell_type": "code",
   "execution_count": 2,
   "id": "f0ccf242-803c-4db0-891c-f75439d01789",
   "metadata": {
    "tags": []
   },
   "outputs": [],
   "source": [
    "import gmsh\n",
    "import sys\n",
    "import os\n",
    "from os.path import exists\n",
    "import subprocess\n",
    "import numpy as np\n",
    "import time\n",
    "import ROOT\n",
    "from os import listdir\n",
    "from os.path import isfile, join\n",
    "import os.path\n",
    "from os import path\n",
    "import matplotlib.pyplot as plt\n",
    "import matplotlib.animation as animation\n",
    "import argparse\n",
    "from ROOT import TFile, TTree\n",
    "import matplotlib.pyplot as plt\n",
    "from scipy.interpolate import splrep, splev,splprep\n",
    "from scipy.interpolate import BSpline\n",
    "import math\n",
    "def Initialization_Mult(args):\n",
    "    print('Initializations')\n",
    "    gen=[]\n",
    "    gen_file=[]\n",
    "    NSGA_files=[]\n",
    "    root_folder=[]\n",
    "    pictures_folder=[]\n",
    "    pictures_folder_pareto=[]\n",
    "    pictures_folder_filter=[]\n",
    "    pictures_folder_filter_shape=[]\n",
    "    \n",
    "    c=0\n",
    "    for fol in args.folder:\n",
    "        root_folder.append(fol)\n",
    "        gen.append(args.generation[c])\n",
    "        print(gen)\n",
    "        folder_path='/home/greales/Desktop/NSGAIIData/2307/'+root_folder[c] # add path to ROOT/\n",
    "        rf=os.listdir(folder_path)\t\t# get all files in the folder\n",
    "        NSGA_filenames = find_strings_containing_substring(rf, 'NSGAII_') # Get all root files\n",
    "        print(rf)\n",
    "        NSGA_filenames=sort_strings_by_int(NSGA_filenames)\n",
    "        prefix = folder_path+'/'\n",
    "        NSGA_files.append([prefix+s for s in NSGA_filenames])\n",
    "        print(str(gen[c]))\n",
    "        gen_file.append(folder_path+'/'+find_strings_containing_substring(rf, str(gen[c]))[0]) # Get last generation file or given gen.\n",
    "        print('pictures/ROOT/'+root_folder[c]+'/Shape/')\n",
    "        pictures_folder.append('pictures/ROOT/'+root_folder[c]+'/Shape/')\n",
    "        print(pictures_folder)\n",
    "        pictures_folder_pareto.append('pictures/ROOT/'+root_folder[c]+'/Pareto/')\n",
    "        pictures_folder_filter.append('pictures/ROOT/'+root_folder[c]+'/Filter/')\n",
    "        pictures_folder_filter_shape.append('pictures/ROOT/'+root_folder[c]+'/Filter/Shape_gen'+str(gen[c])+'/')\n",
    "\n",
    "        create_folder(pictures_folder[c])  # Create required folders to store pictures\n",
    "        create_folder(pictures_folder_pareto[c])  # Create required folders to store pictures\n",
    "        create_folder(pictures_folder_filter[c])  # Create required folders to store pictures\n",
    "        create_folder(pictures_folder_filter_shape[c])  # Create required folders to store pictures\n",
    "        c+=1\n",
    "        print('### Initializations END')\n",
    "    return gen, gen_file, NSGA_files, root_folder, pictures_folder, pictures_folder_pareto, pictures_folder_filter, pictures_folder_filter_shape\n"
   ]
  },
  {
   "cell_type": "code",
   "execution_count": 3,
   "id": "854b8678-2dcc-4422-b469-a3ce095046ae",
   "metadata": {
    "tags": []
   },
   "outputs": [],
   "source": [
    "# Fill the class with the required inputs:\n",
    "\n",
    "class ArgValues:\n",
    "    def __init__(self):\n",
    "        self.folder = [\"G11_objLC_Acte_NoYSym_ESRBP_SiMP_3x3_68Evts_Spline_23-07-16\",\n",
    "                       \"G11_objLC_Acte_NoYSym_ESRBP_SiMP_3x6_68Evts_Spline_23-07-17\",\n",
    "                       \"G11_objLCP50_Acte_NoYSym_ESRBP_SiMP_3x3_60Evts_Spline_23-07-19\",\n",
    "                      \"G11_objLOP50_Acte_NoYSym_ESRBP_SiMP_3x3_60Evts_Spline_23-07-24\",\n",
    "                      \"G11_objLStP50_Acte_NoYSym_ESRBP_SiMP_3x3_60Evts_Spline_23-07-27\",\n",
    "                      \"G11_objLStAvg_Acte_NoYSym_ESRBP_SiMP_3x3_60Evts_Spline_23-08-03\"]\n",
    "        #self.folder = \"G11_objLC_Acte_YSym_SiMPmatch6mm_68Evts_Spline_23-02-09\"\n",
    "        #self.folder =\"G11_objLC_Acte_NoYSym_SiMPmatch3_6mm_68Evts_Spline_23-02-12\"\n",
    "        self.generation = [32,11,13,100,99,21]\n",
    "        self.Ysym = [1,1,1,1,1,1]\n",
    "        self.LYSOL = [1,1,1,1,1,1]\n",
    "        self.save = 1\n",
    "        self.Shape = 0\n",
    "        self.ParetoFrontier = 0\n",
    "        self.Filter = 1\n",
    "        self.LaunchIndv = 0\n",
    "args0=ArgValues()"
   ]
  },
  {
   "cell_type": "code",
   "execution_count": 4,
   "id": "9a5cf105-4207-46df-987a-d0fedb3deb83",
   "metadata": {
    "tags": []
   },
   "outputs": [
    {
     "name": "stdout",
     "output_type": "stream",
     "text": [
      "Initializations\n",
      "[32]\n",
      "['NSGAII_3.root', 'NSGAII_14.root', 'NSGAII_11.root', 'NSGAII_17.root', 'NSGAII_2.root', 'NSGAII_0.root', 'NSGAII_5.root', 'NSGAII_12.root', 'NSGAII_16.root', 'NSGAII_8.root', 'NSGAII_7.root', 'NSGAII_29.root', 'NSGAII_26.root', 'NSGAII_13.root', 'NSGAII_4.root', 'NSGAII_18.root', 'NSGAII_27.root', 'NSGAII_28.root', 'NSGAII_9.root', 'NSGAII_10.root', 'NSGAII_31.root', 'NSGAII_20.root', 'NSGAII_25.root', 'NSGAII_32.root', 'NSGAII_24.root', 'NSGAII_30.root', 'NSGAII_22.root', 'NSGAII_23.root', 'NSGAII_1.root', 'NSGAII_6.root', 'NSGAII_19.root', 'NSGAII_15.root', 'NSGAII_21.root']\n",
      "32\n",
      "pictures/ROOT/G11_objLC_Acte_NoYSym_ESRBP_SiMP_3x3_68Evts_Spline_23-07-16/Shape/\n",
      "['pictures/ROOT/G11_objLC_Acte_NoYSym_ESRBP_SiMP_3x3_68Evts_Spline_23-07-16/Shape/']\n",
      "pictures/ROOT/G11_objLC_Acte_NoYSym_ESRBP_SiMP_3x3_68Evts_Spline_23-07-16/Shape/ already exists.\n",
      "pictures/ROOT/G11_objLC_Acte_NoYSym_ESRBP_SiMP_3x3_68Evts_Spline_23-07-16/Pareto/ already exists.\n",
      "pictures/ROOT/G11_objLC_Acte_NoYSym_ESRBP_SiMP_3x3_68Evts_Spline_23-07-16/Filter/ already exists.\n",
      "pictures/ROOT/G11_objLC_Acte_NoYSym_ESRBP_SiMP_3x3_68Evts_Spline_23-07-16/Filter/Shape_gen32/ already exists.\n",
      "### Initializations END\n",
      "[32, 11]\n",
      "['NSGAII_3.root', 'NSGAII_11.root', 'NSGAII_2.root', 'NSGAII_0.root', 'NSGAII_5.root', 'NSGAII_8.root', 'NSGAII_7.root', 'NSGAII_4.root', 'NSGAII_9.root', 'NSGAII_10.root', 'NSGAII_1.root', 'NSGAII_6.root']\n",
      "11\n",
      "pictures/ROOT/G11_objLC_Acte_NoYSym_ESRBP_SiMP_3x6_68Evts_Spline_23-07-17/Shape/\n",
      "['pictures/ROOT/G11_objLC_Acte_NoYSym_ESRBP_SiMP_3x3_68Evts_Spline_23-07-16/Shape/', 'pictures/ROOT/G11_objLC_Acte_NoYSym_ESRBP_SiMP_3x6_68Evts_Spline_23-07-17/Shape/']\n",
      "pictures/ROOT/G11_objLC_Acte_NoYSym_ESRBP_SiMP_3x6_68Evts_Spline_23-07-17/Shape/ already exists.\n",
      "pictures/ROOT/G11_objLC_Acte_NoYSym_ESRBP_SiMP_3x6_68Evts_Spline_23-07-17/Pareto/ already exists.\n",
      "pictures/ROOT/G11_objLC_Acte_NoYSym_ESRBP_SiMP_3x6_68Evts_Spline_23-07-17/Filter/ already exists.\n",
      "pictures/ROOT/G11_objLC_Acte_NoYSym_ESRBP_SiMP_3x6_68Evts_Spline_23-07-17/Filter/Shape_gen11/ already exists.\n",
      "### Initializations END\n",
      "[32, 11, 13]\n",
      "['NSGAII_3.root', 'NSGAII_14.root', 'NSGAII_11.root', 'NSGAII_17.root', 'NSGAII_2.root', 'NSGAII_0.root', 'NSGAII_38.root', 'NSGAII_43.root', 'NSGAII_42.root', 'NSGAII_5.root', 'NSGAII_35.root', 'NSGAII_12.root', 'NSGAII_16.root', 'NSGAII_48.root', 'NSGAII_8.root', 'NSGAII_39.root', 'NSGAII_7.root', 'NSGAII_29.root', 'NSGAII_26.root', 'NSGAII_13.root', 'NSGAII_4.root', 'NSGAII_18.root', 'NSGAII_27.root', 'NSGAII_47.root', 'NSGAII_28.root', 'NSGAII_40.root', 'NSGAII_51.root', 'NSGAII_49.root', 'NSGAII_50.root', 'NSGAII_9.root', 'NSGAII_10.root', 'NSGAII_31.root', 'NSGAII_20.root', 'NSGAII_44.root', 'NSGAII_37.root', 'NSGAII_25.root', 'NSGAII_32.root', 'NSGAII_24.root', 'NSGAII_30.root', 'NSGAII_36.root', 'NSGAII_22.root', 'NSGAII_23.root', 'NSGAII_45.root', 'NSGAII_34.root', 'NSGAII_1.root', 'NSGAII_6.root', 'NSGAII_46.root', 'NSGAII_19.root', 'NSGAII_15.root', 'NSGAII_33.root', 'NSGAII_41.root', 'NSGAII_21.root']\n",
      "13\n",
      "pictures/ROOT/G11_objLCP50_Acte_NoYSym_ESRBP_SiMP_3x3_60Evts_Spline_23-07-19/Shape/\n",
      "['pictures/ROOT/G11_objLC_Acte_NoYSym_ESRBP_SiMP_3x3_68Evts_Spline_23-07-16/Shape/', 'pictures/ROOT/G11_objLC_Acte_NoYSym_ESRBP_SiMP_3x6_68Evts_Spline_23-07-17/Shape/', 'pictures/ROOT/G11_objLCP50_Acte_NoYSym_ESRBP_SiMP_3x3_60Evts_Spline_23-07-19/Shape/']\n",
      "pictures/ROOT/G11_objLCP50_Acte_NoYSym_ESRBP_SiMP_3x3_60Evts_Spline_23-07-19/Shape/ already exists.\n",
      "pictures/ROOT/G11_objLCP50_Acte_NoYSym_ESRBP_SiMP_3x3_60Evts_Spline_23-07-19/Pareto/ already exists.\n",
      "pictures/ROOT/G11_objLCP50_Acte_NoYSym_ESRBP_SiMP_3x3_60Evts_Spline_23-07-19/Filter/ already exists.\n",
      "pictures/ROOT/G11_objLCP50_Acte_NoYSym_ESRBP_SiMP_3x3_60Evts_Spline_23-07-19/Filter/Shape_gen13/ already exists.\n",
      "### Initializations END\n",
      "[32, 11, 13, 100]\n",
      "['NSGAII_193.root', 'NSGAII_189.root', 'NSGAII_109.root', 'NSGAII_166.root', 'NSGAII_55.root', 'NSGAII_186.root', 'NSGAII_220.root', 'NSGAII_132.root', 'NSGAII_222.root', 'NSGAII_206.root', 'NSGAII_140.root', 'NSGAII_3.root', 'NSGAII_105.root', 'NSGAII_90.root', 'NSGAII_139.root', 'NSGAII_14.root', 'NSGAII_196.root', 'NSGAII_11.root', 'NSGAII_17.root', 'NSGAII_177.root', 'NSGAII_224.root', 'NSGAII_103.root', 'NSGAII_116.root', 'NSGAII_77.root', 'NSGAII_172.root', 'NSGAII_148.root', 'NSGAII_144.root', 'NSGAII_165.root', 'NSGAII_185.root', 'NSGAII_87.root', 'NSGAII_61.root', 'NSGAII_2.root', 'NSGAII_175.root', 'NSGAII_194.root', 'NSGAII_0.root', 'NSGAII_102.root', 'NSGAII_159.root', 'NSGAII_38.root', 'NSGAII_145.root', 'NSGAII_72.root', 'NSGAII_191.root', 'NSGAII_43.root', 'NSGAII_81.root', 'NSGAII_217.root', 'NSGAII_68.root', 'NSGAII_146.root', 'NSGAII_42.root', 'NSGAII_93.root', 'NSGAII_124.root', 'NSGAII_125.root', 'NSGAII_163.root', 'NSGAII_154.root', 'NSGAII_5.root', 'NSGAII_35.root', 'NSGAII_12.root', 'NSGAII_16.root', 'NSGAII_84.root', 'NSGAII_133.root', 'NSGAII_48.root', 'NSGAII_8.root', 'NSGAII_182.root', 'NSGAII_153.root', 'NSGAII_39.root', 'NSGAII_119.root', 'NSGAII_7.root', 'NSGAII_104.root', 'NSGAII_29.root', 'NSGAII_136.root', 'NSGAII_111.root', 'NSGAII_58.root', 'NSGAII_199.root', 'NSGAII_26.root', 'NSGAII_13.root', 'NSGAII_126.root', 'NSGAII_4.root', 'NSGAII_63.root', 'NSGAII_56.root', 'NSGAII_150.root', 'NSGAII_115.root', 'NSGAII_123.root', 'NSGAII_168.root', 'NSGAII_173.root', 'NSGAII_176.root', 'NSGAII_195.root', 'NSGAII_80.root', 'NSGAII_59.root', 'NSGAII_147.root', 'NSGAII_57.root', 'NSGAII_225.root', 'NSGAII_18.root', 'NSGAII_211.root', 'NSGAII_65.root', 'NSGAII_27.root', 'NSGAII_212.root', 'NSGAII_69.root', 'NSGAII_47.root', 'NSGAII_141.root', 'NSGAII_28.root', 'NSGAII_134.root', 'NSGAII_218.root', 'NSGAII_40.root', 'NSGAII_51.root', 'NSGAII_210.root', 'NSGAII_190.root', 'NSGAII_130.root', 'NSGAII_201.root', 'NSGAII_174.root', 'NSGAII_49.root', 'NSGAII_131.root', 'NSGAII_50.root', 'NSGAII_9.root', 'NSGAII_99.root', 'NSGAII_62.root', 'NSGAII_10.root', 'NSGAII_88.root', 'NSGAII_149.root', 'NSGAII_135.root', 'NSGAII_70.root', 'NSGAII_183.root', 'NSGAII_200.root', 'NSGAII_129.root', 'NSGAII_31.root', 'NSGAII_20.root', 'NSGAII_66.root', 'NSGAII_52.root', 'NSGAII_216.root', 'NSGAII_108.root', 'NSGAII_54.root', 'NSGAII_223.root', 'NSGAII_203.root', 'NSGAII_86.root', 'NSGAII_155.root', 'NSGAII_117.root', 'NSGAII_96.root', 'NSGAII_44.root', 'NSGAII_37.root', 'NSGAII_161.root', 'NSGAII_82.root', 'NSGAII_92.root', 'NSGAII_198.root', 'NSGAII_197.root', 'NSGAII_75.root', 'NSGAII_221.root', 'NSGAII_184.root', 'NSGAII_25.root', 'NSGAII_204.root', 'NSGAII_215.root', 'NSGAII_32.root', 'NSGAII_73.root', 'NSGAII_213.root', 'NSGAII_64.root', 'NSGAII_24.root', 'NSGAII_208.root', 'NSGAII_30.root', 'NSGAII_180.root', 'NSGAII_137.root', 'NSGAII_74.root', 'NSGAII_214.root', 'NSGAII_207.root', 'NSGAII_162.root', 'NSGAII_152.root', 'NSGAII_78.root', 'NSGAII_71.root', 'NSGAII_94.root', 'NSGAII_36.root', 'NSGAII_113.root', 'NSGAII_219.root', 'NSGAII_89.root', 'NSGAII_79.root', 'NSGAII_106.root', 'NSGAII_22.root', 'NSGAII_167.root', 'NSGAII_151.root', 'NSGAII_100.root', 'NSGAII_157.root', 'NSGAII_188.root', 'NSGAII_171.root', 'NSGAII_23.root', 'NSGAII_202.root', 'NSGAII_95.root', 'NSGAII_178.root', 'NSGAII_91.root', 'NSGAII_181.root', 'NSGAII_118.root', 'NSGAII_187.root', 'NSGAII_143.root', 'NSGAII_122.root', 'NSGAII_85.root', 'NSGAII_45.root', 'NSGAII_192.root', 'NSGAII_34.root', 'NSGAII_170.root', 'NSGAII_121.root', 'NSGAII_76.root', 'NSGAII_164.root', 'NSGAII_60.root', 'NSGAII_1.root', 'NSGAII_142.root', 'NSGAII_6.root', 'NSGAII_156.root', 'NSGAII_46.root', 'NSGAII_19.root', 'NSGAII_205.root', 'NSGAII_128.root', 'NSGAII_127.root', 'NSGAII_114.root', 'NSGAII_101.root', 'NSGAII_169.root', 'NSGAII_209.root', 'NSGAII_15.root', 'NSGAII_33.root', 'NSGAII_41.root', 'NSGAII_98.root', 'NSGAII_53.root', 'NSGAII_158.root', 'NSGAII_138.root', 'NSGAII_21.root', 'NSGAII_83.root', 'NSGAII_112.root', 'NSGAII_179.root', 'NSGAII_110.root', 'NSGAII_67.root', 'NSGAII_107.root', 'NSGAII_120.root', 'NSGAII_97.root', 'NSGAII_160.root']\n",
      "100\n",
      "pictures/ROOT/G11_objLOP50_Acte_NoYSym_ESRBP_SiMP_3x3_60Evts_Spline_23-07-24/Shape/\n",
      "['pictures/ROOT/G11_objLC_Acte_NoYSym_ESRBP_SiMP_3x3_68Evts_Spline_23-07-16/Shape/', 'pictures/ROOT/G11_objLC_Acte_NoYSym_ESRBP_SiMP_3x6_68Evts_Spline_23-07-17/Shape/', 'pictures/ROOT/G11_objLCP50_Acte_NoYSym_ESRBP_SiMP_3x3_60Evts_Spline_23-07-19/Shape/', 'pictures/ROOT/G11_objLOP50_Acte_NoYSym_ESRBP_SiMP_3x3_60Evts_Spline_23-07-24/Shape/']\n",
      "pictures/ROOT/G11_objLOP50_Acte_NoYSym_ESRBP_SiMP_3x3_60Evts_Spline_23-07-24/Shape/ already exists.\n",
      "pictures/ROOT/G11_objLOP50_Acte_NoYSym_ESRBP_SiMP_3x3_60Evts_Spline_23-07-24/Pareto/ already exists.\n",
      "pictures/ROOT/G11_objLOP50_Acte_NoYSym_ESRBP_SiMP_3x3_60Evts_Spline_23-07-24/Filter/ already exists.\n",
      "pictures/ROOT/G11_objLOP50_Acte_NoYSym_ESRBP_SiMP_3x3_60Evts_Spline_23-07-24/Filter/Shape_gen100/ already exists.\n",
      "### Initializations END\n",
      "[32, 11, 13, 100, 99]\n",
      "['NSGAII_55.root', 'NSGAII_3.root', 'NSGAII_90.root', 'NSGAII_14.root', 'NSGAII_11.root', 'NSGAII_17.root', 'NSGAII_77.root', 'NSGAII_87.root', 'NSGAII_61.root', 'NSGAII_2.root', 'NSGAII_0.root', 'NSGAII_38.root', 'NSGAII_72.root', 'NSGAII_43.root', 'NSGAII_81.root', 'NSGAII_68.root', 'NSGAII_42.root', 'NSGAII_93.root', 'NSGAII_5.root', 'NSGAII_35.root', 'NSGAII_12.root', 'NSGAII_16.root', 'NSGAII_84.root', 'NSGAII_48.root', 'NSGAII_8.root', 'NSGAII_39.root', 'NSGAII_7.root', 'NSGAII_29.root', 'NSGAII_58.root', 'NSGAII_26.root', 'NSGAII_13.root', 'NSGAII_4.root', 'NSGAII_63.root', 'NSGAII_56.root', 'NSGAII_80.root', 'NSGAII_59.root', 'NSGAII_57.root', 'NSGAII_18.root', 'NSGAII_65.root', 'NSGAII_27.root', 'NSGAII_69.root', 'NSGAII_47.root', 'NSGAII_28.root', 'NSGAII_40.root', 'NSGAII_51.root', 'NSGAII_49.root', 'NSGAII_50.root', 'NSGAII_9.root', 'NSGAII_99.root', 'NSGAII_62.root', 'NSGAII_10.root', 'NSGAII_88.root', 'NSGAII_70.root', 'NSGAII_31.root', 'NSGAII_20.root', 'NSGAII_66.root', 'NSGAII_52.root', 'NSGAII_54.root', 'NSGAII_86.root', 'NSGAII_96.root', 'NSGAII_44.root', 'NSGAII_37.root', 'NSGAII_82.root', 'NSGAII_92.root', 'NSGAII_75.root', 'NSGAII_25.root', 'NSGAII_32.root', 'NSGAII_73.root', 'NSGAII_64.root', 'NSGAII_24.root', 'NSGAII_30.root', 'NSGAII_74.root', 'NSGAII_78.root', 'NSGAII_71.root', 'NSGAII_94.root', 'NSGAII_36.root', 'NSGAII_89.root', 'NSGAII_79.root', 'NSGAII_22.root', 'NSGAII_23.root', 'NSGAII_95.root', 'NSGAII_91.root', 'NSGAII_85.root', 'NSGAII_45.root', 'NSGAII_34.root', 'NSGAII_76.root', 'NSGAII_60.root', 'NSGAII_1.root', 'NSGAII_6.root', 'NSGAII_46.root', 'NSGAII_19.root', 'NSGAII_15.root', 'NSGAII_33.root', 'NSGAII_41.root', 'NSGAII_98.root', 'NSGAII_53.root', 'NSGAII_21.root', 'NSGAII_83.root', 'NSGAII_67.root', 'NSGAII_97.root']\n",
      "99\n",
      "pictures/ROOT/G11_objLStP50_Acte_NoYSym_ESRBP_SiMP_3x3_60Evts_Spline_23-07-27/Shape/\n",
      "['pictures/ROOT/G11_objLC_Acte_NoYSym_ESRBP_SiMP_3x3_68Evts_Spline_23-07-16/Shape/', 'pictures/ROOT/G11_objLC_Acte_NoYSym_ESRBP_SiMP_3x6_68Evts_Spline_23-07-17/Shape/', 'pictures/ROOT/G11_objLCP50_Acte_NoYSym_ESRBP_SiMP_3x3_60Evts_Spline_23-07-19/Shape/', 'pictures/ROOT/G11_objLOP50_Acte_NoYSym_ESRBP_SiMP_3x3_60Evts_Spline_23-07-24/Shape/', 'pictures/ROOT/G11_objLStP50_Acte_NoYSym_ESRBP_SiMP_3x3_60Evts_Spline_23-07-27/Shape/']\n",
      "pictures/ROOT/G11_objLStP50_Acte_NoYSym_ESRBP_SiMP_3x3_60Evts_Spline_23-07-27/Shape/ already exists.\n",
      "pictures/ROOT/G11_objLStP50_Acte_NoYSym_ESRBP_SiMP_3x3_60Evts_Spline_23-07-27/Pareto/ already exists.\n",
      "pictures/ROOT/G11_objLStP50_Acte_NoYSym_ESRBP_SiMP_3x3_60Evts_Spline_23-07-27/Filter/ already exists.\n",
      "pictures/ROOT/G11_objLStP50_Acte_NoYSym_ESRBP_SiMP_3x3_60Evts_Spline_23-07-27/Filter/Shape_gen99/ already exists.\n",
      "### Initializations END\n",
      "[32, 11, 13, 100, 99, 21]\n",
      "['NSGAII_3.root', 'NSGAII_14.root', 'NSGAII_11.root', 'NSGAII_17.root', 'NSGAII_2.root', 'NSGAII_0.root', 'NSGAII_38.root', 'NSGAII_43.root', 'NSGAII_42.root', 'NSGAII_5.root', 'NSGAII_35.root', 'NSGAII_12.root', 'NSGAII_16.root', 'NSGAII_8.root', 'NSGAII_39.root', 'NSGAII_7.root', 'NSGAII_29.root', 'NSGAII_26.root', 'NSGAII_13.root', 'NSGAII_4.root', 'NSGAII_18.root', 'NSGAII_27.root', 'NSGAII_28.root', 'NSGAII_40.root', 'NSGAII_9.root', 'NSGAII_10.root', 'NSGAII_31.root', 'NSGAII_20.root', 'NSGAII_44.root', 'NSGAII_37.root', 'NSGAII_25.root', 'NSGAII_32.root', 'NSGAII_24.root', 'NSGAII_30.root', 'NSGAII_36.root', 'NSGAII_22.root', 'NSGAII_23.root', 'NSGAII_45.root', 'NSGAII_34.root', 'NSGAII_1.root', 'NSGAII_6.root', 'NSGAII_46.root', 'NSGAII_19.root', 'NSGAII_15.root', 'NSGAII_33.root', 'NSGAII_41.root', 'NSGAII_21.root']\n",
      "21\n",
      "pictures/ROOT/G11_objLStAvg_Acte_NoYSym_ESRBP_SiMP_3x3_60Evts_Spline_23-08-03/Shape/\n",
      "['pictures/ROOT/G11_objLC_Acte_NoYSym_ESRBP_SiMP_3x3_68Evts_Spline_23-07-16/Shape/', 'pictures/ROOT/G11_objLC_Acte_NoYSym_ESRBP_SiMP_3x6_68Evts_Spline_23-07-17/Shape/', 'pictures/ROOT/G11_objLCP50_Acte_NoYSym_ESRBP_SiMP_3x3_60Evts_Spline_23-07-19/Shape/', 'pictures/ROOT/G11_objLOP50_Acte_NoYSym_ESRBP_SiMP_3x3_60Evts_Spline_23-07-24/Shape/', 'pictures/ROOT/G11_objLStP50_Acte_NoYSym_ESRBP_SiMP_3x3_60Evts_Spline_23-07-27/Shape/', 'pictures/ROOT/G11_objLStAvg_Acte_NoYSym_ESRBP_SiMP_3x3_60Evts_Spline_23-08-03/Shape/']\n",
      "pictures/ROOT/G11_objLStAvg_Acte_NoYSym_ESRBP_SiMP_3x3_60Evts_Spline_23-08-03/Shape/ already exists.\n",
      "pictures/ROOT/G11_objLStAvg_Acte_NoYSym_ESRBP_SiMP_3x3_60Evts_Spline_23-08-03/Pareto/ already exists.\n",
      "pictures/ROOT/G11_objLStAvg_Acte_NoYSym_ESRBP_SiMP_3x3_60Evts_Spline_23-08-03/Filter/ already exists.\n",
      "pictures/ROOT/G11_objLStAvg_Acte_NoYSym_ESRBP_SiMP_3x3_60Evts_Spline_23-08-03/Filter/Shape_gen21/ already exists.\n",
      "### Initializations END\n"
     ]
    },
    {
     "data": {
      "text/plain": [
       "['/home/greales/Desktop/NSGAIIData/2307/G11_objLC_Acte_NoYSym_ESRBP_SiMP_3x3_68Evts_Spline_23-07-16/NSGAII_32.root',\n",
       " '/home/greales/Desktop/NSGAIIData/2307/G11_objLC_Acte_NoYSym_ESRBP_SiMP_3x6_68Evts_Spline_23-07-17/NSGAII_11.root',\n",
       " '/home/greales/Desktop/NSGAIIData/2307/G11_objLCP50_Acte_NoYSym_ESRBP_SiMP_3x3_60Evts_Spline_23-07-19/NSGAII_13.root',\n",
       " '/home/greales/Desktop/NSGAIIData/2307/G11_objLOP50_Acte_NoYSym_ESRBP_SiMP_3x3_60Evts_Spline_23-07-24/NSGAII_100.root',\n",
       " '/home/greales/Desktop/NSGAIIData/2307/G11_objLStP50_Acte_NoYSym_ESRBP_SiMP_3x3_60Evts_Spline_23-07-27/NSGAII_99.root',\n",
       " '/home/greales/Desktop/NSGAIIData/2307/G11_objLStAvg_Acte_NoYSym_ESRBP_SiMP_3x3_60Evts_Spline_23-08-03/NSGAII_21.root']"
      ]
     },
     "execution_count": 4,
     "metadata": {},
     "output_type": "execute_result"
    }
   ],
   "source": [
    "gen, gen_file, NSGA_files, root_folder, pictures_folder, pictures_folder_pareto, pictures_folder_filter, pictures_folder_filter_shape= Initialization_Mult(args0)\n",
    "gen_file"
   ]
  },
  {
   "cell_type": "code",
   "execution_count": 5,
   "id": "f7978e23-b144-4225-9908-9cc903fcfc77",
   "metadata": {
    "tags": []
   },
   "outputs": [
    {
     "name": "stdout",
     "output_type": "stream",
     "text": [
      "### Filter - PF\n"
     ]
    },
    {
     "data": {
      "image/png": "[encoded data removed]",
      "text/plain": [
       "<Figure size 640x480 with 1 Axes>"
      ]
     },
     "metadata": {},
     "output_type": "display_data"
    }
   ],
   "source": [
    "\t##############\n",
    "\t### FILTER ###\n",
    "\t##############\n",
    "print('### Filter - PF')\n",
    "fig1, ax1 = plt.subplots()\n",
    "\n",
    "def plt_filtered_PF(fig1,ax1,gen_file,colorf,colore,lab='',mk='o'):\n",
    "    # Get required input for plotting the crystal shapes\n",
    "    num_indv,num_vars,obj1,obj2,vars_tuple,lstvars = GetRootVariables(gen_file)\n",
    "    obj1f,obj2f,idxf=filter_values(obj1,obj2,5,1)\n",
    "    print(idxf)\n",
    "    #ax1.errorbar(obj1f,obj2f, fmt='o', capsize=3)\n",
    "    ax1.scatter(obj1f,obj2f, s=19, c=colorf, edgecolor=colore, marker=mk,label=lab)\n",
    "#    ax.errorbar(x, y, xerr=xerr, fmt='o', capsize=3)\n"
   ]
  },
  {
   "cell_type": "code",
   "execution_count": 6,
   "id": "071bf0c5-2c42-4354-9b82-54d000f93181",
   "metadata": {
    "tags": []
   },
   "outputs": [
    {
     "name": "stdout",
     "output_type": "stream",
     "text": [
      "['/home/greales/Desktop/NSGAIIData/2307/G11_objLC_Acte_NoYSym_ESRBP_SiMP_3x3_68Evts_Spline_23-07-16/NSGAII_8.root', '/home/greales/Desktop/NSGAIIData/2307/G11_objLC_Acte_NoYSym_ESRBP_SiMP_3x6_68Evts_Spline_23-07-17/NSGAII_8.root', '/home/greales/Desktop/NSGAIIData/2307/G11_objLCP50_Acte_NoYSym_ESRBP_SiMP_3x3_60Evts_Spline_23-07-19/NSGAII_8.root', '/home/greales/Desktop/NSGAIIData/2307/G11_objLOP50_Acte_NoYSym_ESRBP_SiMP_3x3_60Evts_Spline_23-07-24/NSGAII_8.root', '/home/greales/Desktop/NSGAIIData/2307/G11_objLStP50_Acte_NoYSym_ESRBP_SiMP_3x3_60Evts_Spline_23-07-27/NSGAII_8.root', '/home/greales/Desktop/NSGAIIData/2307/G11_objLStAvg_Acte_NoYSym_ESRBP_SiMP_3x3_60Evts_Spline_23-08-03/NSGAII_12.root']\n"
     ]
    }
   ],
   "source": [
    "# Get required input for plotting the crystal shapes\n",
    "ind=0\n",
    "folder_path='/home/greales/Desktop/NSGAIIData/2307/'\n",
    "folder = [\"G11_objLC_Acte_NoYSym_ESRBP_SiMP_3x3_68Evts_Spline_23-07-16\",\n",
    "                       \"G11_objLC_Acte_NoYSym_ESRBP_SiMP_3x6_68Evts_Spline_23-07-17\",\n",
    "                       \"G11_objLCP50_Acte_NoYSym_ESRBP_SiMP_3x3_60Evts_Spline_23-07-19\",\n",
    "                      \"G11_objLOP50_Acte_NoYSym_ESRBP_SiMP_3x3_60Evts_Spline_23-07-24\",\n",
    "                      \"G11_objLStP50_Acte_NoYSym_ESRBP_SiMP_3x3_60Evts_Spline_23-07-27\",\n",
    "                      \"G11_objLStAvg_Acte_NoYSym_ESRBP_SiMP_3x3_60Evts_Spline_23-08-03\"]\n",
    "\n",
    "shortname=['LCAvg','LC3x6Avg','LCP50','LOP50','LStP50','LstAvg']\n",
    "gen=[8,8,8,8,8,12]\n",
    "fnames='NSGAII_'\n",
    "gen_file=[folder_path+fi+'/'+fnames+str(g)+'.root' for fi,g in zip(folder,gen)]\n",
    "print(gen_file)\n",
    "def crystalcoords_mult(gen_file,arg0,ind,vol):\n",
    "    num_indv,num_vars,obj1,obj2,vars_tuple,lstvars = GetRootVariables(gen_file[ind])\n",
    "    obj1f,obj2f,idxf=filter_values(obj1,obj2,40)\n",
    "    #print(obj2f)\n",
    "    closest, closest_index=closest_value(obj2f,vol)\n",
    "    #print('### Objective values: ',obj2f[closest_index-1],' ', obj1f[closest_index-1],' ',obj1f[closest_index-1]/obj2f[closest_index-1])\n",
    "    print('### Objective values: ',closest,' ' ,closest_index,' ', obj1f[closest_index],' ',obj1f[closest_index]/obj2f[closest_index])\n",
    "    #print(obj2f[closest_index+1],' ', obj1f[closest_index+1],' ',obj1f[closest_index+1]/obj2f[closest_index+1])\n",
    "    original_idx = idxf[closest_index]\n",
    "    print(vars_tuple[original_idx])\n",
    "\n",
    "    Zhalf=28.5\n",
    "    Yhalf=1.5\n",
    "    #with original_idx as indv:\t### optional variable arguments\n",
    "    indv = original_idx\n",
    "    ### get spline control points for different scenarions\n",
    "    args=arg0\n",
    "    legend_text='\\nVolume: '+str(int(obj2f[closest_index]))+'\\\\si{\\cubic\\milli\\meter}'+'\\nLC: '+str(int(-obj1f[closest_index]))+'[ph]'\n",
    "    if(args.Ysym[ind]==1):\n",
    "        print(\"NoYSym\")\n",
    "        if (args.LYSOL[ind]==1):\n",
    "            print(\"LYSOL\")\n",
    "            #print(\"Length:\",vars_tuple)\n",
    "            xtop,ytop,xbot,ybot = SplinePts_NoYSym_L(num_vars-1,vars_tuple,Yhalf,indv)\n",
    "        else:\n",
    "            xtop,ytop,xbot,ybot = SplinePts_NoYSym(num_vars,vars_tuple,Zhalf,Yhalf,indv)\t\t\t\t\n",
    "    else:\n",
    "        print(\"YSym\")\n",
    "        if (args.LYSOL[ind]==1):\n",
    "            print(\"LYSOL\")\n",
    "            #print(\"Length:\",vars_tuple)\n",
    "            xtop,ytop,xbot,ybot = SplinePts_YSym_L(num_vars-1,vars_tuple,Yhalf,indv)\n",
    "        else:\n",
    "            xtop,ytop,xbot,ybot = SplinePts_YSym(num_vars,vars_tuple,Yhalf,Zhalf,indv)\n",
    "    return xtop,ytop,xbot,ybot,legend_text\n",
    "\n"
   ]
  },
  {
   "cell_type": "code",
   "execution_count": 7,
   "id": "0d9891d5-a3c4-40b1-b0cc-114206a0d257",
   "metadata": {
    "tags": []
   },
   "outputs": [],
   "source": [
    "# Get required input for plotting the crystal shapes\n",
    "ind=0\n",
    "def crystalcoords_mult(gen_file,arg0,ind,vol):\n",
    "    num_indv,num_vars,obj1,obj2,vars_tuple,lstvars = GetRootVariables(gen_file[ind])\n",
    "    obj1f,obj2f,idxf=filter_values(obj1,obj2,40)\n",
    "    #print(obj2f)\n",
    "    closest, closest_index=closest_value(obj2f,vol)\n",
    "    #print('### Objective values: ',obj2f[closest_index-1],' ', obj1f[closest_index-1],' ',obj1f[closest_index-1]/obj2f[closest_index-1])\n",
    "    print('### Objective values: ',closest,' ' ,closest_index,' ', obj1f[closest_index],' ',obj1f[closest_index]/obj2f[closest_index])\n",
    "    #print(obj2f[closest_index+1],' ', obj1f[closest_index+1],' ',obj1f[closest_index+1]/obj2f[closest_index+1])\n",
    "    original_idx = idxf[closest_index]\n",
    "    #print(vars_tuple[original_idx])\n",
    "\n",
    "    Zhalf=28.5\n",
    "    Yhalf=1.5\n",
    "    #with original_idx as indv:\t### optional variable arguments\n",
    "    indv = original_idx\n",
    "    ### get spline control points for different scenarions\n",
    "    args=arg0\n",
    "    legend_text='\\nVolume: '+str(int(obj2f[closest_index]))+'\\\\si{\\cubic\\milli\\meter}'+'\\nLC: '+str(int(-obj1f[closest_index]))+'[ph]'\n",
    "    if(args.Ysym[ind]==1):\n",
    "        print(\"NoYSym\")\n",
    "        if (args.LYSOL[ind]==1):\n",
    "            print(\"LYSOL\")\n",
    "            #print(\"Length:\",vars_tuple)\n",
    "            xtop,ytop,xbot,ybot = SplinePts_NoYSym_L(num_vars-1,vars_tuple,Yhalf,indv)\n",
    "        else:\n",
    "            xtop,ytop,xbot,ybot = SplinePts_NoYSym(num_vars,vars_tuple,Zhalf,Yhalf,indv)\t\t\t\t\n",
    "    else:\n",
    "        print(\"YSym\")\n",
    "        if (args.LYSOL[ind]==1):\n",
    "            print(\"LYSOL\")\n",
    "            #print(\"Length:\",vars_tuple)\n",
    "            xtop,ytop,xbot,ybot = SplinePts_YSym_L(num_vars-1,vars_tuple,Yhalf,indv)\n",
    "        else:\n",
    "            xtop,ytop,xbot,ybot = SplinePts_YSym(num_vars,vars_tuple,Yhalf,Zhalf,indv)\n",
    "    return xtop,ytop,xbot,ybot,legend_text\n"
   ]
  },
  {
   "cell_type": "code",
   "execution_count": 32,
   "id": "fa34781b-54d9-433f-84ea-0dac9710917f",
   "metadata": {
    "tags": []
   },
   "outputs": [],
   "source": [
    "import matplotlib as mpl\n",
    "\n",
    "def setup_pgf():\n",
    "    pgf_with_latex = {\n",
    "        \"pgf.texsystem\": \"pdflatex\",\n",
    "        \"text.usetex\": True,\n",
    "        \"font.family\": \"serif\",\n",
    "        \"font.serif\": [],\n",
    "        \"font.sans-serif\": [],\n",
    "        \"font.monospace\": [],\n",
    "        \"axes.labelsize\": 10,\n",
    "        \"font.size\": 10,\n",
    "        \"legend.fontsize\": 4,\n",
    "        \"xtick.labelsize\": 10,\n",
    "        \"ytick.labelsize\": 10,\n",
    "        \"pgf.preamble\": \"\\n\".join([\n",
    "            r\"\\usepackage[utf8]{inputenc}\",\n",
    "            r\"\\usepackage[T1]{fontenc}\",\n",
    "            r\"\\usepackage[detect-all]{siunitx}\",\n",
    "        ])\n",
    "    }\n",
    "    mpl.use(\"pgf\")\n",
    "    mpl.rcParams.update(pgf_with_latex)\n",
    " # Set the figure size\n",
    "\n",
    "    # Set the figure size based on LaTeX geometry settings\n",
    "    geometry_textwidth = 384  # pt\n",
    "    pt_to_inch = 1.0 / 72.27  # Conversion factor from points to inches\n",
    "    plot_width = geometry_textwidth * pt_to_inch *0.5\n",
    "    \n",
    "    mpl.rcParams['figure.figsize'] = (plot_width, plot_width*0.9)  # Adjust the height as needed (6 inches in this example)\n",
    "def restore_defaults():\n",
    "    mpl.rcParams.update(mpl.rcParamsDefault)\n",
    "setup_pgf()"
   ]
  },
  {
   "cell_type": "code",
   "execution_count": 8,
   "id": "7318010d-62db-442d-a111-d8b3789efe3a",
   "metadata": {
    "tags": []
   },
   "outputs": [
    {
     "name": "stdout",
     "output_type": "stream",
     "text": [
      "The number of vars per indv is :11\n",
      "The number indv is :200\n",
      "### Objective values:  513.8343485823799   25   -16066.406779661016   -31.267677655234035\n",
      "NoYSym\n",
      "LYSOL\n"
     ]
    },
    {
     "data": {
      "image/png": "[encoded data removed]",
      "text/plain": [
       "<Figure size 265.67x239.103 with 1 Axes>"
      ]
     },
     "metadata": {},
     "output_type": "display_data"
    },
    {
     "data": {
      "text/plain": [
       "<Figure size 640x480 with 0 Axes>"
      ]
     },
     "metadata": {},
     "output_type": "display_data"
    }
   ],
   "source": [
    "geometry_textwidth = 384  # pt\n",
    "pt_to_inch = 1.0 / 72.27  # Conversion factor from points to inches\n",
    "plot_width = geometry_textwidth * pt_to_inch *0.5\n",
    "fig1, ax1 = plt.subplots(figsize=(plot_width, plot_width*0.9))\n",
    "\n",
    "xtop,ytop,xbot,ybot,legend_text = crystalcoords_mult(gen_file,args0,0,513)\n",
    "Plt_Crystal(xtop,ytop,xbot,ybot,fig1,ax1,'gray',lab='SiPM 3\\\\si{\\milli\\meter}x3.75\\\\si{\\milli\\meter}'+legend_text,\n",
    "           lnstyle='-', lnwidth=1, alph=0.8)\n",
    "Plt_DefaultCrystal(fig1,ax1,colori='lightgray',ls='dotted')\n",
    "\n",
    "ax1.plot([-28.5,28.5], [0.375,0.375],color='darkgray',linestyle='dotted')\n",
    "ax1.plot([-28.5,28.5], [-0.375,-0.375],color='darkgray',linestyle='dotted')\n",
    "ax1.plot([-28.5,28.5], [3.375,3.375],color='darkgray',linestyle='dotted')\n",
    "ax1.plot([-28.5,28.5], [-3.375,-3.375],color='darkgray',linestyle='dotted')\n",
    "ax1.plot([-28.5,-28.5], [3.375,-3.375],color='darkgray',linestyle='dotted')\n",
    "ax1.plot([28.5,28.5], [3.375,-3.375],color='darkgray',linestyle='dotted')\n",
    "\n",
    "\n",
    "L1=23\n",
    "x1=28.5*3/L1/2\n",
    "xs=1.5\n",
    "Ls=L1+1.8\n",
    "\n",
    "ax1.plot([-Ls,-L1], [xs,xs],color='darkgray',linestyle='-')\n",
    "ax1.plot([-Ls,-L1], [-xs,-xs],color='darkgray',linestyle='-')\n",
    "ax1.plot([-Ls,-Ls], [xs,-xs],color='darkgray',linestyle='-')\n",
    "ax1.plot([-L1,-L1], [xs,-xs],color='darkgray',linestyle='-')\n",
    "\n",
    "ax1.plot([Ls,L1], [xs,xs],color='darkgray',linestyle='-')\n",
    "ax1.plot([Ls,L1], [-xs,-xs],color='darkgray',linestyle='-')\n",
    "ax1.plot([Ls,Ls], [xs,-xs],color='darkgray',linestyle='-')\n",
    "ax1.plot([L1,L1], [xs,-xs],color='darkgray',linestyle='-')\n",
    "\n",
    "plt.xlim((-32,32))\n",
    "L1=28.5\n",
    "Ls=28.5+1.8\n",
    "\n",
    "ax1.plot([-Ls,-L1], [xs,xs],color='lightgray',linestyle='--')\n",
    "ax1.plot([-Ls,-L1], [-xs,-xs],color='lightgray',linestyle='--')\n",
    "ax1.plot([-Ls,-Ls], [xs,-xs],color='lightgray',linestyle='--')\n",
    "ax1.plot([-L1,-L1], [xs,-xs],color='lightgray',linestyle='--')\n",
    "\n",
    "ax1.plot([Ls,L1], [xs,xs],color='lightgray',linestyle='--')\n",
    "ax1.plot([Ls,L1], [-xs,-xs],color='lightgray',linestyle='--')\n",
    "ax1.plot([Ls,Ls], [xs,-xs],color='lightgray',linestyle='--')\n",
    "ax1.plot([L1,L1], [xs,-xs],color='lightgray',linestyle='--')\n",
    "\n",
    "ax1.plot([0,0], [-2.2,2.2],color='black',linestyle='dashdot')\n",
    "\n",
    "plt.axis('off')\n",
    "\n",
    "#ax1.annotate('x', xy=(0, 0), xytext=(5, 0),\n",
    "#            arrowprops=dict(facecolor='black', shrink=0.05))\n",
    "ax1.annotate('$y_{min}$', xy=(-26, 0.25), xytext=(-20, 0.5))\n",
    "ax1.annotate('$y_{max}$', xy=(-26, 0.25), xytext=(-20, 3.5))\n",
    "ax1.annotate('$y_{0}$', xy=(-26, 0.25), xytext=(-34, 1.6))\n",
    "ax1.annotate('$SiPM_{0}$', xy=(-26, 0.25), xytext=(-35, -0.5),rotation=90, c='gray')\n",
    "#ax1.annotate('$SiPM_{1}$', xy=(-26, 0.25), xytext=(-27, -0.5),rotation=90, c='gray')\n",
    "\n",
    "ax1.annotate('Lateral View', xy=(-26, 0.25), xytext=(3, 3.5), c='black')\n",
    "\n",
    "\n",
    "ax1.annotate('Control Points', xy=(xtop[0]+0.1, ytop[0]+0.1), xytext=(xtop[0]+1, ytop[0]+1.1))\n",
    "ax1.annotate('', xy=([xtop[1]+0.1, ytop[1]+0.1]), xytext=(xtop[0]+15, ytop[0]+00.8),\n",
    "            arrowprops={'arrowstyle': '->'}, va='center')\n",
    "ax1.annotate('', xy=([xtop[2]+0.1, ytop[2]+0.1]), xytext=(xtop[0]+15, ytop[0]+0.8),\n",
    "            arrowprops={'arrowstyle': '->'}, va='center')\n",
    "ax1.annotate('', xy=([xtop[3]+0.1, ytop[3]+0.1]), xytext=(xtop[0]+15, ytop[0]+0.8),\n",
    "            arrowprops={'arrowstyle': '->'}, va='center')\n",
    "\n",
    "\n",
    "ax1.annotate('z', xy=(0,0), xytext=(7,0),\n",
    "            arrowprops={'arrowstyle': '<-'}, va='center')\n",
    "ax1.annotate('y', xy=(2,0), xytext=(0.5,1.5),\n",
    "            arrowprops={'arrowstyle': '<-'}, va='center')\n",
    "#ax1.arrow(0, 0, 3, 0, head_width=0.2)\n",
    "\n",
    "plt.show()\n",
    "plt.draw()\n",
    "\n",
    "fig1.tight_layout()\n",
    "#fig1.savefig(\"Figures/LYSOSplineSchematic.pdf\")\n",
    "plt.savefig(\"Figures/LYSOSplineSchematic.pdf\", bbox_inches='tight')\n"
   ]
  },
  {
   "cell_type": "code",
   "execution_count": 9,
   "id": "c3df7b5a-8759-4896-9a50-3b75658892f5",
   "metadata": {
    "tags": []
   },
   "outputs": [
    {
     "name": "stdout",
     "output_type": "stream",
     "text": [
      "The number of vars per indv is :11\n",
      "The number indv is :200\n",
      "### Objective values:  513.8343485823799   25   -16066.406779661016   -31.267677655234035\n",
      "NoYSym\n",
      "LYSOL\n",
      "[-24.36810697446107, -18.276080230845803, -12.184053487230535, -6.092026743615268, 0.0, 6.092026743615268, 12.184053487230535, 18.276080230845807, 24.36810697446107] [1.524146990035263, 1.790358309735066, 1.2717182505054694, 1.1263567722149805, 2.3816584761107955, 1.1263567722149805, 1.2717182505054694, 1.790358309735066, 1.524146990035263] [-24.36810697446107, -18.276080230845803, -12.184053487230535, -6.092026743615268, 0.0, 6.092026743615268, 12.184053487230535, 18.276080230845807, 24.36810697446107] [-1.461817186258564, -1.0163349875109482, -0.8983108739187773, -2.479729590194857, -1.5295033784567993, -2.479729590194857, -0.8983108739187773, -1.0163349875109482, -1.461817186258564]\n"
     ]
    },
    {
     "data": {
      "image/png": "[encoded data removed]",
      "text/plain": [
       "<Figure size 265.67x239.103 with 1 Axes>"
      ]
     },
     "metadata": {},
     "output_type": "display_data"
    },
    {
     "data": {
      "text/plain": [
       "<Figure size 640x480 with 0 Axes>"
      ]
     },
     "metadata": {},
     "output_type": "display_data"
    }
   ],
   "source": [
    "geometry_textwidth = 384  # pt\n",
    "pt_to_inch = 1.0 / 72.27  # Conversion factor from points to inches\n",
    "plot_width = geometry_textwidth * pt_to_inch *0.5\n",
    "fig1, ax1 = plt.subplots(figsize=(plot_width, plot_width*0.9))\n",
    "\n",
    "xtop,ytop,xbot,ybot,legend_text = crystalcoords_mult(gen_file,args0,0,513)\n",
    "Plt_Crystal(xtop,ytop,xbot,ybot,fig1,ax1,'gray',lab='SiPM 3\\\\si{\\milli\\meter}x3.75\\\\si{\\milli\\meter}'+legend_text,\n",
    "           lnstyle='-', lnwidth=1, alph=0.8)\n",
    "Plt_DefaultCrystal(fig1,ax1,colori='lightgray',ls='dotted')\n",
    "\n",
    "print(xtop,ytop,xbot,ybot)\n",
    "\n",
    "ax1.plot([-28.5,28.5], [0.375,0.375],color='darkgray',linestyle='dotted')\n",
    "ax1.plot([-28.5,28.5], [-0.375,-0.375],color='darkgray',linestyle='dotted')\n",
    "ax1.plot([-28.5,28.5], [3.375,3.375],color='darkgray',linestyle='dotted')\n",
    "ax1.plot([-28.5,28.5], [-3.375,-3.375],color='darkgray',linestyle='dotted')\n",
    "ax1.plot([-28.5,-28.5], [3.375,-3.375],color='darkgray',linestyle='dotted')\n",
    "ax1.plot([28.5,28.5], [3.375,-3.375],color='darkgray',linestyle='dotted')\n",
    "\n",
    "\n",
    "L1=23\n",
    "x1=28.5*3/L1/2\n",
    "xs=1.5\n",
    "Ls=L1+1.8\n",
    "\n",
    "ax1.plot([-Ls,-L1], [xs,xs],color='darkgray',linestyle='-')\n",
    "ax1.plot([-Ls,-L1], [-xs,-xs],color='darkgray',linestyle='-')\n",
    "ax1.plot([-Ls,-Ls], [xs,-xs],color='darkgray',linestyle='-')\n",
    "ax1.plot([-L1,-L1], [xs,-xs],color='darkgray',linestyle='-')\n",
    "\n",
    "ax1.plot([Ls,L1], [xs,xs],color='darkgray',linestyle='-')\n",
    "ax1.plot([Ls,L1], [-xs,-xs],color='darkgray',linestyle='-')\n",
    "ax1.plot([Ls,Ls], [xs,-xs],color='darkgray',linestyle='-')\n",
    "ax1.plot([L1,L1], [xs,-xs],color='darkgray',linestyle='-')\n",
    "\n",
    "plt.xlim((-32,32))\n",
    "L1=28.5\n",
    "Ls=28.5+1.8\n",
    "\n",
    "ax1.plot([-Ls,-L1], [xs,xs],color='lightgray',linestyle='--')\n",
    "ax1.plot([-Ls,-L1], [-xs,-xs],color='lightgray',linestyle='--')\n",
    "ax1.plot([-Ls,-Ls], [xs,-xs],color='lightgray',linestyle='--')\n",
    "ax1.plot([-L1,-L1], [xs,-xs],color='lightgray',linestyle='--')\n",
    "\n",
    "ax1.plot([Ls,L1], [xs,xs],color='lightgray',linestyle='--')\n",
    "ax1.plot([Ls,L1], [-xs,-xs],color='lightgray',linestyle='--')\n",
    "ax1.plot([Ls,Ls], [xs,-xs],color='lightgray',linestyle='--')\n",
    "ax1.plot([L1,L1], [xs,-xs],color='lightgray',linestyle='--')\n",
    "\n",
    "ax1.plot([0,0], [-2.2,2.2],color='black',linestyle='dashdot')\n",
    "\n",
    "plt.axis('off')\n",
    "\n",
    "\n",
    "\n",
    "#ax1.arrow(0, 0, 3, 0, head_width=0.2)\n",
    "\n",
    "plt.show()\n",
    "plt.draw()\n",
    "\n",
    "fig1.tight_layout()\n",
    "#fig1.savefig(\"Figures/LYSOSplineSchematic.pdf\")\n",
    "plt.savefig(\"Figures/LYSOSplineSchematic_empty.pdf\", bbox_inches='tight')\n"
   ]
  },
  {
   "cell_type": "code",
   "execution_count": 10,
   "id": "ba224254-b262-4a0c-8fe8-d10e15371cc9",
   "metadata": {
    "tags": []
   },
   "outputs": [
    {
     "data": {
      "image/png": "[encoded data removed]",
      "text/plain": [
       "<Figure size 265.67x239.103 with 1 Axes>"
      ]
     },
     "metadata": {},
     "output_type": "display_data"
    },
    {
     "data": {
      "text/plain": [
       "<Figure size 640x480 with 0 Axes>"
      ]
     },
     "metadata": {},
     "output_type": "display_data"
    }
   ],
   "source": [
    "geometry_textwidth = 384  # pt\n",
    "pt_to_inch = 1.0 / 72.27  # Conversion factor from points to inches\n",
    "plot_width = geometry_textwidth * pt_to_inch *0.5\n",
    "fig1, ax1 = plt.subplots(figsize=(plot_width, plot_width*0.9))\n",
    "\n",
    "Plt_DefaultCrystal(fig1,ax1,colori='lightgray',ls='dotted')\n",
    "\n",
    "x1=4.75/2\n",
    "xs=1.5\n",
    "L1=18\n",
    "Ls=L1+1.8\n",
    "ax1.plot([-L1,L1], [x1,x1],color='darkgray',linestyle='-')\n",
    "ax1.plot([-L1,L1], [-x1,-x1],color='darkgray',linestyle='-')\n",
    "ax1.plot([-L1,-L1], [x1,-x1],color='darkgray',linestyle='-')\n",
    "ax1.plot([L1,L1], [x1,-x1],color='darkgray',linestyle='-')\n",
    "\n",
    "x1=4.75/2\n",
    "xs=1.5\n",
    "L1=18\n",
    "Ls=L1+1.8\n",
    "ax1.annotate('$2Z_1$', xy=(-L1,xs*1.5), xytext=(+L1,xs*1.5),\n",
    "            arrowprops={'arrowstyle': '<->'}, va='center')\n",
    "\n",
    "ax1.plot([-Ls,-L1], [xs,xs],color='darkgray',linestyle='-')\n",
    "ax1.plot([-Ls,-L1], [-xs,-xs],color='darkgray',linestyle='-')\n",
    "ax1.plot([-Ls,-Ls], [xs,-xs],color='darkgray',linestyle='-')\n",
    "ax1.plot([-L1,-L1], [xs,-xs],color='darkgray',linestyle='-')\n",
    "\n",
    "ax1.plot([Ls,L1], [xs,xs],color='darkgray',linestyle='-')\n",
    "ax1.plot([Ls,L1], [-xs,-xs],color='darkgray',linestyle='-')\n",
    "ax1.plot([Ls,Ls], [xs,-xs],color='darkgray',linestyle='-')\n",
    "ax1.plot([L1,L1], [xs,-xs],color='darkgray',linestyle='-')\n",
    "\n",
    "L1=28.5\n",
    "Ls=28.5+1.8\n",
    "\n",
    "ax1.plot([-Ls,-L1], [xs,xs],color='lightgray',linestyle='--')\n",
    "ax1.plot([-Ls,-L1], [-xs,-xs],color='lightgray',linestyle='--')\n",
    "ax1.plot([-Ls,-Ls], [xs,-xs],color='lightgray',linestyle='--')\n",
    "ax1.plot([-L1,-L1], [xs,-xs],color='lightgray',linestyle='--')\n",
    "\n",
    "ax1.plot([Ls,L1], [xs,xs],color='lightgray',linestyle='--')\n",
    "ax1.plot([Ls,L1], [-xs,-xs],color='lightgray',linestyle='--')\n",
    "ax1.plot([Ls,Ls], [xs,-xs],color='lightgray',linestyle='--')\n",
    "ax1.plot([L1,L1], [xs,-xs],color='lightgray',linestyle='--')\n",
    "\n",
    "ax1.annotate('$z$', xy=(0,0), xytext=(10,0),\n",
    "            arrowprops={'arrowstyle': '<-'}, va='center')\n",
    "ax1.annotate('$x$', xy=(0,0), xytext=(-1.8,1),\n",
    "            arrowprops={'arrowstyle': '<-'}, va='center')\n",
    "\n",
    "ax1.annotate('$2Z_0$', xy=(-28.5,2.5), xytext=(+28.5,2.5),\n",
    "            arrowprops={'arrowstyle': '<->'}, va='center')\n",
    "\n",
    "ax1.annotate('', xy=(+32.5,1.55), xytext=(+32.5,-1.7),\n",
    "            arrowprops={'arrowstyle': '<->'}, va='center', rotation=90)\n",
    "\n",
    "ax1.annotate('', xy=(-32.5,2.4), xytext=(-32.5,-2.6),\n",
    "            arrowprops={'arrowstyle': '<->'}, va='center', rotation=90)\n",
    "ax1.annotate('$X_1$', xy=(-32.5,2.4), xytext=(-37.5,-0.1), rotation=90)\n",
    "ax1.annotate('$X_0$', xy=(-32.5,2.4), xytext=(+35,-0.1), rotation=90)\n",
    "\n",
    "plt.axis('off')\n",
    "\n",
    "plt.show()\n",
    "plt.draw()\n",
    "fig1.tight_layout()\n",
    "plt.savefig(\"Figures/LYSOAreaSchematic.pdf\", bbox_inches='tight')\n"
   ]
  },
  {
   "cell_type": "code",
   "execution_count": 11,
   "id": "0ff20827-964c-4a3e-9e6b-ab3f6bfd6331",
   "metadata": {
    "tags": []
   },
   "outputs": [
    {
     "data": {
      "image/png": "[encoded data removed]",
      "text/plain": [
       "<Figure size 265.67x239.103 with 1 Axes>"
      ]
     },
     "metadata": {},
     "output_type": "display_data"
    },
    {
     "data": {
      "text/plain": [
       "<Figure size 640x480 with 0 Axes>"
      ]
     },
     "metadata": {},
     "output_type": "display_data"
    }
   ],
   "source": [
    "geometry_textwidth = 384  # pt\n",
    "pt_to_inch = 1.0 / 72.27  # Conversion factor from points to inches\n",
    "plot_width = geometry_textwidth * pt_to_inch *0.5\n",
    "fig1, ax1 = plt.subplots(figsize=(plot_width, plot_width*0.9))\n",
    "\n",
    "Plt_DefaultCrystal(fig1,ax1,colori='lightgray',ls='dotted')\n",
    "\n",
    "x1=4.75/2\n",
    "xs=1.5\n",
    "L1=18\n",
    "Ls=L1+1.8\n",
    "ax1.plot([-L1,L1], [x1,x1],color='darkgray',linestyle='-')\n",
    "ax1.plot([-L1,L1], [-x1,-x1],color='darkgray',linestyle='-')\n",
    "ax1.plot([-L1,-L1], [x1,-x1],color='darkgray',linestyle='-')\n",
    "ax1.plot([L1,L1], [x1,-x1],color='darkgray',linestyle='-')\n",
    "\n",
    "x1=4.75/2\n",
    "xs=1.5\n",
    "L1=18\n",
    "Ls=L1+1.8\n",
    "\n",
    "ax1.plot([-Ls,-L1], [xs,xs],color='darkgray',linestyle='-')\n",
    "ax1.plot([-Ls,-L1], [-xs,-xs],color='darkgray',linestyle='-')\n",
    "ax1.plot([-Ls,-Ls], [xs,-xs],color='darkgray',linestyle='-')\n",
    "ax1.plot([-L1,-L1], [xs,-xs],color='darkgray',linestyle='-')\n",
    "\n",
    "ax1.plot([Ls,L1], [xs,xs],color='darkgray',linestyle='-')\n",
    "ax1.plot([Ls,L1], [-xs,-xs],color='darkgray',linestyle='-')\n",
    "ax1.plot([Ls,Ls], [xs,-xs],color='darkgray',linestyle='-')\n",
    "ax1.plot([L1,L1], [xs,-xs],color='darkgray',linestyle='-')\n",
    "\n",
    "L1=28.5\n",
    "Ls=28.5+1.8\n",
    "\n",
    "ax1.plot([-Ls,-L1], [xs,xs],color='lightgray',linestyle='--')\n",
    "ax1.plot([-Ls,-L1], [-xs,-xs],color='lightgray',linestyle='--')\n",
    "ax1.plot([-Ls,-Ls], [xs,-xs],color='lightgray',linestyle='--')\n",
    "ax1.plot([-L1,-L1], [xs,-xs],color='lightgray',linestyle='--')\n",
    "\n",
    "ax1.plot([Ls,L1], [xs,xs],color='lightgray',linestyle='--')\n",
    "ax1.plot([Ls,L1], [-xs,-xs],color='lightgray',linestyle='--')\n",
    "ax1.plot([Ls,Ls], [xs,-xs],color='lightgray',linestyle='--')\n",
    "ax1.plot([L1,L1], [xs,-xs],color='lightgray',linestyle='--')\n",
    "\n",
    "\n",
    "plt.axis('off')\n",
    "\n",
    "plt.show()\n",
    "plt.draw()\n",
    "fig1.tight_layout()\n",
    "plt.savefig(\"Figures/LYSOAreaSchematic_empty.pdf\", bbox_inches='tight')\n"
   ]
  },
  {
   "cell_type": "code",
   "execution_count": 12,
   "id": "783c0b2d-3564-4f37-b856-9263715fafa2",
   "metadata": {
    "tags": []
   },
   "outputs": [
    {
     "data": {
      "image/png": "[encoded data removed]",
      "text/plain": [
       "<Figure size 265.67x239.103 with 1 Axes>"
      ]
     },
     "metadata": {},
     "output_type": "display_data"
    },
    {
     "data": {
      "text/plain": [
       "<Figure size 640x480 with 0 Axes>"
      ]
     },
     "metadata": {},
     "output_type": "display_data"
    }
   ],
   "source": [
    "geometry_textwidth = 384  # pt\n",
    "pt_to_inch = 1.0 / 72.27  # Conversion factor from points to inches\n",
    "plot_width = geometry_textwidth * pt_to_inch *0.5\n",
    "fig1, ax1 = plt.subplots(figsize=(plot_width, plot_width*0.9))\n",
    "\n",
    "Plt_DefaultCrystal(fig1,ax1,colori='lightgray',ls='dotted')\n",
    "\n",
    "x1=4.75/2\n",
    "xs=1.5\n",
    "L1=18\n",
    "Ls=L1+1.8\n",
    "ax1.plot([-L1,L1], [x1,x1],color='darkgray',linestyle='-')\n",
    "ax1.plot([-L1,L1], [-x1,-x1],color='darkgray',linestyle='-')\n",
    "ax1.plot([-L1,-L1], [x1,-x1],color='darkgray',linestyle='-')\n",
    "ax1.plot([L1,L1], [x1,-x1],color='darkgray',linestyle='-')\n",
    "\n",
    "\n",
    "ax1.scatter([-L1,L1,0,0,0,-L1,L1,-L1,L1], [0,0,0,x1,-x1,x1,-x1,-x1,x1],color='darkgray',s=30)\n",
    "\n",
    "ax1.plot([0,L1], [0,x1],color='darkgray',linestyle='--')\n",
    "ax1.plot([0,L1], [0,-x1],color='darkgray',linestyle='--')\n",
    "ax1.plot([0,-L1], [0,+x1],color='darkgray',linestyle='--')\n",
    "ax1.plot([0,-L1], [0,-x1],color='darkgray',linestyle='--')\n",
    "\n",
    "\n",
    "# SiPMs\n",
    "\n",
    "x1=4.75/2\n",
    "xs=0.5\n",
    "L1=5\n",
    "Ls=L1+10\n",
    "\n",
    "ax1.plot([-Ls,-L1], [xs,xs],color='darkgray',linestyle='-')\n",
    "ax1.plot([-Ls,-L1], [-xs,-xs],color='darkgray',linestyle='-')\n",
    "ax1.plot([-Ls,-Ls], [xs,-xs],color='darkgray',linestyle='-')\n",
    "ax1.plot([-L1,-L1], [xs,-xs],color='darkgray',linestyle='-')\n",
    "\n",
    "ax1.plot([Ls,L1], [xs,xs],color='darkgray',linestyle='-')\n",
    "ax1.plot([Ls,L1], [-xs,-xs],color='darkgray',linestyle='-')\n",
    "ax1.plot([Ls,Ls], [xs,-xs],color='darkgray',linestyle='-')\n",
    "ax1.plot([L1,L1], [xs,-xs],color='darkgray',linestyle='-')\n",
    "\n",
    "L1=16\n",
    "Ls=L1+10\n",
    "\n",
    "\n",
    "\n",
    "ax1.plot([0,0], [-3.5,3.5],color='black',linestyle='dashdot')\n",
    "ax1.plot([-30,30], [0,0],color='black',linestyle='dashdot')\n",
    "\n",
    "plt.axis('off')\n",
    "\n",
    "plt.show()\n",
    "plt.draw()\n",
    "fig1.tight_layout()\n",
    "plt.savefig(\"Figures/LYSOAreaSchematic_Tile.pdf\", bbox_inches='tight')\n"
   ]
  },
  {
   "cell_type": "code",
   "execution_count": 34,
   "id": "6d4b7ba4-26dd-40e1-a716-471b92832cc0",
   "metadata": {
    "tags": []
   },
   "outputs": [
    {
     "name": "stderr",
     "output_type": "stream",
     "text": [
      "/tmp/ipykernel_14965/2383387578.py:58: UserWarning: Matplotlib is currently using pgf, which is a non-GUI backend, so cannot show the figure.\n",
      "  plt.show()\n"
     ]
    }
   ],
   "source": [
    "geometry_textwidth = 384  # pt\n",
    "pt_to_inch = 1.0 / 72.27  # Conversion factor from points to inches\n",
    "plot_width = geometry_textwidth * pt_to_inch *0.5\n",
    "fig1, ax1 = plt.subplots(figsize=(plot_width, plot_width*0.9))\n",
    "\n",
    "Plt_DefaultCrystal(fig1,ax1,colori='lightgray',ls='dotted')\n",
    "\n",
    "x1=4.75/2\n",
    "xs=1.5\n",
    "L1=18\n",
    "Ls=L1+1.8\n",
    "\n",
    "\n",
    "\n",
    "\n",
    "ax1.plot([-L1,0], [x1*0.3,x1*1.5],color='darkgray',linestyle='-')\n",
    "ax1.plot([L1,0], [x1*0.3,x1*1.5],color='darkgray',linestyle='-')\n",
    "ax1.plot([L1,0], [-x1*0.2,x1*1.],color='darkgray',linestyle='-')\n",
    "ax1.plot([-L1,0], [-x1*0.2,x1*1.],color='darkgray',linestyle='-')\n",
    "\n",
    "ax1.plot([-L1,0], [-x1*0.2,x1*1.5],color='darkgray',linestyle='--')\n",
    "ax1.plot([0,0], [x1*1.,x1*1.5],color='darkgray',linestyle='-')\n",
    "ax1.plot([0,L1], [x1*1.5,-x1*0.2],color='darkgray',linestyle='--')\n",
    "\n",
    "\n",
    "ax1.plot([-L1,L1], [-xs,-xs],color='darkgray',linestyle='-')\n",
    "ax1.plot([-L1,-L1], [x1*0.3,-xs],color='darkgray',linestyle='-')\n",
    "ax1.plot([L1,L1], [x1*0.3,-xs],color='darkgray',linestyle='-')\n",
    "\n",
    "\n",
    "# SiPMs\n",
    "\n",
    "x1=4.75/2\n",
    "xs=0.15\n",
    "L1=5\n",
    "Ls=L1+10\n",
    "displ=-1.65\n",
    "\n",
    "ax1.plot([-Ls,-L1], [xs+displ,xs+displ],color='darkgray',linestyle='-')\n",
    "ax1.plot([-Ls,-L1], [-xs+displ,-xs+displ],color='darkgray',linestyle='-')\n",
    "ax1.plot([-Ls,-Ls], [xs+displ,-xs+displ],color='darkgray',linestyle='-')\n",
    "ax1.plot([-L1,-L1], [xs+displ,-xs+displ],color='darkgray',linestyle='-')\n",
    "\n",
    "ax1.plot([Ls,L1], [xs+displ,xs+displ],color='darkgray',linestyle='-')\n",
    "ax1.plot([Ls,L1], [-xs+displ,-xs+displ],color='darkgray',linestyle='-')\n",
    "ax1.plot([Ls,Ls], [xs+displ,-xs+displ],color='darkgray',linestyle='-')\n",
    "ax1.plot([L1,L1], [xs+displ,-xs+displ],color='darkgray',linestyle='-')\n",
    "\n",
    "L1=16\n",
    "Ls=L1+10\n",
    "\n",
    "ax1.plot([0,0], [-3.5,3.5],color='black',linestyle='dashdot')\n",
    "\n",
    "plt.axis('off')\n",
    "\n",
    "plt.show()\n",
    "plt.draw()\n",
    "fig1.tight_layout()\n",
    "plt.savefig(\"Figures/LYSOAreaSchematic_TileFront_axis2.pdf\", bbox_inches='tight')\n"
   ]
  },
  {
   "cell_type": "code",
   "execution_count": 13,
   "id": "1572ccbb-bac8-4fb2-a107-c77705863356",
   "metadata": {
    "tags": []
   },
   "outputs": [
    {
     "data": {
      "image/png": "[encoded data removed]",
      "text/plain": [
       "<Figure size 265.67x239.103 with 1 Axes>"
      ]
     },
     "metadata": {},
     "output_type": "display_data"
    },
    {
     "data": {
      "text/plain": [
       "<Figure size 640x480 with 0 Axes>"
      ]
     },
     "metadata": {},
     "output_type": "display_data"
    }
   ],
   "source": [
    "geometry_textwidth = 384  # pt\n",
    "pt_to_inch = 1.0 / 72.27  # Conversion factor from points to inches\n",
    "plot_width = geometry_textwidth * pt_to_inch *0.5\n",
    "fig1, ax1 = plt.subplots(figsize=(plot_width, plot_width*0.9))\n",
    "\n",
    "Plt_DefaultCrystal(fig1,ax1,colori='lightgray',ls='dotted')\n",
    "\n",
    "x1=4.75/2\n",
    "xs=1.5\n",
    "L1=18\n",
    "Ls=L1+1.8\n",
    "\n",
    "\n",
    "\n",
    "\n",
    "ax1.plot([-L1,0], [x1*0.3,x1*1.5],color='darkgray',linestyle='-')\n",
    "ax1.plot([L1,0], [x1*0.3,x1*1.5],color='darkgray',linestyle='-')\n",
    "ax1.plot([L1,0], [x1*0.2,x1*1.2],color='darkgray',linestyle='--')\n",
    "ax1.plot([-L1,0], [x1*0.2,x1*1.2],color='darkgray',linestyle='--')\n",
    "ax1.plot([0,0], [x1*1.2,x1*1.5],color='darkgray',linestyle='--')\n",
    "\n",
    "ax1.plot([-L1,L1], [-xs,-xs],color='darkgray',linestyle='-')\n",
    "ax1.plot([-L1,-L1], [x1*0.3,-xs],color='darkgray',linestyle='-')\n",
    "ax1.plot([L1,L1], [x1*0.3,-xs],color='darkgray',linestyle='-')\n",
    "\n",
    "\n",
    "# SiPMs\n",
    "\n",
    "x1=4.75/2\n",
    "xs=0.5\n",
    "L1=5\n",
    "Ls=L1+10\n",
    "\n",
    "#ax1.plot([-Ls,-L1], [xs,xs],color='darkgray',linestyle='-')\n",
    "#ax1.plot([-Ls,-L1], [-xs,-xs],color='darkgray',linestyle='-')\n",
    "#ax1.plot([-Ls,-Ls], [xs,-xs],color='darkgray',linestyle='-')\n",
    "#ax1.plot([-L1,-L1], [xs,-xs],color='darkgray',linestyle='-')\n",
    "\n",
    "#ax1.plot([Ls,L1], [xs,xs],color='darkgray',linestyle='-')\n",
    "#ax1.plot([Ls,L1], [-xs,-xs],color='darkgray',linestyle='-')\n",
    "#ax1.plot([Ls,Ls], [xs,-xs],color='darkgray',linestyle='-')\n",
    "#ax1.plot([L1,L1], [xs,-xs],color='darkgray',linestyle='-')\n",
    "\n",
    "L1=16\n",
    "Ls=L1+10\n",
    "\n",
    "\n",
    "\n",
    "plt.axis('off')\n",
    "\n",
    "plt.show()\n",
    "plt.draw()\n",
    "fig1.tight_layout()\n",
    "plt.savefig(\"Figures/LYSOAreaSchematic.pdf\", bbox_inches='tight')\n"
   ]
  },
  {
   "cell_type": "code",
   "execution_count": 21,
   "id": "48fc9444-3ffd-4524-b6bc-853e63e47738",
   "metadata": {
    "tags": []
   },
   "outputs": [
    {
     "name": "stdout",
     "output_type": "stream",
     "text": [
      "The number of vars per indv is :11\n",
      "The number indv is :200\n",
      "### Objective values:  513.8343485823799   25   -16066.406779661016   -31.267677655234035\n",
      "NoYSym\n",
      "LYSOL\n",
      "[-24.36810697446107, -18.276080230845803, -12.184053487230535, -6.092026743615268, 0.0, 6.092026743615268, 12.184053487230535, 18.276080230845807, 24.36810697446107] [1.524146990035263, 1.790358309735066, 1.2717182505054694, 1.1263567722149805, 2.3816584761107955, 1.1263567722149805, 1.2717182505054694, 1.790358309735066, 1.524146990035263] [-24.36810697446107, -18.276080230845803, -12.184053487230535, -6.092026743615268, 0.0, 6.092026743615268, 12.184053487230535, 18.276080230845807, 24.36810697446107] [-1.461817186258564, -1.0163349875109482, -0.8983108739187773, -2.479729590194857, -1.5295033784567993, -2.479729590194857, -0.8983108739187773, -1.0163349875109482, -1.461817186258564]\n"
     ]
    },
    {
     "data": {
      "image/png": "[encoded data removed]",
      "text/plain": [
       "<Figure size 265.67x239.103 with 1 Axes>"
      ]
     },
     "metadata": {},
     "output_type": "display_data"
    },
    {
     "data": {
      "text/plain": [
       "<Figure size 640x480 with 0 Axes>"
      ]
     },
     "metadata": {},
     "output_type": "display_data"
    }
   ],
   "source": [
    "geometry_textwidth = 384  # pt\n",
    "pt_to_inch = 1.0 / 72.27  # Conversion factor from points to inches\n",
    "plot_width = geometry_textwidth * pt_to_inch *0.5\n",
    "fig1, ax1 = plt.subplots(figsize=(plot_width, plot_width*0.9))\n",
    "\n",
    "xtop,ytop,xbot,ybot,legend_text = crystalcoords_mult(gen_file,args0,0,513)\n",
    "Plt_Crystal(xtop,ytop,xbot,ybot,fig1,ax1,'gray',lab='SiPM 3\\\\si{\\milli\\meter}x3.75\\\\si{\\milli\\meter}'+legend_text,\n",
    "           lnstyle='-', lnwidth=1, alph=0.8)\n",
    "Plt_DefaultCrystal(fig1,ax1,colori='lightgray',ls='dotted')\n",
    "\n",
    "print(xtop,ytop,xbot,ybot)\n",
    "\n",
    "ax1.plot([-28.5,28.5], [0.375,0.375],color='darkgray',linestyle='dotted')\n",
    "ax1.plot([-28.5,28.5], [-0.375,-0.375],color='darkgray',linestyle='dotted')\n",
    "ax1.plot([-28.5,28.5], [3.375,3.375],color='darkgray',linestyle='dotted')\n",
    "ax1.plot([-28.5,28.5], [-3.375,-3.375],color='darkgray',linestyle='dotted')\n",
    "ax1.plot([-28.5,-28.5], [3.375,-3.375],color='darkgray',linestyle='dotted')\n",
    "ax1.plot([28.5,28.5], [3.375,-3.375],color='darkgray',linestyle='dotted')\n",
    "\n",
    "\n",
    "L1=23\n",
    "x1=28.5*3/L1/2\n",
    "xs=1.5\n",
    "Ls=L1+1.8\n",
    "\n",
    "ax1.plot([-Ls,-L1], [xs,xs],color='darkgray',linestyle='-')\n",
    "ax1.plot([-Ls,-L1], [-xs,-xs],color='darkgray',linestyle='-')\n",
    "ax1.plot([-Ls,-Ls], [xs,-xs],color='darkgray',linestyle='-')\n",
    "ax1.plot([-L1,-L1], [xs,-xs],color='darkgray',linestyle='-')\n",
    "\n",
    "ax1.plot([Ls,L1], [xs,xs],color='darkgray',linestyle='-')\n",
    "ax1.plot([Ls,L1], [-xs,-xs],color='darkgray',linestyle='-')\n",
    "ax1.plot([Ls,Ls], [xs,-xs],color='darkgray',linestyle='-')\n",
    "ax1.plot([L1,L1], [xs,-xs],color='darkgray',linestyle='-')\n",
    "\n",
    "plt.xlim((-32,32))\n",
    "L1=28.5\n",
    "Ls=28.5+1.8\n",
    "\n",
    "ax1.plot([-Ls,-L1], [xs,xs],color='lightgray',linestyle='--')\n",
    "ax1.plot([-Ls,-L1], [-xs,-xs],color='lightgray',linestyle='--')\n",
    "ax1.plot([-Ls,-Ls], [xs,-xs],color='lightgray',linestyle='--')\n",
    "ax1.plot([-L1,-L1], [xs,-xs],color='lightgray',linestyle='--')\n",
    "\n",
    "ax1.plot([Ls,L1], [xs,xs],color='lightgray',linestyle='--')\n",
    "ax1.plot([Ls,L1], [-xs,-xs],color='lightgray',linestyle='--')\n",
    "ax1.plot([Ls,Ls], [xs,-xs],color='lightgray',linestyle='--')\n",
    "ax1.plot([L1,L1], [xs,-xs],color='lightgray',linestyle='--')\n",
    "\n",
    "ax1.plot([0,0], [-2.2,2.2],color='black',linestyle='dashdot')\n",
    "\n",
    "plt.axis('off')\n",
    "\n",
    "\n",
    "\n",
    "#ax1.arrow(0, 0, 3, 0, head_width=0.2)\n",
    "\n",
    "plt.show()\n",
    "plt.draw()\n",
    "\n",
    "fig1.tight_layout()\n",
    "#fig1.savefig(\"Figures/LYSOSplineSchematic.pdf\")\n",
    "plt.savefig(\"Figures/LYSOSplineSchematic.pdf\", bbox_inches='tight')\n"
   ]
  },
  {
   "cell_type": "code",
   "execution_count": 5,
   "id": "046a6420-2388-4501-b63d-964220aabb13",
   "metadata": {
    "tags": []
   },
   "outputs": [
    {
     "data": {
      "image/png": "[encoded data removed]",
      "text/plain": [
       "<Figure size 640x480 with 1 Axes>"
      ]
     },
     "metadata": {},
     "output_type": "display_data"
    }
   ],
   "source": [
    "import matplotlib.pyplot as plt\n",
    "\n",
    "# Generate some data for the scatter plot\n",
    "x = [1, 2, 3, 4, 5]\n",
    "y = [10, 15, 13, 17, 20]\n",
    "\n",
    "# Create the scatter plot\n",
    "plt.scatter(x, y)\n",
    "\n",
    "# Add labels to the axes\n",
    "plt.xlabel('X Axis Label')\n",
    "plt.ylabel('Y Axis Label')\n",
    "\n",
    "# Create the legend with the plot name, volume, and light collection\n",
    "legend_text = 'My Scatter Plot\\nVolume: 100\\nLight Collection: 80'\n",
    "plt.legend([legend_text], loc='upper right')\n",
    "\n",
    "# Show the plot\n",
    "plt.show()"
   ]
  },
  {
   "cell_type": "code",
   "execution_count": 4,
   "id": "650c12d1-b7bd-4d2f-beb8-370e823db2e6",
   "metadata": {
    "tags": []
   },
   "outputs": [
    {
     "ename": "NameError",
     "evalue": "name 'args' is not defined",
     "output_type": "error",
     "traceback": [
      "\u001b[0;31m---------------------------------------------------------------------------\u001b[0m",
      "\u001b[0;31mNameError\u001b[0m                                 Traceback (most recent call last)",
      "Cell \u001b[0;32mIn [4], line 1\u001b[0m\n\u001b[0;32m----> 1\u001b[0m \u001b[38;5;28;01mif\u001b[39;00m(\u001b[43margs\u001b[49m\u001b[38;5;241m.\u001b[39msave\u001b[38;5;241m==\u001b[39m\u001b[38;5;241m1\u001b[39m):\n\u001b[1;32m      2\u001b[0m \t\timagename\u001b[38;5;241m=\u001b[39m\u001b[38;5;124m\"\u001b[39m\u001b[38;5;124mLYSO_Vol_\u001b[39m\u001b[38;5;124m\"\u001b[39m\u001b[38;5;241m+\u001b[39m\u001b[38;5;28mstr\u001b[39m(\u001b[38;5;28mround\u001b[39m(obj2[indv],\u001b[38;5;241m1\u001b[39m))\u001b[38;5;241m+\u001b[39m\u001b[38;5;124m\"\u001b[39m\u001b[38;5;124m_LC_\u001b[39m\u001b[38;5;124m\"\u001b[39m\u001b[38;5;241m+\u001b[39m\u001b[38;5;28mstr\u001b[39m(\u001b[38;5;28mround\u001b[39m(\u001b[38;5;28mabs\u001b[39m(obj1[indv]),\u001b[38;5;241m1\u001b[39m))\n\u001b[1;32m      3\u001b[0m \t\tsave_name\u001b[38;5;241m=\u001b[39mpictures_folder_filter\u001b[38;5;241m+\u001b[39mimagename\n",
      "\u001b[0;31mNameError\u001b[0m: name 'args' is not defined"
     ]
    }
   ],
   "source": [
    "\tif(args.save==1):\n",
    "\t\t\timagename=\"LYSO_Vol_\"+str(round(obj2[indv],1))+\"_LC_\"+str(round(abs(obj1[indv]),1))\n",
    "\t\t\tsave_name=pictures_folder_filter+imagename\n",
    "\t\t\tprint(save_name)\n",
    "\t\t\tplt.savefig(save_name, format='png', dpi=300, bbox_inches='tight')\n",
    "\t\"\"\"except:\n",
    "\t\timagename=\"LYSO_Vol_\"+str(round(obj2[indv],1))+\"_LC_\"+str(round(abs(obj1[indv]),1))\n",
    "\t\tprint(\"### ERROR: \",pictures_folder_filter+imagename)*/\t\t\"\"\""
   ]
  },
  {
   "cell_type": "code",
   "execution_count": null,
   "id": "ed1cb3e5-439f-4a93-95e0-dcb2be152157",
   "metadata": {},
   "outputs": [],
   "source": [
    "import matplotlib.pyplot as plt\n",
    "\n",
    "def plot_with_error_bars(x, y, xerr):\n",
    "    fig, ax = plt.subplots()\n",
    "    ax.errorbar(x, y, xerr=xerr, fmt='o', capsize=3)\n",
    "    ax.set_xlabel(\"X data\")\n",
    "    ax.set_ylabel(\"Y data\")\n",
    "    plt.show()\n",
    "x = [1, 2, 3, 4]\n",
    "y = [2, 4, 6, 8]\n",
    "xerr = [0.5, 0.4, 0.3, 0.2]\n",
    "\n",
    "plot_with_error_bars(x, y, xerr)"
   ]
  },
  {
   "cell_type": "code",
   "execution_count": null,
   "id": "7464aea0-2a21-4806-be7a-00b69369846c",
   "metadata": {},
   "outputs": [],
   "source": [
    "!pip install pygmo"
   ]
  },
  {
   "cell_type": "code",
   "execution_count": null,
   "id": "6e8784d6-2988-49d0-bdaa-9aa55dada100",
   "metadata": {},
   "outputs": [],
   "source": [
    "from pygmo import hypervolume\n",
    "\n",
    "# Assume solutions is a 2D list where each inner list is a solution\n",
    "solutions = [[1,0], [0.5,0.5], [0,1]]\n",
    "\n",
    "# Create a hypervolume object\n",
    "hv = hypervolume(solutions)\n",
    "\n",
    "# Define the reference point\n",
    "reference_point = [1.1, 1.1]  # This should be slightly greater than the maximum objective values\n",
    "\n",
    "# Calculate hypervolume\n",
    "volume = hv.compute(reference_point)\n",
    "\n",
    "print(f\"The hypervolume is: {volume}\")"
   ]
  },
  {
   "cell_type": "code",
   "execution_count": null,
   "id": "6265be0c-2d3a-4c6f-ba13-3999195d9afb",
   "metadata": {},
   "outputs": [],
   "source": [
    "test = [[i,j] for i,j in zip(obj1,obj2)]\n",
    "# Create a hypervolume object\n",
    "hv = hypervolume(test)\n",
    "\n",
    "# Define the reference point\n",
    "reference_point = [4000, 513]  # This should be slightly greater than the maximum objective values\n",
    "\n",
    "# Calculate hypervolume\n",
    "volume = hv.compute(reference_point)\n",
    "\n",
    "print(f\"The hypervolume is: {volume}\")"
   ]
  },
  {
   "cell_type": "code",
   "execution_count": null,
   "id": "c6ca76ca-e69d-4821-99a9-1ec62e945317",
   "metadata": {},
   "outputs": [],
   "source": []
  },
  {
   "cell_type": "code",
   "execution_count": null,
   "id": "a08f2970-d3c6-4ff5-aa4f-b86dc7e11154",
   "metadata": {},
   "outputs": [],
   "source": []
  },
  {
   "cell_type": "code",
   "execution_count": null,
   "id": "5daf1c2f-0ad0-4312-b689-8a25fce1cc3f",
   "metadata": {},
   "outputs": [],
   "source": []
  }
 ],
 "metadata": {
  "kernelspec": {
   "display_name": "Python 3 (ipykernel)",
   "language": "python",
   "name": "python3"
  },
  "language_info": {
   "codemirror_mode": {
    "name": "ipython",
    "version": 3
   },
   "file_extension": ".py",
   "mimetype": "text/x-python",
   "name": "python",
   "nbconvert_exporter": "python",
   "pygments_lexer": "ipython3",
   "version": "3.9.16"
  }
 },
 "nbformat": 4,
 "nbformat_minor": 5
}
