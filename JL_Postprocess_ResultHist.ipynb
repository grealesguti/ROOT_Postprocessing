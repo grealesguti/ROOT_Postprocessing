{
 "cells": [
  {
   "cell_type": "code",
   "execution_count": 1,
   "id": "3768482b-17c7-4200-8051-3b3155781121",
   "metadata": {
    "tags": []
   },
   "outputs": [
    {
     "name": "stdout",
     "output_type": "stream",
     "text": [
      "Welcome to JupyROOT 6.26/10\n"
     ]
    }
   ],
   "source": [
    "import gmsh\n",
    "import sys\n",
    "import os\n",
    "from os.path import exists\n",
    "import subprocess\n",
    "import numpy as np\n",
    "import time\n",
    "import ROOT\n",
    "from os import listdir\n",
    "from os.path import isfile, join\n",
    "import os.path\n",
    "from os import path\n",
    "import matplotlib.pyplot as plt\n",
    "import matplotlib.animation as animation\n",
    "import argparse\n",
    "from ROOT import TFile, TTree\n",
    "import matplotlib.pyplot as plt\n",
    "from scipy.interpolate import splrep, splev,splprep\n",
    "from scipy.interpolate import BSpline\n",
    "import math"
   ]
  },
  {
   "cell_type": "code",
   "execution_count": 2,
   "id": "dc5ab88a-342e-4089-9d43-f256c7a11458",
   "metadata": {
    "tags": []
   },
   "outputs": [],
   "source": [
    "import math\n",
    "from typing import List\n",
    "import contextlib\n",
    "import io\n",
    "import matplotlib.pyplot as plt\n",
    "import matplotlib.ticker as mticker\n",
    "import ROOT\n",
    "import numpy as np\n",
    "from matplotlib.lines import Line2D\n",
    "\n",
    "\n",
    "def checkRootData(fileName, treeName, branchName):\n",
    "    try:\n",
    "        file = ROOT.TFile.Open(fileName)\n",
    "\n",
    "        # Check if file is open\n",
    "        if not file or file.IsZombie():\n",
    "            print(\"File is Zombie\")\n",
    "            return False\n",
    "\n",
    "        # Check if tree exists\n",
    "        if not file.Get(treeName):\n",
    "            print(\"Tree does not exist\")\n",
    "            return False\n",
    "\n",
    "        tree = file.Get(treeName)\n",
    "\n",
    "        # Check if branch exists\n",
    "        if not tree.GetBranch(branchName):\n",
    "            print(\"Branch name does not exist\")\n",
    "            return False\n",
    "\n",
    "        branch = tree.GetBranch(branchName)\n",
    "\n",
    "        # Check if branch is readable\n",
    "        value = np.zeros(1, dtype=np.float64)\n",
    "        branch.SetAddress(value)\n",
    "\n",
    "        if branch.GetEntry(0) < 0:\n",
    "            print(\"Branch is not readable\")\n",
    "            return False\n",
    "\n",
    "        file.Close()\n",
    "\n",
    "        return True\n",
    "\n",
    "    except:\n",
    "        print(\"An error occurred while checking root data\")\n",
    "        return False\n",
    "    \n",
    "def readRootBranch(fileName, treeName, branchName):\n",
    "    print(\"fileName:\", fileName)\n",
    "\n",
    "    data = []\n",
    "\n",
    "    if checkRootData(fileName, treeName, branchName):\n",
    "        print(checkRootData(fileName, treeName, branchName))\n",
    "        file = ROOT.TFile.Open(fileName)\n",
    "        tree = file.Get(treeName)\n",
    "        branch = tree.GetBranch(branchName)\n",
    "\n",
    "        value = array('d', [0.0])\n",
    "        branch.SetAddress(value)\n",
    "\n",
    "        for i in range(tree.GetEntries()):\n",
    "            branch.GetEntry(i)\n",
    "            data.append(value[0])\n",
    "\n",
    "        file.Close()\n",
    "    else:\n",
    "        print(\"Something is wrong with the file!!!\")\n",
    "        print(\"Branch:\", branchName)\n",
    "\n",
    "    return data\n",
    "\n",
    "import os\n",
    "from os import path\n",
    "from typing import List\n",
    "from array import array\n",
    "\n",
    "def readRootDataFromFolder(folder, treeName, branchName):\n",
    "    data = []\n",
    "\n",
    "    # Open folder\n",
    "    if os.path.isdir(folder):\n",
    "        # Read all files in folder\n",
    "        for file_name in os.listdir(folder):\n",
    "            file_path = os.path.join(folder, file_name)\n",
    "            # Skip directories\n",
    "            if os.path.isdir(file_path):\n",
    "                continue\n",
    "\n",
    "            # Read data from file\n",
    "            file_data = readRootBranch(file_path, treeName, branchName)\n",
    "            data.extend(file_data)\n",
    "\n",
    "    return data\n",
    "import matplotlib.pyplot as plt\n",
    "import math\n",
    "import numpy as np\n",
    "from scipy.optimize import curve_fit\n",
    "import contextlib\n",
    "import io"
   ]
  },
  {
   "cell_type": "code",
   "execution_count": 3,
   "id": "1532465c-b0c8-4b53-b5ed-53ce1a1b324a",
   "metadata": {
    "tags": []
   },
   "outputs": [],
   "source": [
    "import matplotlib as mpl\n",
    "\n",
    "def setup_pgf():\n",
    "    pgf_with_latex = {\n",
    "        \"pgf.texsystem\": \"pdflatex\",\n",
    "        \"text.usetex\": True,\n",
    "        \"font.family\": \"serif\",\n",
    "        \"font.serif\": [],\n",
    "        \"font.sans-serif\": [],\n",
    "        \"font.monospace\": [],\n",
    "        \"axes.labelsize\": 10,\n",
    "        \"font.size\": 10,\n",
    "        \"legend.fontsize\": 6,\n",
    "        \"xtick.labelsize\": 10,\n",
    "        \"ytick.labelsize\": 10,\n",
    "        \"pgf.preamble\": \"\\n\".join([\n",
    "            r\"\\usepackage[utf8]{inputenc}\",\n",
    "            r\"\\usepackage[T1]{fontenc}\",\n",
    "            r\"\\usepackage[detect-all]{siunitx}\",\n",
    "        ])\n",
    "    }\n",
    "    mpl.use(\"pgf\")\n",
    "    mpl.rcParams.update(pgf_with_latex)\n",
    " # Set the figure size\n",
    "\n",
    "    # Set the figure size based on LaTeX geometry settings\n",
    "    geometry_textwidth = 384  # pt\n",
    "    pt_to_inch = 1.0 / 72.27  # Conversion factor from points to inches\n",
    "    plot_width = geometry_textwidth * pt_to_inch *0.5\n",
    "    \n",
    "    mpl.rcParams['figure.figsize'] = (plot_width, plot_width*0.9)  # Adjust the height as needed (6 inches in this example)\n",
    "def restore_defaults():\n",
    "    mpl.rcParams.update(mpl.rcParamsDefault)\n",
    "setup_pgf()"
   ]
  },
  {
   "cell_type": "markdown",
   "id": "d83ad1ab-ed33-44d5-9b11-8e852d8d3764",
   "metadata": {},
   "source": [
    "# Comparison of the overall distributions with boxplots of multiple optimization folders and objectives"
   ]
  },
  {
   "cell_type": "code",
   "execution_count": 4,
   "id": "8f0e5b70-3fba-4da7-9e10-ed3af5e6720f",
   "metadata": {
    "tags": []
   },
   "outputs": [],
   "source": [
    "import matplotlib.pyplot as plt\n",
    "import matplotlib.ticker as mticker\n",
    "import contextlib\n",
    "import io\n",
    "\n",
    "# Automatic reading of given folders for the results (local computer definition)\n",
    "# returns a list of lists with all the data of each folder for the given branch\n",
    "def get_data_lists(branch):\n",
    "    data = []\n",
    "\n",
    "    with contextlib.redirect_stdout(io.StringIO()):\n",
    "        Def_folder=\"../TierIIData/2023_07/Default_FL_Muon_ESRBP\"\n",
    "        Def = readRootDataFromFolder(Def_folder, \"EndOfEvent\", branch)\n",
    "        data.append(Def)\n",
    "\n",
    "        LO_Avg_folder=\"../NSGAIIData/2307/Solutions/Sol_LOAvg\"\n",
    "        LO_Avg = readRootDataFromFolder(LO_Avg_folder, \"EndOfEvent\", branch)\n",
    "        data.append(LO_Avg)\n",
    "\n",
    "        LO_P50_folder=\"../NSGAIIData/2307/Solutions/Sol_LOP50\"\n",
    "        LO_P50 = readRootDataFromFolder(LO_P50_folder, \"EndOfEvent\", branch)\n",
    "        data.append(LO_P50)\n",
    "\n",
    "        LC_Avg_folder=\"../NSGAIIData/2307/Solutions/Sol_LCAvg\"\n",
    "        LC_Avg = readRootDataFromFolder(LC_Avg_folder, \"EndOfEvent\", branch)\n",
    "        data.append(LC_Avg)\n",
    "\n",
    "        LC_P50_folder=\"../NSGAIIData/2307/Solutions/Sol_LCP50\"\n",
    "        LC_P50 = readRootDataFromFolder(LC_P50_folder, \"EndOfEvent\", branch)\n",
    "        data.append(LC_P50)\n",
    "\n",
    "        LST_Avg_folder=\"../NSGAIIData/2307/Solutions/Sol_LStAvg\"\n",
    "        LST_Avg = readRootDataFromFolder(LST_Avg_folder, \"EndOfEvent\", branch)\n",
    "        data.append(LST_Avg)\n",
    "\n",
    "        LST_P50_folder=\"../NSGAIIData/2307/Solutions/Sol_LStP50\"\n",
    "        LST_P50 = readRootDataFromFolder(LST_P50_folder, \"EndOfEvent\", branch)\n",
    "        data.append(LST_P50)\n",
    "\n",
    "    return data\n",
    "# Creates a boxplot at the locations given in x for each list in the list data\n",
    "def create_boxplots(ax, fig, positions, data, labels, y_label, widths, linewidths,showfliers=True):\n",
    "    assert len(positions) == len(data) == len(labels), \"Input lists must have the same length\"\n",
    "\n",
    "    for pos, d in zip(positions, data):\n",
    "        bp = ax.boxplot(d, positions=[pos], widths=widths, showfliers=showfliers,\n",
    "                        patch_artist=False,\n",
    "                        whiskerprops=dict(color=color, linewidth=linewidths),\n",
    "                        capprops=dict(color=color, linewidth=linewidths),\n",
    "                        medianprops=dict(color=color, linewidth=linewidths),\n",
    "                        flierprops=dict(marker='o', markersize=1, markerfacecolor='black'),\n",
    "                        whis=1.5,\n",
    "                        boxprops=dict(color=color, linewidth=0.5))\n",
    "\n",
    "        # Calculate the average of the data set\n",
    "        avg = np.mean(d)\n",
    "        if pos==0:\n",
    "            ax.scatter(pos, avg, color='red', label='Mean', s=6)\n",
    "        else:\n",
    "            ax.scatter(pos, avg, color='red', s=6)\n",
    "        # Add a red point scatter for the average\n",
    "        \n",
    "\n",
    "    # Add a grid\n",
    "    ax.grid(True)\n",
    "    # Set x-axis ticks as letters\n",
    "    ax.set_xticklabels(labels, rotation=45)\n",
    "    # Set y-axis label\n",
    "    ax.set_ylabel(y_label)\n",
    "\n",
    "# Default x axis given the folders used\n",
    "labels = ['Def.','Avg(LO)', 'P50(LO)', 'Avg(LC)', 'P50(LC)', 'Avg(LST)', 'P50(LST)']\n"
   ]
  },
  {
   "cell_type": "code",
   "execution_count": 5,
   "id": "79aabda3-9974-49e1-a69d-3ccf56e24d0a",
   "metadata": {
    "tags": []
   },
   "outputs": [
    {
     "name": "stderr",
     "output_type": "stream",
     "text": [
      "/tmp/ipykernel_11011/3377134174.py:17: UserWarning: Matplotlib is currently using pgf, which is a non-GUI backend, so cannot show the figure.\n",
      "  plt.show()\n",
      "Error in <TFile::Init>: file ../NSGAIIData/2307/Solutions/Sol_LOP50/LO_G200_P50Opt_Vol200_230805_1core_30.root has an incorrect header length (264) or incorrect end of file length (246)\n",
      "Error in <TFile::Init>: file ../NSGAIIData/2307/Solutions/Sol_LStAvg/LSt_G46_AvgOpt_Vol513_230805_1core_30.root has an incorrect header length (264) or incorrect end of file length (246)\n"
     ]
    }
   ],
   "source": [
    "# Example usage:\n",
    "branch = \"fLOapprox\"\n",
    "data = get_data_lists(branch)\n",
    "\n",
    "geometry_textwidth = 384  # pt\n",
    "pt_to_inch = 1.0 / 72.27  # Conversion factor from points to inches\n",
    "plot_width = geometry_textwidth * pt_to_inch *0.5\n",
    "fig, ax = plt.subplots(figsize=(plot_width, plot_width*0.9))\n",
    "color='blue'\n",
    "widths=[0.8]\n",
    "# Create the boxplot\n",
    "positions = [0, 1, 2, 3, 4, 5, 6]\n",
    "create_boxplots(ax,fig,positions, data, labels, 'LO',widths,1)\n",
    "ax.legend()\n",
    "\n",
    "plt.savefig(\"Figures/2307/NSGAII/RstLOComp.pdf\", bbox_inches='tight')\n",
    "plt.show()\n"
   ]
  },
  {
   "cell_type": "code",
   "execution_count": 6,
   "id": "8c2c830a-b623-463a-9191-da94bd6450dd",
   "metadata": {
    "tags": []
   },
   "outputs": [
    {
     "name": "stderr",
     "output_type": "stream",
     "text": [
      "/tmp/ipykernel_11011/1507852385.py:16: UserWarning: Matplotlib is currently using pgf, which is a non-GUI backend, so cannot show the figure.\n",
      "  plt.show()\n",
      "Error in <TFile::Init>: file ../NSGAIIData/2307/Solutions/Sol_LOP50/LO_G200_P50Opt_Vol200_230805_1core_30.root has an incorrect header length (264) or incorrect end of file length (246)\n",
      "Error in <TFile::Init>: file ../NSGAIIData/2307/Solutions/Sol_LStAvg/LSt_G46_AvgOpt_Vol513_230805_1core_30.root has an incorrect header length (264) or incorrect end of file length (246)\n"
     ]
    }
   ],
   "source": [
    "# Example usage:\n",
    "branch = \"fHits\"\n",
    "data = get_data_lists(branch)\n",
    "\n",
    "geometry_textwidth = 384  # pt\n",
    "pt_to_inch = 1.0 / 72.27  # Conversion factor from points to inches\n",
    "plot_width = geometry_textwidth * pt_to_inch *0.5\n",
    "fig, ax = plt.subplots(figsize=(plot_width, plot_width*0.9))\n",
    "color='blue'\n",
    "widths=[0.8]\n",
    "# Create the boxplot\n",
    "positions = [0, 1, 2, 3, 4, 5, 6]\n",
    "create_boxplots(ax,fig,positions, data, labels, 'LC',widths,1,showfliers=False)\n",
    "\n",
    "plt.savefig(\"Figures/2307/NSGAII/RstLCComp.pdf\", bbox_inches='tight')\n",
    "plt.show()"
   ]
  },
  {
   "cell_type": "code",
   "execution_count": 7,
   "id": "0921c5bf-618e-402e-b6dc-5573aaea12bb",
   "metadata": {
    "tags": []
   },
   "outputs": [
    {
     "name": "stderr",
     "output_type": "stream",
     "text": [
      "/home/greales/miniconda3/envs/rootenv/lib/python3.9/site-packages/numpy/core/fromnumeric.py:3432: RuntimeWarning: Mean of empty slice.\n",
      "  return _methods._mean(a, axis=axis, dtype=dtype,\n",
      "/home/greales/miniconda3/envs/rootenv/lib/python3.9/site-packages/numpy/core/_methods.py:190: RuntimeWarning: invalid value encountered in double_scalars\n",
      "  ret = ret.dtype.type(ret / rcount)\n",
      "/tmp/ipykernel_11011/2050010127.py:16: UserWarning: Matplotlib is currently using pgf, which is a non-GUI backend, so cannot show the figure.\n",
      "  plt.show()\n",
      "Error in <TFile::Init>: file ../NSGAIIData/2307/Solutions/Sol_LOP50/LO_G200_P50Opt_Vol200_230805_1core_30.root has an incorrect header length (264) or incorrect end of file length (246)\n",
      "Error in <TFile::Init>: file ../NSGAIIData/2307/Solutions/Sol_LStAvg/LSt_G46_AvgOpt_Vol513_230805_1core_30.root has an incorrect header length (264) or incorrect end of file length (246)\n"
     ]
    }
   ],
   "source": [
    "# Example usage:\n",
    "branch = \"fLSt\"\n",
    "data = get_data_lists(branch)\n",
    "\n",
    "geometry_textwidth = 384  # pt\n",
    "pt_to_inch = 1.0 / 72.27  # Conversion factor from points to inches\n",
    "plot_width = geometry_textwidth * pt_to_inch *0.5\n",
    "fig, ax = plt.subplots(figsize=(plot_width, plot_width*0.9))\n",
    "color='blue'\n",
    "widths=[0.8]\n",
    "# Create the boxplot\n",
    "positions = [0, 1, 2, 3, 4, 5, 6]\n",
    "create_boxplots(ax,fig,positions, data, labels, 'LST',widths,1)\n",
    "\n",
    "plt.savefig(\"Figures/2307/NSGAII/RstLSTComp.pdf\", bbox_inches='tight')\n",
    "plt.show()"
   ]
  },
  {
   "cell_type": "markdown",
   "id": "e6763ec0-9c4a-4a82-89d3-e2f899cd4400",
   "metadata": {},
   "source": [
    "# Now we want the box plots alog the impact in Z comparing the original and Avg(LST)"
   ]
  },
  {
   "cell_type": "code",
   "execution_count": 10,
   "id": "fd6472ef-cd20-4005-93bc-462dd1f8d5fd",
   "metadata": {
    "tags": []
   },
   "outputs": [],
   "source": [
    "def get_data_lists(branch):\n",
    "    data = []\n",
    "    dataDef = []\n",
    "\n",
    "    with contextlib.redirect_stdout(io.StringIO()):\n",
    "        Def_folder=\"../TierIIData/2023_07/Default_FL_Muon_ESRBP\"\n",
    "        Def = readRootDataFromFolder(Def_folder, \"EndOfEvent\", branch)\n",
    "        dataDef.append(Def)\n",
    "        Def = readRootDataFromFolder(Def_folder, \"EndOfEvent\", 'fPrimaryZ')\n",
    "        dataDef.append(Def)\n",
    "        Opt_folder=\"../NSGAIIData/2307/Solutions/Sol_LStAvg\"\n",
    "        Opt = readRootDataFromFolder(Opt_folder, \"EndOfEvent\", branch)\n",
    "        data.append(Opt)\n",
    "        Opt = readRootDataFromFolder(Opt_folder, \"EndOfEvent\", 'fPrimaryZ')\n",
    "        data.append(Opt)\n",
    "\n",
    "    return data, dataDef\n"
   ]
  },
  {
   "cell_type": "code",
   "execution_count": 88,
   "id": "4b9bbb33-ff7b-4062-a220-1441a6475185",
   "metadata": {
    "tags": []
   },
   "outputs": [
    {
     "name": "stderr",
     "output_type": "stream",
     "text": [
      "Error in <TFile::Init>: file ../NSGAIIData/2307/Solutions/Sol_LStAvg/LSt_G46_AvgOpt_Vol513_230805_1core_30.root has an incorrect header length (264) or incorrect end of file length (246)\n",
      "Error in <TFile::Init>: file ../NSGAIIData/2307/Solutions/Sol_LStAvg/LSt_G46_AvgOpt_Vol513_230805_1core_30.root has an incorrect header length (264) or incorrect end of file length (246)\n"
     ]
    }
   ],
   "source": [
    "branch='fLOapprox' # The default configuration does not have stored fLSt!!! too old for that\n",
    "data, dataDef =get_data_lists(branch)"
   ]
  },
  {
   "cell_type": "code",
   "execution_count": 89,
   "id": "51aab992-56cb-488f-9ba2-fd5768506347",
   "metadata": {
    "tags": []
   },
   "outputs": [],
   "source": [
    "# create a list for each location in Z having the impact location of each event to have a distribution for each Z segment for the box plot\n",
    "import numpy as np\n",
    "\n",
    "def segment_data(data_list, segment_values, num_segments):\n",
    "    min_value = min(segment_values)\n",
    "    max_value = max(segment_values)\n",
    "\n",
    "    segment_ranges = np.linspace(min_value, max_value, num_segments + 1)\n",
    "\n",
    "    segmented_data = [[] for _ in range(num_segments)]\n",
    "    segment_values_list = [[] for _ in range(num_segments)]\n",
    "    segment_averages = []\n",
    "    segment_limits = []\n",
    "\n",
    "    for i in range(len(segment_values)):\n",
    "        value = segment_values[i]\n",
    "        segment_index = np.searchsorted(segment_ranges, value) - 1\n",
    "\n",
    "        if segment_index >= 0 and segment_index < num_segments:\n",
    "            segmented_data[segment_index].append(data_list[i])\n",
    "            segment_values_list[segment_index].append(value)\n",
    "\n",
    "    for segment_values in segment_values_list:\n",
    "        if segment_values:\n",
    "            segment_averages.append(np.mean(segment_values) * 1000)\n",
    "        else:\n",
    "            segment_averages.append(None)\n",
    "\n",
    "    for i in range(num_segments):\n",
    "        segment_limits.append((segment_ranges[i], segment_ranges[i + 1]))\n",
    "\n",
    "    return segmented_data, segment_values_list, segment_averages, segment_limits\n",
    "def segment_data_using_limits(data_list, segment_values, segment_limits):\n",
    "    num_segments = len(segment_limits)\n",
    "\n",
    "    segmented_data = [[] for _ in range(num_segments)]\n",
    "    segment_values_list = [[] for _ in range(num_segments)]\n",
    "    segment_averages = []\n",
    "\n",
    "    for i in range(len(segment_values)):\n",
    "        value = segment_values[i]\n",
    "\n",
    "        for segment_index, (lower_limit, upper_limit) in enumerate(segment_limits):\n",
    "            if lower_limit <= value < upper_limit:\n",
    "                segmented_data[segment_index].append(data_list[i])\n",
    "                segment_values_list[segment_index].append(value)\n",
    "                break\n",
    "\n",
    "    for segment_values in segment_values_list:\n",
    "        if segment_values:\n",
    "            segment_averages.append(np.mean(segment_values) * 1000)\n",
    "        else:\n",
    "            segment_averages.append(None)\n",
    "\n",
    "    return segmented_data, segment_values_list, segment_averages"
   ]
  },
  {
   "cell_type": "code",
   "execution_count": 90,
   "id": "9b3fef64-8b40-4c77-95ff-add95682287a",
   "metadata": {
    "tags": []
   },
   "outputs": [
    {
     "name": "stdout",
     "output_type": "stream",
     "text": [
      "[1.2786449999999998, 3.3244769999999995, 5.370308999999999, 7.416141, 9.461973000000002, 11.507805, 13.553636999999998, 15.599469, 17.645301000000003, 19.691133, 21.736964999999998, 23.899037454545446]\n",
      "[0.000511458, 0.001022916, 0.0015343739999999998, 0.002045832, 0.000511458, 0.001022916, 0.0015343739999999998, 0.002045832, 0.000511458, 0.001022916, 0.0015343739999999998, 0.002045832, 0.000511458, 0.001022916, 0.0015343739999999998, 0.002045832, 0.000511458, 0.001022916, 0.0015343739999999998, 0.002045832]\n",
      "[2760.8707856470974, 2743.0414549340526, 2736.3667435647612, 2797.5750369316265, 2767.64335964873, 2748.125305801039, 2735.9327570351725, 2782.3365008390433, 2720.7469216781524, 2727.1280857127513, 2762.2144155658725, 2778.9906861864006, 2684.880387225818, 2720.30620199051, 2759.485093620525, 2742.012979969052, 2737.3944761133253, 2703.458117538462, 2763.2496475897856, 2768.6591098042663]\n",
      "[(0.0, 0.0020884535), (0.0020884535, 0.004176907), (0.004176907, 0.006265360499999999), (0.006265360499999999, 0.008353814), (0.008353814, 0.0104422675), (0.0104422675, 0.012530720999999998), (0.012530720999999998, 0.014619174499999998), (0.014619174499999998, 0.016707628), (0.016707628, 0.0187960815), (0.0187960815, 0.020884535), (0.020884535, 0.0229729885), (0.0229729885, 0.025061442)]\n"
     ]
    }
   ],
   "source": [
    "boxdata, positions_list,posv,segment_limits=segment_data(data[0],data[1],12)\n",
    "print(posv)\n",
    "print(positions_list[0])\n",
    "print(boxdata[0])\n",
    "print(segment_limits)"
   ]
  },
  {
   "cell_type": "code",
   "execution_count": 91,
   "id": "0a291d60-aaa6-4dc6-8487-6f924c18298f",
   "metadata": {
    "tags": []
   },
   "outputs": [],
   "source": [
    "boxdatadef, positions_listdef,posvdef=segment_data_using_limits(dataDef[0],dataDef[1],segment_limits)\n"
   ]
  },
  {
   "cell_type": "code",
   "execution_count": 93,
   "id": "bb6fb824-5779-4033-9547-03daecad0448",
   "metadata": {
    "tags": []
   },
   "outputs": [
    {
     "name": "stderr",
     "output_type": "stream",
     "text": [
      "/tmp/ipykernel_11011/4113380731.py:32: UserWarning: Matplotlib is currently using pgf, which is a non-GUI backend, so cannot show the figure.\n",
      "  plt.show()\n"
     ]
    }
   ],
   "source": [
    "# Example usage:\n",
    "\n",
    "geometry_textwidth = 384  # pt\n",
    "pt_to_inch = 1.0 / 72.27  # Conversion factor from points to inches\n",
    "plot_width = geometry_textwidth * pt_to_inch *0.5\n",
    "fig, ax = plt.subplots(figsize=(plot_width, plot_width*0.9))\n",
    "\n",
    "# Create the boxplot\n",
    "bp = ax.boxplot(boxdata,positions=posv,widths=(posv[1]-posv[0])*0.85, showfliers=True,\n",
    "                         patch_artist=False,  # Set patch_artist to False\n",
    "                         whiskerprops=dict(color='blue', linewidth=0.5), capprops=dict(color='blue', linewidth=0.5),\n",
    "                         medianprops=dict(color='blue', linewidth=0.5), flierprops=dict(marker='o', markersize=1,\n",
    "                                                                         markerfacecolor='black'), whis=1.5,boxprops=dict(color='blue', linewidth=0.5))\n",
    "# Create the boxplot\n",
    "bp = ax.boxplot(boxdatadef,positions=posv,widths=(posv[1]-posv[0])*0.85, showfliers=False,\n",
    "                         patch_artist=False,  # Set patch_artist to False\n",
    "                         whiskerprops=dict(color='red', linewidth=0.5), capprops=dict(color='red', linewidth=0.5),\n",
    "                         medianprops=dict(color='red', linewidth=0.5), flierprops=dict(marker='o', markersize=1,\n",
    "                                                                         markerfacecolor='black'), whis=1.5,boxprops=dict(color='blue', linewidth=0.5))\n",
    "# Set x-axis tick positions and labels\n",
    "ax.set_xticks(posv)\n",
    "ax.set_xticklabels([f'{x:.1f}' for x in posv], rotation=45, ha='right')  # Rotate by 45 degrees\n",
    "#ax.set_xticklabels([f'{x:.1f}' for x in posv])\n",
    "# Calculate the average of each list in boxdata\n",
    "averages = [np.mean(data) for data in boxdata]\n",
    "\n",
    "# Add red scatter points for the averages\n",
    "ax.scatter(posv, averages, color='red', s=6, label='Mean')\n",
    "ax.grid()\n",
    "\n",
    "plt.savefig(\"Figures/2307/NSGAII/ZvsLO_AVG_LST.pdf\", bbox_inches='tight')\n",
    "plt.show()\n"
   ]
  },
  {
   "cell_type": "code",
   "execution_count": 94,
   "id": "d9b1e392-6096-40cf-81a4-f7d45a9c60a9",
   "metadata": {
    "tags": []
   },
   "outputs": [
    {
     "name": "stderr",
     "output_type": "stream",
     "text": [
      "/tmp/ipykernel_11011/4159775105.py:30: UserWarning: Matplotlib is currently using pgf, which is a non-GUI backend, so cannot show the figure.\n",
      "  plt.show()\n",
      "Error in <TFile::Init>: file ../NSGAIIData/2307/Solutions/Sol_LStAvg/LSt_G46_AvgOpt_Vol513_230805_1core_30.root has an incorrect header length (264) or incorrect end of file length (246)\n",
      "Error in <TFile::Init>: file ../NSGAIIData/2307/Solutions/Sol_LStAvg/LSt_G46_AvgOpt_Vol513_230805_1core_30.root has an incorrect header length (264) or incorrect end of file length (246)\n"
     ]
    }
   ],
   "source": [
    "# Example usage:\n",
    "branch='fLSt' # The default configuration does not have stored fLSt!!! too old for that\n",
    "data, dataDef =get_data_lists(branch)\n",
    "boxdata, positions_list,posv,segment_limits=segment_data(data[0],data[1],12)\n",
    "\n",
    "geometry_textwidth = 384  # pt\n",
    "pt_to_inch = 1.0 / 72.27  # Conversion factor from points to inches\n",
    "plot_width = geometry_textwidth * pt_to_inch *0.5\n",
    "fig, ax = plt.subplots(figsize=(plot_width, plot_width*0.9))\n",
    "\n",
    "# Create the boxplot\n",
    "bp = ax.boxplot(boxdata,positions=posv,widths=(posv[1]-posv[0])*0.85, showfliers=True,\n",
    "                         patch_artist=False,  # Set patch_artist to False\n",
    "                         whiskerprops=dict(color='blue', linewidth=0.5), capprops=dict(color='blue', linewidth=0.5),\n",
    "                         medianprops=dict(color='blue', linewidth=0.5), flierprops=dict(marker='o', markersize=1,\n",
    "                                                                         markerfacecolor='black'), whis=1.5,boxprops=dict(color='blue', linewidth=0.5))\n",
    "# Create the boxplotdth=0.5))\n",
    "# Set x-axis tick positions and labels\n",
    "ax.set_xticks(posv)\n",
    "ax.set_xticklabels([f'{x:.1f}' for x in posv], rotation=45, ha='right')  # Rotate by 45 degrees\n",
    "#ax.set_xticklabels([f'{x:.1f}' for x in posv])\n",
    "# Calculate the average of each list in boxdata\n",
    "averages = [np.mean(data) for data in boxdata]\n",
    "\n",
    "# Add red scatter points for the averages\n",
    "ax.scatter(posv, averages, color='red', s=6, label='Mean')\n",
    "ax.grid()\n",
    "\n",
    "plt.savefig(\"Figures/2307/NSGAII/ZvsLST_AVG_LST.pdf\", bbox_inches='tight')\n",
    "plt.show()\n"
   ]
  },
  {
   "cell_type": "code",
   "execution_count": 95,
   "id": "a69b3ae9-2fcd-48eb-a052-5afcb35c8cae",
   "metadata": {
    "tags": []
   },
   "outputs": [],
   "source": [
    "# Create a new list of lists to store the multiplied data\n",
    "multiplied_boxdatadef = []\n",
    "\n",
    "# Multiply every element in every list in boxdatadef by 3 and add to the new list\n",
    "for sublist in boxdatadef:\n",
    "    multiplied_sublist = [x * 3 for x in sublist]\n",
    "    multiplied_boxdatadef.append(multiplied_sublist)"
   ]
  },
  {
   "cell_type": "code",
   "execution_count": 98,
   "id": "df24ab5f-961b-4c3b-afa6-727341a2bda3",
   "metadata": {
    "tags": []
   },
   "outputs": [
    {
     "name": "stderr",
     "output_type": "stream",
     "text": [
      "/tmp/ipykernel_11011/3444158913.py:39: UserWarning: Matplotlib is currently using pgf, which is a non-GUI backend, so cannot show the figure.\n",
      "  plt.show()\n",
      "Error in <TFile::Init>: file ../NSGAIIData/2307/Solutions/Sol_LStAvg/LSt_G46_AvgOpt_Vol513_230805_1core_30.root has an incorrect header length (264) or incorrect end of file length (246)\n",
      "Error in <TFile::Init>: file ../NSGAIIData/2307/Solutions/Sol_LStAvg/LSt_G46_AvgOpt_Vol513_230805_1core_30.root has an incorrect header length (264) or incorrect end of file length (246)\n"
     ]
    }
   ],
   "source": [
    "# Example usage:a\n",
    "branch='fLSt' # The default configuration does not have stored fLSt!!! too old for that\n",
    "data, dataDef =get_data_lists(branch)\n",
    "boxdata, positions_list,posv,segment_limits=segment_data(data[0],data[1],12)\n",
    "\n",
    "geometry_textwidth = 384  # pt\n",
    "pt_to_inch = 1.0 / 72.27  # Conversion factor from points to inches\n",
    "plot_width = geometry_textwidth * pt_to_inch *0.5\n",
    "fig, ax = plt.subplots(figsize=(plot_width, plot_width*0.9))\n",
    "\n",
    "# Create the boxplot\n",
    "bp = ax.boxplot(boxdata,positions=posv,widths=(posv[1]-posv[0])*0.85, showfliers=True,\n",
    "                         patch_artist=False,  # Set patch_artist to False\n",
    "                         whiskerprops=dict(color='blue', linewidth=0.5), capprops=dict(color='blue', linewidth=0.5),\n",
    "                         medianprops=dict(color='blue', linewidth=0.5), flierprops=dict(marker='o', markersize=1,\n",
    "                                                                         markerfacecolor='black'), whis=1.5,boxprops=dict(color='blue', linewidth=0.5))\n",
    "\n",
    "# Create the boxplot\n",
    "bp = ax.boxplot(multiplied_boxdatadef,positions=posv,widths=(posv[1]-posv[0])*0.85, showfliers=False,\n",
    "                         patch_artist=False,  # Set patch_artist to False\n",
    "                         whiskerprops=dict(color='red', linewidth=0.5), capprops=dict(color='red', linewidth=0.5),\n",
    "                         medianprops=dict(color='red', linewidth=0.5), flierprops=dict(marker='o', markersize=1,\n",
    "                                                                         markerfacecolor='black'), whis=1.5,boxprops=dict(color='red', linewidth=0.5))\n",
    "# Create the boxplotdth=0.5))\n",
    "# Set x-axis tick positions and labels\n",
    "ax.set_xticks(posv)\n",
    "ax.set_xticklabels([f'{x:.1f}' for x in posv], rotation=45, ha='right')  # Rotate by 45 degrees\n",
    "#ax.set_xticklabels([f'{x:.1f}' for x in posv])\n",
    "# Calculate the average of each list in boxdata\n",
    "averages = [np.mean(data) for data in boxdata]\n",
    "\n",
    "# Add red scatter points for the averages\n",
    "ax.scatter(posv, averages, color='red', s=6, label='Mean')\n",
    "ax.grid()\n",
    "ax.set_ylabel('LST')\n",
    "ax.set_xlabel('Length (\\si{\\milli\\meter})')\n",
    "\n",
    "plt.savefig(\"Figures/2307/NSGAII/ZvsLST_AVG_LST_Both.pdf\", bbox_inches='tight')\n",
    "plt.show()\n"
   ]
  },
  {
   "cell_type": "code",
   "execution_count": null,
   "id": "1a583bcf-dfde-4d2f-8973-e153ba64f4fc",
   "metadata": {},
   "outputs": [],
   "source": []
  }
 ],
 "metadata": {
  "kernelspec": {
   "display_name": "Python 3 (ipykernel)",
   "language": "python",
   "name": "python3"
  },
  "language_info": {
   "codemirror_mode": {
    "name": "ipython",
    "version": 3
   },
   "file_extension": ".py",
   "mimetype": "text/x-python",
   "name": "python",
   "nbconvert_exporter": "python",
   "pygments_lexer": "ipython3",
   "version": "3.9.16"
  }
 },
 "nbformat": 4,
 "nbformat_minor": 5
}
