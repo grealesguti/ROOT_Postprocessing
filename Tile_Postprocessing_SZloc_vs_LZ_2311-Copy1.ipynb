{
 "cells": [
  {
   "cell_type": "code",
   "execution_count": 1,
   "id": "f9caff55-ab85-4d3b-825a-9f637943d662",
   "metadata": {
    "tags": []
   },
   "outputs": [
    {
     "name": "stdout",
     "output_type": "stream",
     "text": [
      "Welcome to JupyROOT 6.26/10\n"
     ]
    }
   ],
   "source": [
    "from Postprocess_functions import *"
   ]
  },
  {
   "cell_type": "code",
   "execution_count": 2,
   "id": "67addaae-778f-42c9-9c02-cfb88ee31e32",
   "metadata": {
    "tags": []
   },
   "outputs": [
    {
     "data": {
      "text/plain": [
       "['/home/greales/Desktop/TierIIData/2023_10/Rst_Tile_14.5_0.2_1320799_119_0.root',\n",
       " '/home/greales/Desktop/TierIIData/2023_10/Rst_Tile_10.5_0.5_1320799_148_0.root',\n",
       " '/home/greales/Desktop/TierIIData/2023_10/Rst_Tile_26.5_0.3_1320802_22_0.root',\n",
       " '/home/greales/Desktop/TierIIData/2023_10/Rst_Tile_18.5_0.7_1320799_82_0.root',\n",
       " '/home/greales/Desktop/TierIIData/2023_10/Rst_Tile_7.5_0.3_1320803_174_0.root']"
      ]
     },
     "execution_count": 2,
     "metadata": {},
     "output_type": "execute_result"
    }
   ],
   "source": [
    "import os\n",
    "\n",
    "def list_files_in_folder(folder_path):\n",
    "    file_names = []\n",
    "    for root, dirs, files in os.walk(folder_path):\n",
    "        for file in files:\n",
    "            file_names.append(os.path.join(root, file))\n",
    "    return file_names\n",
    "\n",
    "folder_path =\"/home/greales/Desktop/TierIIData/2023_10/\"\n",
    "file_list = list_files_in_folder(folder_path)\n",
    "file_list[0:5]"
   ]
  },
  {
   "cell_type": "code",
   "execution_count": 3,
   "id": "bd87361e-7f0e-47e2-94a8-7c64d57d51da",
   "metadata": {
    "tags": []
   },
   "outputs": [
    {
     "data": {
      "text/plain": [
       "['/home/greales/Desktop/TierIIData/2023_10/Rst_Tile_10.5_0.5_1320799_148_0.root',\n",
       " '/home/greales/Desktop/TierIIData/2023_10/Rst_Tile_10.5_0.8_1320803_145_0.root',\n",
       " '/home/greales/Desktop/TierIIData/2023_10/Rst_Tile_10.5_0.9_1320802_144_0.root',\n",
       " '/home/greales/Desktop/TierIIData/2023_10/Rst_Tile_10.5_0.8_1320799_145_0.root',\n",
       " '/home/greales/Desktop/TierIIData/2023_10/Rst_Tile_10.5_0.7_1320802_146_0.root']"
      ]
     },
     "execution_count": 3,
     "metadata": {},
     "output_type": "execute_result"
    }
   ],
   "source": [
    "import os\n",
    "\n",
    "def filter_files_by_string(folder_path, target_string):\n",
    "    matching_files = []\n",
    "    for root, dirs, files in os.walk(folder_path):\n",
    "        for file in files:\n",
    "            file_path = os.path.join(root, file)\n",
    "            if target_string in file:\n",
    "                matching_files.append(file_path)\n",
    "    return matching_files\n",
    "\n",
    "folder_path =\"/home/greales/Desktop/TierIIData/2023_10/\"\n",
    "target_string = '10.5'\n",
    "filtered_files = filter_files_by_string(folder_path, target_string)\n",
    "filtered_files[0:5]"
   ]
  },
  {
   "cell_type": "code",
   "execution_count": 4,
   "id": "f30d21aa-bb32-45be-ae46-eb12ee7f56dc",
   "metadata": {
    "tags": []
   },
   "outputs": [
    {
     "name": "stdout",
     "output_type": "stream",
     "text": [
      "First Values: [10.5, 10.5, 10.5, 10.5, 10.5, 10.5, 10.5, 10.5, 10.5, 10.5, 10.5, 10.5, 10.5, 10.5, 10.5, 10.5, 10.5, 10.5, 10.5, 10.5, 10.5, 10.5, 10.5, 10.5]\n",
      "Second Values: [0.5, 0.8, 0.9, 0.8, 0.7, 0.5, 0.3, 0.3, 0.4, 0.6, 0.4, 0.3, 0.8, 0.7, 0.9, 0.6, 0.2, 0.9, 0.2, 0.4, 0.7, 0.5, 0.2, 0.6]\n"
     ]
    }
   ],
   "source": [
    "import re\n",
    "\n",
    "def extract_values_from_filenames(filenames):\n",
    "    first_values = []\n",
    "    second_values = []\n",
    "\n",
    "    for filename in filenames:\n",
    "        match = re.search(r'Rst_Tile_(\\d+\\.\\d+)_(\\d+\\.\\d+)_', filename)\n",
    "        if match:\n",
    "            first_value = float(match.group(1))\n",
    "            second_value = float(match.group(2))\n",
    "            first_values.append(first_value)\n",
    "            second_values.append(second_value)\n",
    "\n",
    "    return first_values, second_values\n",
    "\n",
    "# Example filenames\n",
    "filenames = [\n",
    "    \"Rst_Tile_10.5_0.5_1320799_148_0.root\",\n",
    "    \"Rst_Tile_20.3_1.2_9876543_555_0.root\",\n",
    "    \"Rst_Tile_15.7_0.8_1234567_777_0.root\",\n",
    "]\n",
    "\n",
    "first_values, second_values = extract_values_from_filenames(filtered_files)\n",
    "\n",
    "print(\"First Values:\", first_values)\n",
    "print(\"Second Values:\", second_values)\n"
   ]
  },
  {
   "cell_type": "code",
   "execution_count": 5,
   "id": "b1368968-a015-446b-8916-6316cb6cfea1",
   "metadata": {
    "tags": []
   },
   "outputs": [
    {
     "name": "stdout",
     "output_type": "stream",
     "text": [
      "Unique and Sorted First Values: [4.5, 5.5, 6.5, 7.5, 8.5, 9.5, 10.5, 11.5, 12.5, 13.5, 14.5, 15.5, 16.5, 17.5, 18.5, 19.5, 20.5, 21.5, 22.5, 23.5, 24.5, 25.5, 26.5, 27.5, 28.5]\n",
      "Unique and Sorted Second Values: [0.2, 0.3, 0.4, 0.5, 0.6, 0.7, 0.8, 0.9]\n"
     ]
    }
   ],
   "source": [
    "import re\n",
    "\n",
    "def extract_values_from_filenames(filenames):\n",
    "    first_values = []\n",
    "    second_values = []\n",
    "\n",
    "    for filename in filenames:\n",
    "        match = re.search(r'Rst_Tile_(\\d+\\.\\d+)_(\\d+\\.\\d+)_', filename)\n",
    "        if match:\n",
    "            first_value = float(match.group(1))\n",
    "            second_value = float(match.group(2))\n",
    "            first_values.append(first_value)\n",
    "            second_values.append(second_value)\n",
    "\n",
    "    return first_values, second_values\n",
    "\n",
    "def remove_duplicates_and_sort(values):\n",
    "    unique_values = sorted(set(values))\n",
    "    return unique_values\n",
    "\n",
    "# Example filenames\n",
    "filenames = [\n",
    "    \"Rst_Tile_10.5_0.5_1320799_148_0.root\",\n",
    "    \"Rst_Tile_20.3_1.2_9876543_555_0.root\",\n",
    "    \"Rst_Tile_15.7_0.8_1234567_777_0.root\",\n",
    "]\n",
    "\n",
    "first_values, second_values = extract_values_from_filenames(file_list)\n",
    "\n",
    "unique_first_values = remove_duplicates_and_sort(first_values)\n",
    "unique_second_values = remove_duplicates_and_sort(second_values)\n",
    "\n",
    "print(\"Unique and Sorted First Values:\", unique_first_values)\n",
    "print(\"Unique and Sorted Second Values:\", unique_second_values)\n"
   ]
  },
  {
   "cell_type": "code",
   "execution_count": 6,
   "id": "4a8f1ebf-d914-41fd-af4c-68dbda159640",
   "metadata": {
    "tags": []
   },
   "outputs": [
    {
     "name": "stdout",
     "output_type": "stream",
     "text": [
      "File Paths:\n",
      "/home/greales/Desktop/TierIIData/2023_10/Rst_Tile_14.5_0.2_1320799_119_0.root\n",
      "/home/greales/Desktop/TierIIData/2023_10/Rst_Tile_10.5_0.5_1320799_148_0.root\n",
      "/home/greales/Desktop/TierIIData/2023_10/Rst_Tile_26.5_0.3_1320802_22_0.root\n",
      "/home/greales/Desktop/TierIIData/2023_10/Rst_Tile_18.5_0.7_1320799_82_0.root\n",
      "/home/greales/Desktop/TierIIData/2023_10/Rst_Tile_7.5_0.3_1320803_174_0.root\n",
      "First Values:\n",
      "14.5\n",
      "10.5\n",
      "26.5\n",
      "18.5\n",
      "7.5\n",
      "Second Values:\n",
      "0.2\n",
      "0.5\n",
      "0.3\n",
      "0.7\n",
      "0.3\n"
     ]
    }
   ],
   "source": [
    "import os\n",
    "import re\n",
    "\n",
    "def extract_values_from_filenames(filenames):\n",
    "    first_values = []\n",
    "    second_values = []\n",
    "\n",
    "    for filename in filenames:\n",
    "        match = re.search(r'Rst_Tile_(\\d+\\.\\d+)_(\\d+\\.\\d+)_', filename)\n",
    "        if match:\n",
    "            first_value = float(match.group(1))\n",
    "            second_value = float(match.group(2))\n",
    "            first_values.append(first_value)\n",
    "            second_values.append(second_value)\n",
    "\n",
    "    return first_values, second_values\n",
    "\n",
    "def read_files_and_extract_values(folder_path):\n",
    "    file_paths = []\n",
    "    first_values_list = []\n",
    "    second_values_list = []\n",
    "\n",
    "    for root, dirs, files in os.walk(folder_path):\n",
    "        for file in files:\n",
    "            file_path = os.path.join(root, file)\n",
    "            file_paths.append(file_path)\n",
    "\n",
    "    first_values, second_values = extract_values_from_filenames(file_paths)\n",
    "    first_values_list.extend(first_values)\n",
    "    second_values_list.extend(second_values)\n",
    "\n",
    "    return file_paths, first_values_list, second_values_list\n",
    "\n",
    "# Example folder path\n",
    "folder_path =\"/home/greales/Desktop/TierIIData/2023_10/\"\n",
    "file_paths, first_values, second_values = read_files_and_extract_values(folder_path)\n",
    "\n",
    "print(\"File Paths:\")\n",
    "for file_path in file_paths[0:5]:\n",
    "    print(file_path)\n",
    "\n",
    "print(\"First Values:\")\n",
    "for value in first_values[0:5]:\n",
    "    print(value)\n",
    "\n",
    "print(\"Second Values:\")\n",
    "for value in second_values[0:5]:\n",
    "    print(value)\n"
   ]
  },
  {
   "cell_type": "code",
   "execution_count": 7,
   "id": "afc3f90f-4f6f-492e-ac83-cd45dcccff5b",
   "metadata": {
    "tags": []
   },
   "outputs": [
    {
     "data": {
      "text/plain": [
       "['/home/greales/Desktop/TierIIData/2023_10/Rst_Tile_14.5_0.2_1320799_119_0.root',\n",
       " '/home/greales/Desktop/TierIIData/2023_10/Rst_Tile_14.5_0.6_1320799_115_0.root',\n",
       " '/home/greales/Desktop/TierIIData/2023_10/Rst_Tile_14.5_0.2_1320803_119_0.root',\n",
       " '/home/greales/Desktop/TierIIData/2023_10/Rst_Tile_14.5_0.2_1320802_119_0.root',\n",
       " '/home/greales/Desktop/TierIIData/2023_10/Rst_Tile_14.5_0.5_1320799_116_0.root',\n",
       " '/home/greales/Desktop/TierIIData/2023_10/Rst_Tile_14.5_0.3_1320799_118_0.root',\n",
       " '/home/greales/Desktop/TierIIData/2023_10/Rst_Tile_14.5_0.5_1320802_116_0.root',\n",
       " '/home/greales/Desktop/TierIIData/2023_10/Rst_Tile_14.5_0.7_1320803_114_0.root',\n",
       " '/home/greales/Desktop/TierIIData/2023_10/Rst_Tile_14.5_0.7_1320799_114_0.root',\n",
       " '/home/greales/Desktop/TierIIData/2023_10/Rst_Tile_14.5_0.4_1320802_117_0.root',\n",
       " '/home/greales/Desktop/TierIIData/2023_10/Rst_Tile_14.5_0.8_1320799_113_0.root',\n",
       " '/home/greales/Desktop/TierIIData/2023_10/Rst_Tile_14.5_0.5_1320803_116_0.root',\n",
       " '/home/greales/Desktop/TierIIData/2023_10/Rst_Tile_14.5_0.9_1320799_112_0.root',\n",
       " '/home/greales/Desktop/TierIIData/2023_10/Rst_Tile_14.5_0.8_1320803_113_0.root',\n",
       " '/home/greales/Desktop/TierIIData/2023_10/Rst_Tile_14.5_0.9_1320802_112_0.root',\n",
       " '/home/greales/Desktop/TierIIData/2023_10/Rst_Tile_14.5_0.6_1320802_115_0.root',\n",
       " '/home/greales/Desktop/TierIIData/2023_10/Rst_Tile_14.5_0.9_1320803_112_0.root',\n",
       " '/home/greales/Desktop/TierIIData/2023_10/Rst_Tile_14.5_0.3_1320803_118_0.root',\n",
       " '/home/greales/Desktop/TierIIData/2023_10/Rst_Tile_14.5_0.8_1320802_113_0.root',\n",
       " '/home/greales/Desktop/TierIIData/2023_10/Rst_Tile_14.5_0.3_1320802_118_0.root',\n",
       " '/home/greales/Desktop/TierIIData/2023_10/Rst_Tile_14.5_0.6_1320803_115_0.root',\n",
       " '/home/greales/Desktop/TierIIData/2023_10/Rst_Tile_14.5_0.4_1320799_117_0.root',\n",
       " '/home/greales/Desktop/TierIIData/2023_10/Rst_Tile_14.5_0.4_1320803_117_0.root',\n",
       " '/home/greales/Desktop/TierIIData/2023_10/Rst_Tile_14.5_0.7_1320802_114_0.root']"
      ]
     },
     "execution_count": 7,
     "metadata": {},
     "output_type": "execute_result"
    }
   ],
   "source": [
    "def filter_files_and_second_values(file_paths, first_values, second_values, first_value):\n",
    "    matching_file_paths = []\n",
    "    matching_second_values = []\n",
    "\n",
    "    for i, value in enumerate(first_values):\n",
    "        if value == first_value:\n",
    "            matching_file_paths.append(file_paths[i])\n",
    "            matching_second_values.append(second_values[i])\n",
    "\n",
    "    return matching_file_paths, matching_second_values\n",
    "\n",
    "matching_file_paths, matching_second_values = filter_files_and_second_values(\n",
    "    file_paths, first_values, second_values, 14.5\n",
    ")\n",
    "matching_file_paths"
   ]
  },
  {
   "cell_type": "code",
   "execution_count": 8,
   "id": "a02ee034-4076-462b-b011-ab023272409a",
   "metadata": {
    "tags": []
   },
   "outputs": [],
   "source": [
    "def get_branch_values(file_path, tree_name, branch_name):\n",
    "    root_file = TFile(file_path)\n",
    "    tree = root_file.Get(tree_name)\n",
    "    branch = tree.GetBranch(branch_name)\n",
    "    values = []\n",
    "    count_zero=0\n",
    "    for i in range(branch.GetEntries()):\n",
    "        branch.GetEntry(i)\n",
    "        val=branch.GetLeaf(branch_name).GetValue()\n",
    "        if (val>0):\n",
    "            values.append(val)\n",
    "        else:\n",
    "            count_zero+=1\n",
    "        #values.append(val)\n",
    "    root_file.Close()\n",
    "    #print(count_zero)\n",
    "    return values"
   ]
  },
  {
   "cell_type": "code",
   "execution_count": 9,
   "id": "643cc42a-df9f-431c-b3b4-4bf2dc720521",
   "metadata": {
    "tags": []
   },
   "outputs": [],
   "source": [
    "file_path=file_paths[0]\n",
    "LO=[]\n",
    "for file_path in matching_file_paths:\n",
    "    LO_read=get_branch_values(file_path, \"EndOfEvent\", \"fLOapprox\")\n",
    "    LO.append(LO_read)"
   ]
  },
  {
   "cell_type": "code",
   "execution_count": 10,
   "id": "6c73b1b9-00be-4d2f-9263-1488e32633e1",
   "metadata": {
    "tags": []
   },
   "outputs": [
    {
     "data": {
      "image/png": "[encoded data removed]",
      "text/plain": [
       "<Figure size 800x600 with 1 Axes>"
      ]
     },
     "metadata": {},
     "output_type": "display_data"
    }
   ],
   "source": [
    "import matplotlib.pyplot as plt\n",
    "\n",
    "def plot_distribution(values, title=\"Distribution Plot\"):\n",
    "    plt.figure(figsize=(8, 6))\n",
    "    plt.hist(values, bins=20, edgecolor='k', alpha=0.75)\n",
    "    plt.title(title)\n",
    "    plt.xlabel(\"Values\")\n",
    "    plt.ylabel(\"Frequency\")\n",
    "    plt.grid(True)\n",
    "    plt.show()\n",
    "plot_distribution(LO, title=\"Example Distribution\")\n"
   ]
  },
  {
   "cell_type": "code",
   "execution_count": 11,
   "id": "8c66b7cb-a4ee-4165-87de-1e125e46d84a",
   "metadata": {
    "tags": []
   },
   "outputs": [],
   "source": [
    "def filter_file_paths_by_second_value(matching_file_paths, matching_second_values, second_value):\n",
    "    matching_paths = [matching_file_paths[i] for i, value in enumerate(matching_second_values) if value == second_value]\n",
    "    return matching_paths"
   ]
  },
  {
   "cell_type": "code",
   "execution_count": 12,
   "id": "5a5f1110-c45a-4a48-a89f-ad9ac489f482",
   "metadata": {
    "tags": []
   },
   "outputs": [],
   "source": [
    "file_path = file_paths[0]\n",
    "unique_second_values_filter = unique_second_values\n",
    "\n",
    "# Create a dictionary to store values for each LZ and SZloc\n",
    "LO_dict = {}\n",
    "\n",
    "for LZ in unique_first_values:\n",
    "    matching_file_paths, matching_second_values = filter_files_and_second_values(\n",
    "        file_paths, first_values, second_values, LZ\n",
    "    )\n",
    "    LO_dict[LZ] = {}  # Create a sub-dictionary for LZ\n",
    "\n",
    "    for SZloc in unique_second_values_filter:\n",
    "        filtered_paths = filter_file_paths_by_second_value(matching_file_paths, matching_second_values, SZloc)\n",
    "        LO = []\n",
    "\n",
    "        for file_path in filtered_paths:  # Use filtered_paths here instead of matching_file_paths\n",
    "            LO_read = get_branch_values(file_path, \"EndOfEvent\", \"fLOapprox\")\n",
    "            #LO_read = get_branch_values(file_path, \"EndOfEvent\", \"fLSt\")\n",
    "            LO.append(LO_read)\n",
    "\n",
    "        LO_dict[LZ][SZloc] = LO  # Store LO as a value for the LZ and SZloc\n",
    "\n",
    "# Now, LO_dict is a dictionary where LO_dict[LZ][SZloc] contains the list of values for each LZ and SZloc\n"
   ]
  },
  {
   "cell_type": "code",
   "execution_count": 15,
   "id": "6bee2262-4ae5-4cb1-968b-dcfd48397184",
   "metadata": {
    "tags": []
   },
   "outputs": [
    {
     "name": "stdout",
     "output_type": "stream",
     "text": [
      "0.2\n",
      "0.9\n",
      "[4.5, 5.5, 6.5, 7.5, 8.5, 9.5, 10.5, 11.5, 12.5, 13.5, 14.5, 15.5, 16.5, 17.5, 18.5, 19.5, 20.5, 21.5, 22.5, 23.5, 24.5, 25.5, 26.5, 27.5, 28.5, 4.5, 5.5, 6.5, 7.5, 8.5, 9.5, 10.5, 11.5, 12.5, 13.5, 14.5, 15.5, 16.5, 17.5, 18.5, 19.5, 20.5, 21.5, 22.5, 23.5, 24.5, 25.5, 26.5, 27.5, 28.5]\n"
     ]
    },
    {
     "data": {
      "image/png": "[encoded data removed]",
      "text/plain": [
       "<Figure size 1000x600 with 1 Axes>"
      ]
     },
     "metadata": {},
     "output_type": "display_data"
    }
   ],
   "source": [
    "import matplotlib.pyplot as plt\n",
    "\n",
    "def create_multiple_horizontal_boxplots(data_list, locations_list, box_width, colors):\n",
    "    positions = locations_list\n",
    "    widths = [box_width] * len(locations_list)\n",
    "\n",
    "    # Create a single figure for all the boxplots\n",
    "    plt.figure(figsize=(10, 6))\n",
    "    boxplot = plt.boxplot(data_list, positions=positions, widths=widths, patch_artist=True)\n",
    "\n",
    "    # Set the edge color for all boxes to the specified colors\n",
    "    for i, box in enumerate(boxplot['boxes']):\n",
    "        box.set(edgecolor=colors[i], linewidth=1.5, fill=False)  # Set fill to False to leave the boxes unfilled\n",
    "\n",
    "    # Set the color for the whiskers\n",
    "    for i, whisker in enumerate(boxplot['whiskers']):\n",
    "        whisker.set(color=colors[i // 2])  # Use the same color for the whiskers as their corresponding box\n",
    "\n",
    "    # Set the color for the median lines (P50)\n",
    "    for i, median in enumerate(boxplot['medians']):\n",
    "        median.set(color=colors[i])  # Use the same color for the median line as its corresponding box\n",
    "\n",
    "    # Set the color for the outliers, considering boxes without outliers\n",
    "    for i, flier in enumerate(boxplot['fliers']):\n",
    "            flier.set(markerfacecolor=colors[i], marker='o', markersize=6)  # Use the same color for the outliers as their corresponding box\n",
    "\n",
    "    plt.xlabel('Half-Length of the Scintillator')\n",
    "    plt.ylabel('Light Measurement')\n",
    "    #plt.title('Multiple Boxplots with Common Width = {:.2f}'.format(box_width))\n",
    "    plt.show()\n",
    "    \n",
    "# Loop through the LZ values and retrieve LO values for the specified SZloc\n",
    "data_to_plot = []\n",
    "SZloc = 0.5\n",
    "colors=[]\n",
    "color_list=['r','g','b']\n",
    "c=0\n",
    "locations_list=[]\n",
    "LZ_values = unique_first_values # Use a list of LZ values to iterate over\n",
    "for SZloc in [0.2,0.9]:\n",
    "    print(SZloc)\n",
    "    for LZ in LZ_values:\n",
    "        if LZ in LO_dict and SZloc in LO_dict[LZ]:\n",
    "            LO_values = LO_dict[LZ][SZloc]\n",
    "            merged_list = [value for sublist in LO_values for value in sublist]\n",
    "            data_to_plot.append(merged_list)  # Extend the data_to_plot list with LO_values as a single list\n",
    "            colors.append(color_list[c])\n",
    "    locations_list.extend(LZ_values)\n",
    "    c+=1\n",
    "# Example usage:\n",
    "data_list = data_to_plot  # Replace with your data\n",
    "box_width = 0.5  # Replace with the desired box width\n",
    "print(locations_list)\n",
    "create_multiple_horizontal_boxplots(data_list, locations_list, box_width,colors)\n"
   ]
  },
  {
   "cell_type": "code",
   "execution_count": 14,
   "id": "254c8179-96b6-46b6-b9c6-4d0dd56ec030",
   "metadata": {
    "tags": []
   },
   "outputs": [
    {
     "ename": "ValueError",
     "evalue": "List of boxplot statistics and `positions` values must have same the length",
     "output_type": "error",
     "traceback": [
      "\u001b[0;31m---------------------------------------------------------------------------\u001b[0m",
      "\u001b[0;31mValueError\u001b[0m                                Traceback (most recent call last)",
      "Cell \u001b[0;32mIn [14], line 35\u001b[0m\n\u001b[1;32m     32\u001b[0m     data_list\u001b[38;5;241m.\u001b[39mappend(data_to_plot)\n\u001b[1;32m     34\u001b[0m box_width \u001b[38;5;241m=\u001b[39m \u001b[38;5;241m0.5\u001b[39m  \u001b[38;5;66;03m# Replace with the desired box width\u001b[39;00m\n\u001b[0;32m---> 35\u001b[0m \u001b[43mcreate_multiple_horizontal_boxplots\u001b[49m\u001b[43m(\u001b[49m\u001b[43mdata_list\u001b[49m\u001b[43m,\u001b[49m\u001b[43m \u001b[49m\u001b[43mSZloc_values\u001b[49m\u001b[43m,\u001b[49m\u001b[43m \u001b[49m\u001b[43mbox_width\u001b[49m\u001b[43m,\u001b[49m\u001b[43m \u001b[49m\u001b[43mcolors\u001b[49m\u001b[43m)\u001b[49m\n",
      "Cell \u001b[0;32mIn [14], line 10\u001b[0m, in \u001b[0;36mcreate_multiple_horizontal_boxplots\u001b[0;34m(data_list, locations_list, box_width, colors)\u001b[0m\n\u001b[1;32m      8\u001b[0m     positions \u001b[38;5;241m=\u001b[39m [location]\n\u001b[1;32m      9\u001b[0m     widths \u001b[38;5;241m=\u001b[39m [box_width]\n\u001b[0;32m---> 10\u001b[0m     \u001b[43mplt\u001b[49m\u001b[38;5;241;43m.\u001b[39;49m\u001b[43mboxplot\u001b[49m\u001b[43m(\u001b[49m\u001b[43mdata\u001b[49m\u001b[43m,\u001b[49m\u001b[43m \u001b[49m\u001b[43mpositions\u001b[49m\u001b[38;5;241;43m=\u001b[39;49m\u001b[43mpositions\u001b[49m\u001b[43m,\u001b[49m\u001b[43m \u001b[49m\u001b[43mwidths\u001b[49m\u001b[38;5;241;43m=\u001b[39;49m\u001b[43mwidths\u001b[49m\u001b[43m,\u001b[49m\u001b[43m \u001b[49m\u001b[43mpatch_artist\u001b[49m\u001b[38;5;241;43m=\u001b[39;49m\u001b[38;5;28;43;01mTrue\u001b[39;49;00m\u001b[43m,\u001b[49m\u001b[43m \u001b[49m\u001b[43mboxprops\u001b[49m\u001b[38;5;241;43m=\u001b[39;49m\u001b[38;5;28;43mdict\u001b[39;49m\u001b[43m(\u001b[49m\u001b[43mfacecolor\u001b[49m\u001b[38;5;241;43m=\u001b[39;49m\u001b[43mcolor\u001b[49m\u001b[43m)\u001b[49m\u001b[43m)\u001b[49m\n\u001b[1;32m     12\u001b[0m plt\u001b[38;5;241m.\u001b[39mxlabel(\u001b[38;5;124m'\u001b[39m\u001b[38;5;124mY-axis Label\u001b[39m\u001b[38;5;124m'\u001b[39m)\n\u001b[1;32m     13\u001b[0m plt\u001b[38;5;241m.\u001b[39mylabel(\u001b[38;5;124m'\u001b[39m\u001b[38;5;124mX-axis Label\u001b[39m\u001b[38;5;124m'\u001b[39m)\n",
      "File \u001b[0;32m~/miniconda3/envs/rootenv/lib/python3.9/site-packages/matplotlib/pyplot.py:2411\u001b[0m, in \u001b[0;36mboxplot\u001b[0;34m(x, notch, sym, vert, whis, positions, widths, patch_artist, bootstrap, usermedians, conf_intervals, meanline, showmeans, showcaps, showbox, showfliers, boxprops, labels, flierprops, medianprops, meanprops, capprops, whiskerprops, manage_ticks, autorange, zorder, capwidths, data)\u001b[0m\n\u001b[1;32m   2401\u001b[0m \u001b[38;5;129m@_copy_docstring_and_deprecators\u001b[39m(Axes\u001b[38;5;241m.\u001b[39mboxplot)\n\u001b[1;32m   2402\u001b[0m \u001b[38;5;28;01mdef\u001b[39;00m \u001b[38;5;21mboxplot\u001b[39m(\n\u001b[1;32m   2403\u001b[0m         x, notch\u001b[38;5;241m=\u001b[39m\u001b[38;5;28;01mNone\u001b[39;00m, sym\u001b[38;5;241m=\u001b[39m\u001b[38;5;28;01mNone\u001b[39;00m, vert\u001b[38;5;241m=\u001b[39m\u001b[38;5;28;01mNone\u001b[39;00m, whis\u001b[38;5;241m=\u001b[39m\u001b[38;5;28;01mNone\u001b[39;00m,\n\u001b[0;32m   (...)\u001b[0m\n\u001b[1;32m   2409\u001b[0m         whiskerprops\u001b[38;5;241m=\u001b[39m\u001b[38;5;28;01mNone\u001b[39;00m, manage_ticks\u001b[38;5;241m=\u001b[39m\u001b[38;5;28;01mTrue\u001b[39;00m, autorange\u001b[38;5;241m=\u001b[39m\u001b[38;5;28;01mFalse\u001b[39;00m,\n\u001b[1;32m   2410\u001b[0m         zorder\u001b[38;5;241m=\u001b[39m\u001b[38;5;28;01mNone\u001b[39;00m, capwidths\u001b[38;5;241m=\u001b[39m\u001b[38;5;28;01mNone\u001b[39;00m, \u001b[38;5;241m*\u001b[39m, data\u001b[38;5;241m=\u001b[39m\u001b[38;5;28;01mNone\u001b[39;00m):\n\u001b[0;32m-> 2411\u001b[0m     \u001b[38;5;28;01mreturn\u001b[39;00m \u001b[43mgca\u001b[49m\u001b[43m(\u001b[49m\u001b[43m)\u001b[49m\u001b[38;5;241;43m.\u001b[39;49m\u001b[43mboxplot\u001b[49m\u001b[43m(\u001b[49m\n\u001b[1;32m   2412\u001b[0m \u001b[43m        \u001b[49m\u001b[43mx\u001b[49m\u001b[43m,\u001b[49m\u001b[43m \u001b[49m\u001b[43mnotch\u001b[49m\u001b[38;5;241;43m=\u001b[39;49m\u001b[43mnotch\u001b[49m\u001b[43m,\u001b[49m\u001b[43m \u001b[49m\u001b[43msym\u001b[49m\u001b[38;5;241;43m=\u001b[39;49m\u001b[43msym\u001b[49m\u001b[43m,\u001b[49m\u001b[43m \u001b[49m\u001b[43mvert\u001b[49m\u001b[38;5;241;43m=\u001b[39;49m\u001b[43mvert\u001b[49m\u001b[43m,\u001b[49m\u001b[43m \u001b[49m\u001b[43mwhis\u001b[49m\u001b[38;5;241;43m=\u001b[39;49m\u001b[43mwhis\u001b[49m\u001b[43m,\u001b[49m\n\u001b[1;32m   2413\u001b[0m \u001b[43m        \u001b[49m\u001b[43mpositions\u001b[49m\u001b[38;5;241;43m=\u001b[39;49m\u001b[43mpositions\u001b[49m\u001b[43m,\u001b[49m\u001b[43m \u001b[49m\u001b[43mwidths\u001b[49m\u001b[38;5;241;43m=\u001b[39;49m\u001b[43mwidths\u001b[49m\u001b[43m,\u001b[49m\u001b[43m \u001b[49m\u001b[43mpatch_artist\u001b[49m\u001b[38;5;241;43m=\u001b[39;49m\u001b[43mpatch_artist\u001b[49m\u001b[43m,\u001b[49m\n\u001b[1;32m   2414\u001b[0m \u001b[43m        \u001b[49m\u001b[43mbootstrap\u001b[49m\u001b[38;5;241;43m=\u001b[39;49m\u001b[43mbootstrap\u001b[49m\u001b[43m,\u001b[49m\u001b[43m \u001b[49m\u001b[43musermedians\u001b[49m\u001b[38;5;241;43m=\u001b[39;49m\u001b[43musermedians\u001b[49m\u001b[43m,\u001b[49m\n\u001b[1;32m   2415\u001b[0m \u001b[43m        \u001b[49m\u001b[43mconf_intervals\u001b[49m\u001b[38;5;241;43m=\u001b[39;49m\u001b[43mconf_intervals\u001b[49m\u001b[43m,\u001b[49m\u001b[43m \u001b[49m\u001b[43mmeanline\u001b[49m\u001b[38;5;241;43m=\u001b[39;49m\u001b[43mmeanline\u001b[49m\u001b[43m,\u001b[49m\n\u001b[1;32m   2416\u001b[0m \u001b[43m        \u001b[49m\u001b[43mshowmeans\u001b[49m\u001b[38;5;241;43m=\u001b[39;49m\u001b[43mshowmeans\u001b[49m\u001b[43m,\u001b[49m\u001b[43m \u001b[49m\u001b[43mshowcaps\u001b[49m\u001b[38;5;241;43m=\u001b[39;49m\u001b[43mshowcaps\u001b[49m\u001b[43m,\u001b[49m\u001b[43m \u001b[49m\u001b[43mshowbox\u001b[49m\u001b[38;5;241;43m=\u001b[39;49m\u001b[43mshowbox\u001b[49m\u001b[43m,\u001b[49m\n\u001b[1;32m   2417\u001b[0m \u001b[43m        \u001b[49m\u001b[43mshowfliers\u001b[49m\u001b[38;5;241;43m=\u001b[39;49m\u001b[43mshowfliers\u001b[49m\u001b[43m,\u001b[49m\u001b[43m \u001b[49m\u001b[43mboxprops\u001b[49m\u001b[38;5;241;43m=\u001b[39;49m\u001b[43mboxprops\u001b[49m\u001b[43m,\u001b[49m\u001b[43m \u001b[49m\u001b[43mlabels\u001b[49m\u001b[38;5;241;43m=\u001b[39;49m\u001b[43mlabels\u001b[49m\u001b[43m,\u001b[49m\n\u001b[1;32m   2418\u001b[0m \u001b[43m        \u001b[49m\u001b[43mflierprops\u001b[49m\u001b[38;5;241;43m=\u001b[39;49m\u001b[43mflierprops\u001b[49m\u001b[43m,\u001b[49m\u001b[43m \u001b[49m\u001b[43mmedianprops\u001b[49m\u001b[38;5;241;43m=\u001b[39;49m\u001b[43mmedianprops\u001b[49m\u001b[43m,\u001b[49m\n\u001b[1;32m   2419\u001b[0m \u001b[43m        \u001b[49m\u001b[43mmeanprops\u001b[49m\u001b[38;5;241;43m=\u001b[39;49m\u001b[43mmeanprops\u001b[49m\u001b[43m,\u001b[49m\u001b[43m \u001b[49m\u001b[43mcapprops\u001b[49m\u001b[38;5;241;43m=\u001b[39;49m\u001b[43mcapprops\u001b[49m\u001b[43m,\u001b[49m\n\u001b[1;32m   2420\u001b[0m \u001b[43m        \u001b[49m\u001b[43mwhiskerprops\u001b[49m\u001b[38;5;241;43m=\u001b[39;49m\u001b[43mwhiskerprops\u001b[49m\u001b[43m,\u001b[49m\u001b[43m \u001b[49m\u001b[43mmanage_ticks\u001b[49m\u001b[38;5;241;43m=\u001b[39;49m\u001b[43mmanage_ticks\u001b[49m\u001b[43m,\u001b[49m\n\u001b[1;32m   2421\u001b[0m \u001b[43m        \u001b[49m\u001b[43mautorange\u001b[49m\u001b[38;5;241;43m=\u001b[39;49m\u001b[43mautorange\u001b[49m\u001b[43m,\u001b[49m\u001b[43m \u001b[49m\u001b[43mzorder\u001b[49m\u001b[38;5;241;43m=\u001b[39;49m\u001b[43mzorder\u001b[49m\u001b[43m,\u001b[49m\u001b[43m \u001b[49m\u001b[43mcapwidths\u001b[49m\u001b[38;5;241;43m=\u001b[39;49m\u001b[43mcapwidths\u001b[49m\u001b[43m,\u001b[49m\n\u001b[1;32m   2422\u001b[0m \u001b[43m        \u001b[49m\u001b[38;5;241;43m*\u001b[39;49m\u001b[38;5;241;43m*\u001b[39;49m\u001b[43m(\u001b[49m\u001b[43m{\u001b[49m\u001b[38;5;124;43m\"\u001b[39;49m\u001b[38;5;124;43mdata\u001b[39;49m\u001b[38;5;124;43m\"\u001b[39;49m\u001b[43m:\u001b[49m\u001b[43m \u001b[49m\u001b[43mdata\u001b[49m\u001b[43m}\u001b[49m\u001b[43m \u001b[49m\u001b[38;5;28;43;01mif\u001b[39;49;00m\u001b[43m \u001b[49m\u001b[43mdata\u001b[49m\u001b[43m \u001b[49m\u001b[38;5;129;43;01mis\u001b[39;49;00m\u001b[43m \u001b[49m\u001b[38;5;129;43;01mnot\u001b[39;49;00m\u001b[43m \u001b[49m\u001b[38;5;28;43;01mNone\u001b[39;49;00m\u001b[43m \u001b[49m\u001b[38;5;28;43;01melse\u001b[39;49;00m\u001b[43m \u001b[49m\u001b[43m{\u001b[49m\u001b[43m}\u001b[49m\u001b[43m)\u001b[49m\u001b[43m)\u001b[49m\n",
      "File \u001b[0;32m~/miniconda3/envs/rootenv/lib/python3.9/site-packages/matplotlib/__init__.py:1423\u001b[0m, in \u001b[0;36m_preprocess_data.<locals>.inner\u001b[0;34m(ax, data, *args, **kwargs)\u001b[0m\n\u001b[1;32m   1420\u001b[0m \u001b[38;5;129m@functools\u001b[39m\u001b[38;5;241m.\u001b[39mwraps(func)\n\u001b[1;32m   1421\u001b[0m \u001b[38;5;28;01mdef\u001b[39;00m \u001b[38;5;21minner\u001b[39m(ax, \u001b[38;5;241m*\u001b[39margs, data\u001b[38;5;241m=\u001b[39m\u001b[38;5;28;01mNone\u001b[39;00m, \u001b[38;5;241m*\u001b[39m\u001b[38;5;241m*\u001b[39mkwargs):\n\u001b[1;32m   1422\u001b[0m     \u001b[38;5;28;01mif\u001b[39;00m data \u001b[38;5;129;01mis\u001b[39;00m \u001b[38;5;28;01mNone\u001b[39;00m:\n\u001b[0;32m-> 1423\u001b[0m         \u001b[38;5;28;01mreturn\u001b[39;00m \u001b[43mfunc\u001b[49m\u001b[43m(\u001b[49m\u001b[43max\u001b[49m\u001b[43m,\u001b[49m\u001b[43m \u001b[49m\u001b[38;5;241;43m*\u001b[39;49m\u001b[38;5;28;43mmap\u001b[39;49m\u001b[43m(\u001b[49m\u001b[43msanitize_sequence\u001b[49m\u001b[43m,\u001b[49m\u001b[43m \u001b[49m\u001b[43margs\u001b[49m\u001b[43m)\u001b[49m\u001b[43m,\u001b[49m\u001b[43m \u001b[49m\u001b[38;5;241;43m*\u001b[39;49m\u001b[38;5;241;43m*\u001b[39;49m\u001b[43mkwargs\u001b[49m\u001b[43m)\u001b[49m\n\u001b[1;32m   1425\u001b[0m     bound \u001b[38;5;241m=\u001b[39m new_sig\u001b[38;5;241m.\u001b[39mbind(ax, \u001b[38;5;241m*\u001b[39margs, \u001b[38;5;241m*\u001b[39m\u001b[38;5;241m*\u001b[39mkwargs)\n\u001b[1;32m   1426\u001b[0m     auto_label \u001b[38;5;241m=\u001b[39m (bound\u001b[38;5;241m.\u001b[39marguments\u001b[38;5;241m.\u001b[39mget(label_namer)\n\u001b[1;32m   1427\u001b[0m                   \u001b[38;5;129;01mor\u001b[39;00m bound\u001b[38;5;241m.\u001b[39mkwargs\u001b[38;5;241m.\u001b[39mget(label_namer))\n",
      "File \u001b[0;32m~/miniconda3/envs/rootenv/lib/python3.9/site-packages/matplotlib/axes/_axes.py:3946\u001b[0m, in \u001b[0;36mAxes.boxplot\u001b[0;34m(self, x, notch, sym, vert, whis, positions, widths, patch_artist, bootstrap, usermedians, conf_intervals, meanline, showmeans, showcaps, showbox, showfliers, boxprops, labels, flierprops, medianprops, meanprops, capprops, whiskerprops, manage_ticks, autorange, zorder, capwidths)\u001b[0m\n\u001b[1;32m   3943\u001b[0m                     \u001b[38;5;28;01mif\u001b[39;00m ci[\u001b[38;5;241m1\u001b[39m] \u001b[38;5;129;01mis\u001b[39;00m \u001b[38;5;129;01mnot\u001b[39;00m \u001b[38;5;28;01mNone\u001b[39;00m:\n\u001b[1;32m   3944\u001b[0m                         stats[\u001b[38;5;124m'\u001b[39m\u001b[38;5;124mcihi\u001b[39m\u001b[38;5;124m'\u001b[39m] \u001b[38;5;241m=\u001b[39m ci[\u001b[38;5;241m1\u001b[39m]\n\u001b[0;32m-> 3946\u001b[0m artists \u001b[38;5;241m=\u001b[39m \u001b[38;5;28;43mself\u001b[39;49m\u001b[38;5;241;43m.\u001b[39;49m\u001b[43mbxp\u001b[49m\u001b[43m(\u001b[49m\u001b[43mbxpstats\u001b[49m\u001b[43m,\u001b[49m\u001b[43m \u001b[49m\u001b[43mpositions\u001b[49m\u001b[38;5;241;43m=\u001b[39;49m\u001b[43mpositions\u001b[49m\u001b[43m,\u001b[49m\u001b[43m \u001b[49m\u001b[43mwidths\u001b[49m\u001b[38;5;241;43m=\u001b[39;49m\u001b[43mwidths\u001b[49m\u001b[43m,\u001b[49m\n\u001b[1;32m   3947\u001b[0m \u001b[43m                   \u001b[49m\u001b[43mvert\u001b[49m\u001b[38;5;241;43m=\u001b[39;49m\u001b[43mvert\u001b[49m\u001b[43m,\u001b[49m\u001b[43m \u001b[49m\u001b[43mpatch_artist\u001b[49m\u001b[38;5;241;43m=\u001b[39;49m\u001b[43mpatch_artist\u001b[49m\u001b[43m,\u001b[49m\n\u001b[1;32m   3948\u001b[0m \u001b[43m                   \u001b[49m\u001b[43mshownotches\u001b[49m\u001b[38;5;241;43m=\u001b[39;49m\u001b[43mnotch\u001b[49m\u001b[43m,\u001b[49m\u001b[43m \u001b[49m\u001b[43mshowmeans\u001b[49m\u001b[38;5;241;43m=\u001b[39;49m\u001b[43mshowmeans\u001b[49m\u001b[43m,\u001b[49m\n\u001b[1;32m   3949\u001b[0m \u001b[43m                   \u001b[49m\u001b[43mshowcaps\u001b[49m\u001b[38;5;241;43m=\u001b[39;49m\u001b[43mshowcaps\u001b[49m\u001b[43m,\u001b[49m\u001b[43m \u001b[49m\u001b[43mshowbox\u001b[49m\u001b[38;5;241;43m=\u001b[39;49m\u001b[43mshowbox\u001b[49m\u001b[43m,\u001b[49m\n\u001b[1;32m   3950\u001b[0m \u001b[43m                   \u001b[49m\u001b[43mboxprops\u001b[49m\u001b[38;5;241;43m=\u001b[39;49m\u001b[43mboxprops\u001b[49m\u001b[43m,\u001b[49m\u001b[43m \u001b[49m\u001b[43mflierprops\u001b[49m\u001b[38;5;241;43m=\u001b[39;49m\u001b[43mflierprops\u001b[49m\u001b[43m,\u001b[49m\n\u001b[1;32m   3951\u001b[0m \u001b[43m                   \u001b[49m\u001b[43mmedianprops\u001b[49m\u001b[38;5;241;43m=\u001b[39;49m\u001b[43mmedianprops\u001b[49m\u001b[43m,\u001b[49m\u001b[43m \u001b[49m\u001b[43mmeanprops\u001b[49m\u001b[38;5;241;43m=\u001b[39;49m\u001b[43mmeanprops\u001b[49m\u001b[43m,\u001b[49m\n\u001b[1;32m   3952\u001b[0m \u001b[43m                   \u001b[49m\u001b[43mmeanline\u001b[49m\u001b[38;5;241;43m=\u001b[39;49m\u001b[43mmeanline\u001b[49m\u001b[43m,\u001b[49m\u001b[43m \u001b[49m\u001b[43mshowfliers\u001b[49m\u001b[38;5;241;43m=\u001b[39;49m\u001b[43mshowfliers\u001b[49m\u001b[43m,\u001b[49m\n\u001b[1;32m   3953\u001b[0m \u001b[43m                   \u001b[49m\u001b[43mcapprops\u001b[49m\u001b[38;5;241;43m=\u001b[39;49m\u001b[43mcapprops\u001b[49m\u001b[43m,\u001b[49m\u001b[43m \u001b[49m\u001b[43mwhiskerprops\u001b[49m\u001b[38;5;241;43m=\u001b[39;49m\u001b[43mwhiskerprops\u001b[49m\u001b[43m,\u001b[49m\n\u001b[1;32m   3954\u001b[0m \u001b[43m                   \u001b[49m\u001b[43mmanage_ticks\u001b[49m\u001b[38;5;241;43m=\u001b[39;49m\u001b[43mmanage_ticks\u001b[49m\u001b[43m,\u001b[49m\u001b[43m \u001b[49m\u001b[43mzorder\u001b[49m\u001b[38;5;241;43m=\u001b[39;49m\u001b[43mzorder\u001b[49m\u001b[43m,\u001b[49m\n\u001b[1;32m   3955\u001b[0m \u001b[43m                   \u001b[49m\u001b[43mcapwidths\u001b[49m\u001b[38;5;241;43m=\u001b[39;49m\u001b[43mcapwidths\u001b[49m\u001b[43m)\u001b[49m\n\u001b[1;32m   3956\u001b[0m \u001b[38;5;28;01mreturn\u001b[39;00m artists\n",
      "File \u001b[0;32m~/miniconda3/envs/rootenv/lib/python3.9/site-packages/matplotlib/axes/_axes.py:4123\u001b[0m, in \u001b[0;36mAxes.bxp\u001b[0;34m(self, bxpstats, positions, widths, vert, patch_artist, shownotches, showmeans, showcaps, showbox, showfliers, boxprops, whiskerprops, flierprops, medianprops, capprops, meanprops, meanline, manage_ticks, zorder, capwidths)\u001b[0m\n\u001b[1;32m   4121\u001b[0m     positions \u001b[38;5;241m=\u001b[39m \u001b[38;5;28mlist\u001b[39m(\u001b[38;5;28mrange\u001b[39m(\u001b[38;5;241m1\u001b[39m, N \u001b[38;5;241m+\u001b[39m \u001b[38;5;241m1\u001b[39m))\n\u001b[1;32m   4122\u001b[0m \u001b[38;5;28;01melif\u001b[39;00m \u001b[38;5;28mlen\u001b[39m(positions) \u001b[38;5;241m!=\u001b[39m N:\n\u001b[0;32m-> 4123\u001b[0m     \u001b[38;5;28;01mraise\u001b[39;00m \u001b[38;5;167;01mValueError\u001b[39;00m(datashape_message\u001b[38;5;241m.\u001b[39mformat(\u001b[38;5;124m\"\u001b[39m\u001b[38;5;124mpositions\u001b[39m\u001b[38;5;124m\"\u001b[39m))\n\u001b[1;32m   4125\u001b[0m positions \u001b[38;5;241m=\u001b[39m np\u001b[38;5;241m.\u001b[39marray(positions)\n\u001b[1;32m   4126\u001b[0m \u001b[38;5;28;01mif\u001b[39;00m \u001b[38;5;28mlen\u001b[39m(positions) \u001b[38;5;241m>\u001b[39m \u001b[38;5;241m0\u001b[39m \u001b[38;5;129;01mand\u001b[39;00m \u001b[38;5;129;01mnot\u001b[39;00m \u001b[38;5;28misinstance\u001b[39m(positions[\u001b[38;5;241m0\u001b[39m], Number):\n",
      "\u001b[0;31mValueError\u001b[0m: List of boxplot statistics and `positions` values must have same the length"
     ]
    },
    {
     "data": {
      "image/png": "[encoded data removed]",
      "text/plain": [
       "<Figure size 1000x600 with 1 Axes>"
      ]
     },
     "metadata": {},
     "output_type": "display_data"
    }
   ],
   "source": [
    "import matplotlib.pyplot as plt\n",
    "\n",
    "def create_multiple_horizontal_boxplots(data_list, locations_list, box_width, colors):\n",
    "    # Create a single figure for all the boxplots\n",
    "    plt.figure(figsize=(10, 6))\n",
    "\n",
    "    for data, location, color in zip(data_list, locations_list, colors):\n",
    "        positions = [location]\n",
    "        widths = [box_width]\n",
    "        plt.boxplot(data, positions=positions, widths=widths, patch_artist=True, boxprops=dict(facecolor=color))\n",
    "    \n",
    "    plt.xlabel('Y-axis Label')\n",
    "    plt.ylabel('X-axis Label')\n",
    "    plt.title('Multiple Boxplots with Common Width = {:.2f}'.format(box_width))\n",
    "    plt.xticks(locations_list, [str(loc) for loc in locations_list])\n",
    "    plt.show()\n",
    "\n",
    "# Example usage:\n",
    "SZloc_values = [0.2,  0.8]  # Replace with your SZloc values\n",
    "LZ_values = unique_first_values  # Replace with your list of LZ values\n",
    "\n",
    "data_list = []  # Store data for each SZloc\n",
    "colors = ['r', 'g', 'b']  # Assign colors to SZloc values\n",
    "\n",
    "for SZloc in SZloc_values:\n",
    "    data_to_plot = []\n",
    "    for LZ in LZ_values:\n",
    "        if LZ in LO_dict and SZloc in LO_dict[LZ]:\n",
    "            LO_values = LO_dict[LZ][SZloc]\n",
    "            merged_list = [value for sublist in LO_values for value in sublist]\n",
    "            data_to_plot.append(merged_list)\n",
    "    data_list.append(data_to_plot)\n",
    "\n",
    "box_width = 0.5  # Replace with the desired box width\n",
    "create_multiple_horizontal_boxplots(data_list, SZloc_values, box_width, colors)\n"
   ]
  },
  {
   "cell_type": "code",
   "execution_count": null,
   "id": "5e60c200-778a-40a9-9490-02bf415d49f9",
   "metadata": {
    "tags": []
   },
   "outputs": [],
   "source": [
    "\n",
    "def create_boxplot(data, x_location):\n",
    "    plt.boxplot(data, positions=[x_location], vert=False)\n",
    "    plt.xlabel('X-axis Label')\n",
    "    plt.ylabel('Y-axis Label')\n",
    "    plt.title('Boxplot at X = {:.2f}'.format(x_location))\n",
    "    plt.show()\n",
    "\n",
    "# Example usage:\n",
    "data = [1, 2, 3, 4, 5]  # Replace with your data\n",
    "x_location = 2.5  # Replace with the desired x-location\n",
    "create_boxplot(data, x_location)"
   ]
  },
  {
   "cell_type": "code",
   "execution_count": null,
   "id": "74c0578d-48c8-4a12-8344-0eb06734cefe",
   "metadata": {
    "tags": []
   },
   "outputs": [],
   "source": [
    "import matplotlib.pyplot as plt\n",
    "\n",
    "def create_boxplots_for_SZloc(LZ_values, SZloc, LO_dict):\n",
    "    # Initialize lists to store data for boxplots\n",
    "    data_to_plot = []\n",
    "\n",
    "    # Loop through the LZ values and retrieve LO values for the specified SZloc\n",
    "    for LZ in LZ_values:\n",
    "        if LZ in LO_dict and SZloc in LO_dict[LZ]:\n",
    "            LO_values = LO_dict[LZ][SZloc]\n",
    "            data_to_plot.append(LO_values)\n",
    "\n",
    "    # Create a list of labels for the boxplots\n",
    "    labels = [str(LZ) for LZ in LZ_values]\n",
    "\n",
    "    # Create the boxplots\n",
    "    plt.figure(figsize=(10, 6))\n",
    "    plt.boxplot(data_to_plot, labels=labels, vert=False)\n",
    "    plt.xlabel('LZ Values')\n",
    "    plt.ylabel('LO Values')\n",
    "    plt.title(f'Boxplots for SZloc {SZloc}')\n",
    "    plt.show()\n",
    "\n",
    "# Example usage:\n",
    "LZ_values = unique_first_values  # Replace with your specific LZ values\n",
    "SZloc = \"0.2\" # Replace with your specific SZloc value\n",
    "create_boxplots_for_SZloc(LZ_values, SZloc, LO_dict)\n"
   ]
  },
  {
   "cell_type": "code",
   "execution_count": null,
   "id": "026bb5fb-4ab8-40bf-aefa-0a314a63034a",
   "metadata": {
    "tags": []
   },
   "outputs": [],
   "source": [
    "file_path=file_paths[0]\n",
    "unique_second_values_filter=unique_second_values[0]\n",
    "for LZ in unique_first_values:\n",
    "    matching_file_paths, matching_second_values = filter_files_and_second_values(\n",
    "        file_paths, first_values, second_values, LZ\n",
    "    )\n",
    "    for SZloc in unique_second_values_filter:\n",
    "        filtered_paths = filter_file_paths_by_second_value(matching_file_paths, matching_second_values, SZloc)\n",
    "        LO=[]\n",
    "        for file_path in matching_file_paths:\n",
    "            LO_read=get_branch_values(file_path, \"EndOfEvent\", \"fLOapprox\")\n",
    "            LO.append(LO_read)"
   ]
  }
 ],
 "metadata": {
  "kernelspec": {
   "display_name": "Python 3 (ipykernel)",
   "language": "python",
   "name": "python3"
  },
  "language_info": {
   "codemirror_mode": {
    "name": "ipython",
    "version": 3
   },
   "file_extension": ".py",
   "mimetype": "text/x-python",
   "name": "python",
   "nbconvert_exporter": "python",
   "pygments_lexer": "ipython3",
   "version": "3.9.16"
  }
 },
 "nbformat": 4,
 "nbformat_minor": 5
}
