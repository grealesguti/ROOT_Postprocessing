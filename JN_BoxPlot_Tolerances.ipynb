{
 "cells": [
  {
   "cell_type": "code",
   "execution_count": 1,
   "id": "c7826ea1-0740-4304-b3b0-55a40749d2ce",
   "metadata": {
    "tags": []
   },
   "outputs": [
    {
     "name": "stdout",
     "output_type": "stream",
     "text": [
      "Welcome to JupyROOT 6.26/10\n"
     ]
    }
   ],
   "source": [
    "%run BoxPlotFunctions.py"
   ]
  },
  {
   "cell_type": "code",
   "execution_count": 2,
   "id": "cf1dd6c8-708d-4602-a833-f6524ce61fd7",
   "metadata": {
    "tags": []
   },
   "outputs": [],
   "source": [
    "import matplotlib as mpl\n",
    "\n",
    "def setup_pgf():\n",
    "    pgf_with_latex = {\n",
    "        \"pgf.texsystem\": \"pdflatex\",\n",
    "        \"text.usetex\": True,\n",
    "        \"font.family\": \"serif\",\n",
    "        \"font.serif\": [],\n",
    "        \"font.sans-serif\": [],\n",
    "        \"font.monospace\": [],\n",
    "        \"axes.labelsize\": 10,\n",
    "        \"font.size\": 10,\n",
    "        \"legend.fontsize\": 6,\n",
    "        \"xtick.labelsize\": 10,\n",
    "        \"ytick.labelsize\": 10,\n",
    "        \"pgf.preamble\": \"\\n\".join([\n",
    "            r\"\\usepackage[utf8]{inputenc}\",\n",
    "            r\"\\usepackage[T1]{fontenc}\",\n",
    "            r\"\\usepackage[detect-all]{siunitx}\",\n",
    "        ])\n",
    "    }\n",
    "    mpl.use(\"pgf\")\n",
    "    mpl.rcParams.update(pgf_with_latex)\n",
    " # Set the figure size\n",
    "\n",
    "    # Set the figure size based on LaTeX geometry settings\n",
    "    geometry_textwidth = 384  # pt\n",
    "    pt_to_inch = 1.0 / 72.27  # Conversion factor from points to inches\n",
    "    plot_width = geometry_textwidth * pt_to_inch *0.5\n",
    "    \n",
    "    mpl.rcParams['figure.figsize'] = (plot_width, plot_width*0.9)  # Adjust the height as needed (6 inches in this example)\n",
    "def restore_defaults():\n",
    "    mpl.rcParams.update(mpl.rcParamsDefault)\n",
    "setup_pgf()"
   ]
  },
  {
   "cell_type": "code",
   "execution_count": 10,
   "id": "cffa7384-c7c4-42cb-9899-71288afcae53",
   "metadata": {
    "tags": []
   },
   "outputs": [],
   "source": [
    "def update_event_tags(event_tags):\n",
    "    new_event_tags = []\n",
    "    current_event_tag = event_tags[0]\n",
    "    new_event_tag = 1\n",
    "\n",
    "    for tag in event_tags:\n",
    "        if tag != current_event_tag:\n",
    "            current_event_tag = tag\n",
    "            new_event_tag += 1\n",
    "        new_event_tags.append(new_event_tag)\n",
    "\n",
    "    return new_event_tags\n",
    "\n",
    "\n",
    "def count_photons_in_range(fevts, fZ, za, zb):\n",
    "    # Create a dictionary to store the count for each tag\n",
    "    count_dict = {}\n",
    "\n",
    "    # Iterate over each tag and location\n",
    "    for tag, z in zip(fevts, fZ):\n",
    "        # Check if the location falls within the given range\n",
    "        if za <= z <= zb:\n",
    "            # Increment the count for the current tag\n",
    "            count_dict[tag] = count_dict.get(tag, 0) + 1\n",
    "\n",
    "    # Create a list of counts for each tag in the original order\n",
    "    rst = [count_dict.get(tag, 0) for tag in fevts]\n",
    "\n",
    "    return rst\n",
    "def get_segment(vector1, vector2, value):\n",
    "    segment = [v2 for v1, v2 in zip(vector1, vector2) if v1 == value]\n",
    "    return segment\n",
    "def add_one_within_range(vector, start, end):\n",
    "    result = 0\n",
    "    for i, value in enumerate(vector):\n",
    "        if start <= value <= end:\n",
    "            result+=1\n",
    "    return result\n",
    "def process_segments(fevts, fZ, za, zb):\n",
    "    results=[]\n",
    "    for tag in set(fevts):\n",
    "        segment = get_segment(fevts, fZ, tag)\n",
    "        modified_segment = add_one_within_range(segment, za, zb)\n",
    "        results.append(modified_segment)\n",
    "    return results\n",
    "\n",
    "\n",
    "def add_one_within_rangexy(vector1, vector2, start1, end1, start2, end2):\n",
    "    result = 0\n",
    "    for value1, value2 in zip(vector1, vector2):\n",
    "        if start1 <= value1 <= end1 and start2 <= value2 <= end2:\n",
    "            result+=1\n",
    "    return result\n",
    "\n",
    "def process_segmentsxy(fevts, fZ, fX, za, zb, xa, xb):\n",
    "    results = []\n",
    "    for tag in set(fevts):\n",
    "        segment = get_segment(fevts, fZ, tag)\n",
    "        segment2 = get_segment(fevts, fX, tag)\n",
    "        modified_segment = add_one_within_rangexy(segment, segment2, za, zb, xa, xb)\n",
    "        results.append(modified_segment)\n",
    "    return results\n",
    "\n",
    "def filter_vectors(vec1, vec2, minval, maxval):\n",
    "    filtered_vec1 = []\n",
    "    filtered_vec2 = []\n",
    "\n",
    "    for val1, val2 in zip(vec1, vec2):\n",
    "        if minval <= val2 <= maxval:\n",
    "            filtered_vec1.append(val1)\n",
    "            filtered_vec2.append(val2)\n",
    "\n",
    "    return filtered_vec1, filtered_vec2\n",
    "\n",
    "def tols_data(folder: str, output_filename: str, branch: str, branchName5: str):\n",
    "    # Define the variables\n",
    "    treeName1 = \"EndOfEvent\"\n",
    "    branchName1 = \"fGlueL\"\n",
    "    branchName2 = \"fResinL\"\n",
    "    branchName3 = \"fDetXpos\"\n",
    "    branchName4 = \"fDetYpos\"\n",
    "    #branchName5 = \"fLOapprox\"\n",
    " \n",
    "    treeName2 = \"Detected\"\n",
    "    branchName6 = \"fX\"\n",
    "    branchName7 = \"fEvent\"\n",
    "\n",
    "    # Read data from root file\n",
    "    print(\"Reading X data\")\n",
    "    with contextlib.redirect_stdout(io.StringIO()):\n",
    "        #data1 = readRootDataFromFolder(folder, treeName1, branchName1)\n",
    "        #data2 = readRootDataFromFolder(folder, treeName1, branchName2)\n",
    "        #data3 = readRootDataFromFolder(folder, treeName1, branchName3)\n",
    "        lengths = readRootDataFromFolder(folder, treeName1, branch)\n",
    "        fX = readRootDataFromFolder(folder, \"Detected\", \"fX\")\n",
    "        fY = readRootDataFromFolder(folder, \"Detected\", \"fY\")\n",
    "        fZ = readRootDataFromFolder(folder, \"Detected\", \"fZ\")\n",
    "        fevts = readRootDataFromFolder(folder, \"Detected\", \"fEvent\",'int')\n",
    "        edep = readRootDataFromFolder(folder, \"EndOfEvent\", \"fEdep\")\n",
    "    fevtsf=update_event_tags(fevts)\n",
    "    LC=process_segments(fevtsf, fX, -3.2, 0)\n",
    "    \n",
    "    LC_L=process_segmentsxy(fevts, fZ, fX, -50, 0, -3.2, 0)\n",
    "    LC_R=process_segmentsxy(fevts, fZ, fX, 0, 50, -3.2, 0)\n",
    "\n",
    "    LC_R,edepf=filter_vectors(LC_R, edep, 0.5, 3)\n",
    "    LC_L,edepf=filter_vectors(LC_L, edep, 0.5, 3)\n",
    "    LC,edepf=filter_vectors(LC, edep, 0.5, 3)\n",
    "    lengthsf,edepf=filter_vectors(lengths, edep, 0.5, 3)\n",
    "    \n",
    "    LO = np.divide(LC, edepf)\n",
    "    LO_R = np.divide(LC_R, edepf)\n",
    "    LO_L = np.divide(LC_L, edepf)\n",
    "\n",
    "    return LC,LC_L,LC_R,edepf,LO,LO_L,LO_R,lengthsf\n",
    "def tols_datainp(folder: str, output_filename: str, branch: str, branchName5: str):\n",
    "    # Define the variables\n",
    "    treeName1 = \"EndOfEvent\"\n",
    "\n",
    "    # Read data from root file\n",
    "    print(\"Reading X data\")\n",
    "    with contextlib.redirect_stdout(io.StringIO()):\n",
    "        #data1 = readRootDataFromFolder(folder, treeName1, branchName1)\n",
    "        #data2 = readRootDataFromFolder(folder, treeName1, branchName2)\n",
    "        #data3 = readRootDataFromFolder(folder, treeName1, branchName3)\n",
    "        data1 = readRootDataFromFolder(folder, treeName1, branch)\n",
    "        data2 = readRootDataFromFolder(folder, treeName1, branchName5)\n",
    "        fEdep = readRootDataFromFolder(folder, treeName1, \"fEdep\")\n",
    "\n",
    "    return data1,data2,fEdep\n",
    "def box_plot_tols(data1,data2,fEdep,name='test.pdf', fit_type='linear', add_fit=True):\n",
    "    yMin = 0\n",
    "    yMax = 6000\n",
    "    saveFolder = \"Figures/2307/Tols/\"\n",
    "    treeName3 = \"EndOfEvent\"\n",
    "    branchName4 = \"fDdep\"\n",
    "    geometry_textwidth = 384  # pt\n",
    "    pt_to_inch = 1.0 / 72.27  # Conversion factor from points to inches\n",
    "    plot_width = geometry_textwidth * pt_to_inch *0.5\n",
    "    fig, ax = plt.subplots(figsize=(plot_width, plot_width*0.9))\n",
    "    xMax = max(data1)\n",
    "    xMin = min(data1)\n",
    "    #print(len(data1))\n",
    "    #print(len(data2))\n",
    "    #print(\"data1\")\n",
    "    #print(data1[0:10])\n",
    "    #print(\"data2\")\n",
    "    #print(data2[0:10])\n",
    "    n = int(np.ceil(np.sqrt(len(data1)))*0.75)  # Number of ranges\n",
    "    #print(\"n ranges\")\n",
    "    #print(n)\n",
    "    #print(n)\n",
    "    range_size = (xMax-xMin) / n\n",
    "\n",
    "    # Create a list to store the data within each range\n",
    "    data_in_ranges = []\n",
    "    box_positions = []\n",
    "    box_widths = []\n",
    "\n",
    "    # Iterate over each range and extract the data within it\n",
    "    for i in range(n):\n",
    "        range_min = xMin  + i * range_size \n",
    "        range_max = range_min + range_size \n",
    "        #print(range_min, range_max)\n",
    "        values_in_range = []\n",
    "        for j in range(len(data1)):\n",
    "            if range_min <= data1[j] < range_max:\n",
    "                if data2[j] > 10 and fEdep[j]>0.5 and fEdep[j]<4:\n",
    "                    values_in_range.append((data2[j]))\n",
    "        data_in_ranges.append(values_in_range)\n",
    "\n",
    "        # Calculate the box position and width\n",
    "        box_position = (range_min + range_max) / 2 \n",
    "        box_width = 0.9 * (range_max - range_min) \n",
    "        box_positions.append(box_position)\n",
    "        box_widths.append(box_width)\n",
    "\n",
    "    #print(data_in_ranges)\n",
    "    # Plot the box plot for each range\n",
    "    boxplot = ax.boxplot(data_in_ranges, positions=box_positions, widths=box_widths, showfliers=False,\n",
    "                         patch_artist=False,  # Set patch_artist to False\n",
    "                         whiskerprops=dict(color='blue', linewidth=0.5), capprops=dict(color='blue', linewidth=0.5),\n",
    "                         medianprops=dict(color='blue', linewidth=0.5), flierprops=dict(marker='o', markersize=3,\n",
    "                                                                         markerfacecolor='black'), whis=1.5,boxprops=dict(color='blue', linewidth=0.5))\n",
    "    \n",
    "\n",
    "\n",
    "    # Set the x-axis limits\n",
    "    ax.set_xlim(xMin, xMax)\n",
    "    # Set the x-axis limits\n",
    "    #ax.set_ylim(0, 2000)\n",
    "    # Round the x-axis tick labels to the first decimal place\n",
    "    ax.xaxis.set_major_formatter(plt.FuncFormatter(lambda x, _: f'{x:.2f}'))\n",
    "        # Add a grid\n",
    "    ax.grid(True, axis='y', linestyle='--', color='lightgray')\n",
    "    # Add labels\n",
    "    ax.set_xlabel(r\"Length $\\left(\\si{\\milli\\meter}\\right)$\")\n",
    "    ax.set_ylabel(r\"Light Output $\\left(\\si{\\gamma_d/\\mega\\electronvolt}\\right)$\")\n",
    "\n",
    "    # Customize the color of all boxes\n",
    "    for box in boxplot['boxes']:\n",
    "        box.set_color('blue')\n",
    "\n",
    "    # Set the number of divisions on the x-axis\n",
    "    num_divisions = 6  # Choose the desired number of divisions\n",
    "    ax.xaxis.set_major_locator(mticker.MaxNLocator(num_divisions))\n",
    "    filtered_list = [list(filter(lambda x: not (x == float('inf') or x == float('-inf')), sublist)) for sublist in data_in_ranges]\n",
    "\n",
    "    # Calculate the mean of each box\n",
    "    box_means = [np.mean(data) for data in filtered_list]\n",
    "    #ax.plot(box_positions, box_means, 'ro', markersize=5)\n",
    "    #print(\"box_means\")\n",
    "    #print(box_means)\n",
    "    \n",
    "    # Plot the average as a red dot\n",
    "    ax.plot(box_positions, box_means, 'ro', markersize=1,label='Mean', linestyle='None')\n",
    "\n",
    "    \n",
    "    # Remove the title\n",
    "    ax.set_title('')\n",
    "\n",
    "\n",
    "#ax.set_xlabel(r\"Light Output $\\left(\\si{\\sum\\gamma_d/\\mega\\electronvolt}\\right)$\")  # Set x-axis label with units\n",
    "\n",
    "    # Increase the font size of the tick labels\n",
    "\n",
    "\n",
    "    # Calculate the fit line based on the fit type if add_fit is True\n",
    "    #print(box_means)\n",
    "    #print(box_positions)\n",
    "    if add_fit:\n",
    "        if fit_type == 'linear':\n",
    "            print(\"linear\")\n",
    "            fit_coefficients = np.polyfit(box_positions, box_means, deg=1)\n",
    "            fit_line = np.polyval(fit_coefficients, box_positions)\n",
    "            r_squared = np.corrcoef(box_means, fit_line)[0, 1] ** 2\n",
    "            fit_label = f'Fit: {fit_coefficients[0]:.1f}x + {fit_coefficients[1]:.1f}\\n$R^2$: {r_squared:.2f}'\n",
    "        elif fit_type == 'quadratic':\n",
    "            print(\"quad\")\n",
    "            fit_coefficients = np.polyfit(box_positions, box_means, deg=2)\n",
    "            fit_line = np.polyval(fit_coefficients, box_positions)\n",
    "            r_squared = np.corrcoef(box_means, fit_line)[0, 1] ** 2\n",
    "            fit_label = f'Fit: {fit_coefficients[0]:.1f}x^2 + {fit_coefficients[1]:.1f}x + {fit_coefficients[2]:.1f}\\n$R^2$: {r_squared:.2f}'\n",
    "        # Plot the fit line\n",
    "        ax.plot(box_positions, fit_line, color=(0.25,0,0), linestyle='--',label=fit_label,linewidth=0.5)\n",
    "        #print(fit_line)\n",
    "\n",
    "\n",
    "    # Add the legend to the plot\n",
    "    ax.legend()\n",
    "    # Save the figure as a PDF\n",
    "    plt.savefig(saveFolder+name, format='pdf', bbox_inches='tight')\n",
    "\n",
    "    # Show the plot\n",
    "    plt.show()\n",
    "    return\n",
    "    "
   ]
  },
  {
   "cell_type": "code",
   "execution_count": 11,
   "id": "4449bcab-cb1c-492d-9103-f25fd6f92662",
   "metadata": {
    "tags": []
   },
   "outputs": [
    {
     "name": "stdout",
     "output_type": "stream",
     "text": [
      "Reading X data\n",
      "linear\n"
     ]
    },
    {
     "name": "stderr",
     "output_type": "stream",
     "text": [
      "/tmp/ipykernel_13066/3456809203.py:255: UserWarning: Matplotlib is currently using pgf, which is a non-GUI backend, so cannot show the figure.\n",
      "  plt.show()\n"
     ]
    }
   ],
   "source": [
    "# import matplotlib.pyplot as plt\n",
    "import numpy as np\n",
    "folder=\"../TierIIData/2023_07/IncrResinV2\"\n",
    "#folder=\"../TierIIData/2023_02/Rst_GC3_Muon_23-02-09v2\"\n",
    "fResinL,LC_L,fEdep=tols_datainp(folder, \"Incr_Resin.pdf\",\"fResinL\",\"fHits\")\n",
    "fResinL = [value * 2 + 0.25 for value in fResinL]  # Convert to list and apply the transformation\n",
    "LC_L=np.divide(LC_L,fEdep)/2\n",
    "box_plot_tols(fResinL,LC_L,fEdep,'Incr_ResinV2.pdf')\n"
   ]
  },
  {
   "cell_type": "code",
   "execution_count": 12,
   "id": "72692998-4407-4f2f-9ff0-767a54efe315",
   "metadata": {
    "tags": []
   },
   "outputs": [
    {
     "name": "stdout",
     "output_type": "stream",
     "text": [
      "Reading X data\n",
      "linear\n"
     ]
    },
    {
     "name": "stderr",
     "output_type": "stream",
     "text": [
      "/tmp/ipykernel_13066/3456809203.py:255: UserWarning: Matplotlib is currently using pgf, which is a non-GUI backend, so cannot show the figure.\n",
      "  plt.show()\n"
     ]
    }
   ],
   "source": [
    "# import matplotlib.pyplot as plt\n",
    "import numpy as np\n",
    "folder=\"../TierIIData/2023_07/Incr_Resin\"\n",
    "#folder=\"../TierIIData/2023_02/Rst_GC3_Muon_23-02-09v2\"\n",
    "fResinL,LC_L,fEdep=tols_datainp(folder, \"Incr_Resin.pdf\",\"fResinL\",\"fHits\")\n",
    "fResinL = [value * 2 + 0.25 for value in fResinL]  # Convert to list and apply the transformation\n",
    "LC_L=np.divide(LC_L,fEdep)/2\n",
    "box_plot_tols(fResinL,LC_L,fEdep,'Incr_Resin.pdf')\n"
   ]
  },
  {
   "cell_type": "markdown",
   "id": "b30cae95-bcdc-4b19-8133-e25f55b77845",
   "metadata": {
    "tags": []
   },
   "source": [
    "# import matplotlib.pyplot as plt\n",
    "import numpy as np\n",
    "folder=\"../TierIIData/2023_07/Incr_Resin\"\n",
    "#folder=\"../TierIIData/2023_02/Rst_GC3_Muon_23-02-09v2\"\n",
    "fResinL,LC_L,fEdep=tols_datainp(folder, \"Incr_Resin.pdf\",\"fResinL\",\"fHits\")\n",
    "fResinL = [value * 2 + 0.25 for value in fResinL]  # Convert to list and apply the transformation\n",
    "LC_L=np.divide(LC_L,fEdep)/2\n",
    "box_plot_tols(fResinL,LC_L,fEdep,'Incr_Resin.pdf')\n"
   ]
  },
  {
   "cell_type": "code",
   "execution_count": 13,
   "id": "1f2e320e-6a59-48c8-953c-63fc510f2c04",
   "metadata": {},
   "outputs": [
    {
     "name": "stdout",
     "output_type": "stream",
     "text": [
      "Reading X data\n",
      "[2317.08539639 2298.95013763 2265.95775178 2302.52601703 2293.0803735\n",
      " 2301.44095625 2294.67346112 2311.15091525 2282.40542032 2299.64989962]\n",
      "[0.179, 0.179, 0.179, 0.179, 0.179, 0.179, 0.179, 0.179, 0.179, 0.179]\n",
      "linear\n"
     ]
    },
    {
     "name": "stderr",
     "output_type": "stream",
     "text": [
      "/tmp/ipykernel_13066/3456809203.py:255: UserWarning: Matplotlib is currently using pgf, which is a non-GUI backend, so cannot show the figure.\n",
      "  plt.show()\n"
     ]
    }
   ],
   "source": [
    "folder=\"../TierIIData/2023_07/IncrGlueV2\"\n",
    "#folder=\"../TierIIData/2023_02/Rst_GC3_Muon_23-02-09v2\"\n",
    "fGlueL,LC_L,fEdep=tols_datainp(folder, \"abctest.pdf\",\"fGlueL\",\"fHits\")\n",
    "LC_L=np.divide(LC_L,fEdep)/2\n",
    "fGlueL = [value * 2 + 0.0 for value in fGlueL]  # Convert to list and apply the transformation\n",
    "print(LC_L[0:10])\n",
    "print(fGlueL[0:10])\n",
    "box_plot_tols(fGlueL,LC_L,fEdep,'Incr_GlueV2.pdf')"
   ]
  },
  {
   "cell_type": "code",
   "execution_count": 14,
   "id": "279eaea2-51a4-4826-a6b5-b9df5413a441",
   "metadata": {
    "tags": []
   },
   "outputs": [
    {
     "name": "stdout",
     "output_type": "stream",
     "text": [
      "Reading X data\n",
      "[2317.02744598 2348.15997296 2346.59091494 2324.65632002 2356.65726266\n",
      " 2345.27308486 2358.26696785 2315.98805542 2350.54331438 2352.89092689]\n",
      "[0.149, 0.149, 0.149, 0.149, 0.149, 0.149, 0.149, 0.149, 0.149, 0.149]\n",
      "linear\n"
     ]
    },
    {
     "name": "stderr",
     "output_type": "stream",
     "text": [
      "/tmp/ipykernel_13066/3456809203.py:255: UserWarning: Matplotlib is currently using pgf, which is a non-GUI backend, so cannot show the figure.\n",
      "  plt.show()\n"
     ]
    }
   ],
   "source": [
    "folder=\"../TierIIData/2023_07/Incr_Glue\"\n",
    "#folder=\"../TierIIData/2023_02/Rst_GC3_Muon_23-02-09v2\"\n",
    "fGlueL,LC_L,fEdep=tols_datainp(folder, \"abctest.pdf\",\"fGlueL\",\"fHits\")\n",
    "LC_L=np.divide(LC_L,fEdep)/2\n",
    "fGlueL = [value * 2 + 0.0 for value in fGlueL]  # Convert to list and apply the transformation\n",
    "print(LC_L[0:10])\n",
    "print(fGlueL[0:10])\n",
    "box_plot_tols(fGlueL,LC_L,fEdep,'Incr_Glue.pdf')"
   ]
  },
  {
   "cell_type": "code",
   "execution_count": 8,
   "id": "91b97b46-24b6-43fb-a236-68e61c0e67c5",
   "metadata": {
    "tags": []
   },
   "outputs": [
    {
     "name": "stdout",
     "output_type": "stream",
     "text": [
      "Reading X data\n",
      "[2252.00573377 2248.44254373 2247.5005554  2249.58795967 2211.98057128\n",
      " 2186.07534865 2227.80014003 2259.7199574  2229.05817832 2207.74274777]\n",
      "[0.182, 0.182, 0.182, 0.182, 0.182, 0.182, 0.182, 0.182, 0.182, 0.182]\n",
      "quad\n"
     ]
    },
    {
     "name": "stderr",
     "output_type": "stream",
     "text": [
      "/tmp/ipykernel_13066/633856238.py:255: UserWarning: Matplotlib is currently using pgf, which is a non-GUI backend, so cannot show the figure.\n",
      "  plt.show()\n"
     ]
    }
   ],
   "source": [
    "folder=\"../TierIIData/2023_07/Incr_DET_Y\"\n",
    "#folder=\"../TierIIData/2023_02/Rst_GC3_Muon_23-02-09v2\"\n",
    "fDetYpos,LC_L,fEdep=tols_datainp(folder, \"abctest.pdf\",\"fDetYpos\",\"fphR\")\n",
    "LC_L=np.divide(LC_L,fEdep)\n",
    "print(LC_L[0:10])\n",
    "print(fDetYpos[0:10])\n",
    "box_plot_tols(fDetYpos,LC_L,fEdep,'Incr_DetYPos.pdf','quadratic')"
   ]
  },
  {
   "cell_type": "code",
   "execution_count": 9,
   "id": "a158608a-ba35-4811-99c9-23f6c84c53e5",
   "metadata": {
    "tags": []
   },
   "outputs": [
    {
     "name": "stdout",
     "output_type": "stream",
     "text": [
      "Reading X data\n",
      "[2305.15354554 2275.4500142  2313.95743545 2304.09005802 2246.73171157\n",
      " 2306.75456996 2291.28024786 2315.40474338 2318.4103571  2308.21821113]\n",
      "[0.177, 0.177, 0.177, 0.177, 0.177, 0.177, 0.177, 0.177, 0.177, 0.177]\n",
      "quad\n"
     ]
    },
    {
     "name": "stderr",
     "output_type": "stream",
     "text": [
      "/tmp/ipykernel_13066/633856238.py:255: UserWarning: Matplotlib is currently using pgf, which is a non-GUI backend, so cannot show the figure.\n",
      "  plt.show()\n"
     ]
    }
   ],
   "source": [
    "folder=\"../TierIIData/2023_07/Incr_DET_X\"\n",
    "#folder=\"../TierIIData/2023_02/Rst_GC3_Muon_23-02-09v2\"\n",
    "fDetXpos,LC_L,fEdep=tols_datainp(folder, \"abctest.pdf\",\"fDetXpos\",\"fphR\")\n",
    "LC_L=np.divide(LC_L,fEdep)\n",
    "print(LC_L[0:10])\n",
    "print(fDetXpos[0:10])\n",
    "box_plot_tols(fDetXpos,LC_L,fEdep,'Incr_DetXPos.pdf','quadratic')"
   ]
  }
 ],
 "metadata": {
  "kernelspec": {
   "display_name": "Python 3 (ipykernel)",
   "language": "python",
   "name": "python3"
  },
  "language_info": {
   "codemirror_mode": {
    "name": "ipython",
    "version": 3
   },
   "file_extension": ".py",
   "mimetype": "text/x-python",
   "name": "python",
   "nbconvert_exporter": "python",
   "pygments_lexer": "ipython3",
   "version": "3.9.16"
  }
 },
 "nbformat": 4,
 "nbformat_minor": 5
}
