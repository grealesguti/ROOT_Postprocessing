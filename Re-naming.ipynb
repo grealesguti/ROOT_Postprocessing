{
 "cells": [
  {
   "cell_type": "code",
   "execution_count": 2,
   "id": "85e77fcb-ec91-427c-9049-7e165ec58828",
   "metadata": {
    "tags": []
   },
   "outputs": [],
   "source": [
    "import os\n",
    "import shutil\n",
    "\n",
    "def copy_files_with_numbering(source_folder, output_folder, filename_prefix, start_number):\n",
    "    if not os.path.exists(output_folder):\n",
    "        os.makedirs(output_folder)\n",
    "\n",
    "    file_list = os.listdir(source_folder)\n",
    "\n",
    "    for index, filename in enumerate(file_list):\n",
    "        source_path = os.path.join(source_folder, filename)\n",
    "        output_filename = f\"{filename_prefix}_{start_number + index}{os.path.splitext(filename)[1]}\"\n",
    "        output_path = os.path.join(output_folder, output_filename)\n",
    "        \n",
    "        shutil.copy(source_path, output_path)\n",
    "        print(f\"Copying '{filename}' to '{output_filename}'\")"
   ]
  },
  {
   "cell_type": "code",
   "execution_count": 11,
   "id": "639ad81f-4a34-49be-a165-30f8d6bd69e9",
   "metadata": {
    "tags": []
   },
   "outputs": [
    {
     "name": "stdout",
     "output_type": "stream",
     "text": [
      "Copying 'NSGAII_3.root' to 'NSGAII_15.root'\n",
      "Copying 'NSGAII_14.root' to 'NSGAII_16.root'\n",
      "Copying 'NSGAII_11.root' to 'NSGAII_17.root'\n",
      "Copying 'NSGAII_17.root' to 'NSGAII_18.root'\n",
      "Copying 'NSGAII_2.root' to 'NSGAII_19.root'\n",
      "Copying 'NSGAII_0.root' to 'NSGAII_20.root'\n",
      "Copying 'NSGAII_5.root' to 'NSGAII_21.root'\n",
      "Copying 'NSGAII_35.root' to 'NSGAII_22.root'\n",
      "Copying 'NSGAII_12.root' to 'NSGAII_23.root'\n",
      "Copying 'NSGAII_16.root' to 'NSGAII_24.root'\n",
      "Copying 'NSGAII_8.root' to 'NSGAII_25.root'\n",
      "Copying 'NSGAII_7.root' to 'NSGAII_26.root'\n",
      "Copying 'NSGAII_29.root' to 'NSGAII_27.root'\n",
      "Copying 'NSGAII_26.root' to 'NSGAII_28.root'\n",
      "Copying 'NSGAII_13.root' to 'NSGAII_29.root'\n",
      "Copying 'NSGAII_4.root' to 'NSGAII_30.root'\n",
      "Copying 'NSGAII_18.root' to 'NSGAII_31.root'\n",
      "Copying 'NSGAII_27.root' to 'NSGAII_32.root'\n",
      "Copying 'NSGAII_28.root' to 'NSGAII_33.root'\n",
      "Copying 'NSGAII_9.root' to 'NSGAII_34.root'\n",
      "Copying 'NSGAII_10.root' to 'NSGAII_35.root'\n",
      "Copying 'NSGAII_31.root' to 'NSGAII_36.root'\n",
      "Copying 'NSGAII_20.root' to 'NSGAII_37.root'\n",
      "Copying 'NSGAII_25.root' to 'NSGAII_38.root'\n",
      "Copying 'NSGAII_32.root' to 'NSGAII_39.root'\n",
      "Copying 'NSGAII_24.root' to 'NSGAII_40.root'\n",
      "Copying 'NSGAII_30.root' to 'NSGAII_41.root'\n",
      "Copying 'NSGAII_36.root' to 'NSGAII_42.root'\n",
      "Copying 'NSGAII_22.root' to 'NSGAII_43.root'\n",
      "Copying 'NSGAII_23.root' to 'NSGAII_44.root'\n",
      "Copying 'NSGAII_34.root' to 'NSGAII_45.root'\n",
      "Copying 'NSGAII_1.root' to 'NSGAII_46.root'\n",
      "Copying 'NSGAII_6.root' to 'NSGAII_47.root'\n",
      "Copying 'NSGAII_19.root' to 'NSGAII_48.root'\n",
      "Copying 'NSGAII_15.root' to 'NSGAII_49.root'\n",
      "Copying 'NSGAII_33.root' to 'NSGAII_50.root'\n",
      "Copying 'NSGAII_21.root' to 'NSGAII_51.root'\n"
     ]
    }
   ],
   "source": [
    "\n",
    "path='/home/greales/Desktop/NSGAIIData/2307/'\n",
    "folder= \"Repeat_LCP50_from0_230813\"\n",
    "output= \"Renaming\"\n",
    "\n",
    "prefix=\"NSGAII\"\n",
    "start_num=15\n",
    "copy_files_with_numbering(path+folder, path+output, prefix, start_num)"
   ]
  }
 ],
 "metadata": {
  "kernelspec": {
   "display_name": "Python 3 (ipykernel)",
   "language": "python",
   "name": "python3"
  },
  "language_info": {
   "codemirror_mode": {
    "name": "ipython",
    "version": 3
   },
   "file_extension": ".py",
   "mimetype": "text/x-python",
   "name": "python",
   "nbconvert_exporter": "python",
   "pygments_lexer": "ipython3",
   "version": "3.9.16"
  }
 },
 "nbformat": 4,
 "nbformat_minor": 5
}
