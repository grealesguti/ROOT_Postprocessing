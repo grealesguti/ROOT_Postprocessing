{
 "cells": [
  {
   "cell_type": "code",
   "execution_count": 1,
   "id": "7d20bba4-e258-4280-b42b-1c4089a9ced0",
   "metadata": {
    "tags": []
   },
   "outputs": [
    {
     "name": "stdout",
     "output_type": "stream",
     "text": [
      "Welcome to JupyROOT 6.26/10\n"
     ]
    }
   ],
   "source": [
    "from Postprocess_functions import *"
   ]
  },
  {
   "cell_type": "code",
   "execution_count": 2,
   "id": "3768482b-17c7-4200-8051-3b3155781121",
   "metadata": {
    "tags": []
   },
   "outputs": [],
   "source": [
    "import gmsh\n",
    "import sys\n",
    "import os\n",
    "from os.path import exists\n",
    "import subprocess\n",
    "import numpy as np\n",
    "import time\n",
    "import ROOT\n",
    "from os import listdir\n",
    "from os.path import isfile, join\n",
    "import os.path\n",
    "from os import path\n",
    "import matplotlib.pyplot as plt\n",
    "import matplotlib.animation as animation\n",
    "import argparse\n",
    "from ROOT import TFile, TTree\n",
    "import matplotlib.pyplot as plt\n",
    "from scipy.interpolate import splrep, splev,splprep\n",
    "from scipy.interpolate import BSpline\n",
    "import math"
   ]
  },
  {
   "cell_type": "code",
   "execution_count": 3,
   "id": "1532465c-b0c8-4b53-b5ed-53ce1a1b324a",
   "metadata": {
    "tags": []
   },
   "outputs": [],
   "source": [
    "import matplotlib as mpl\n",
    "\n",
    "def setup_pgf():\n",
    "    pgf_with_latex = {\n",
    "        \"pgf.texsystem\": \"pdflatex\",\n",
    "        \"text.usetex\": True,\n",
    "        \"font.family\": \"serif\",\n",
    "        \"font.serif\": [],\n",
    "        \"font.sans-serif\": [],\n",
    "        \"font.monospace\": [],\n",
    "        \"axes.labelsize\": 10,\n",
    "        \"font.size\": 10,\n",
    "        \"legend.fontsize\": 4,\n",
    "        \"xtick.labelsize\": 10,\n",
    "        \"ytick.labelsize\": 10,\n",
    "        \"pgf.preamble\": \"\\n\".join([\n",
    "            r\"\\usepackage[utf8]{inputenc}\",\n",
    "            r\"\\usepackage[T1]{fontenc}\",\n",
    "            r\"\\usepackage[detect-all]{siunitx}\",\n",
    "        ])\n",
    "    }\n",
    "    mpl.use(\"pgf\")\n",
    "    mpl.rcParams.update(pgf_with_latex)\n",
    " # Set the figure size\n",
    "\n",
    "    # Set the figure size based on LaTeX geometry settings\n",
    "    geometry_textwidth = 384  # pt\n",
    "    pt_to_inch = 1.0 / 72.27  # Conversion factor from points to inches\n",
    "    plot_width = geometry_textwidth * pt_to_inch *0.5\n",
    "    \n",
    "    mpl.rcParams['figure.figsize'] = (plot_width, plot_width*0.9)  # Adjust the height as needed (6 inches in this example)\n",
    "def restore_defaults():\n",
    "    mpl.rcParams.update(mpl.rcParamsDefault)"
   ]
  },
  {
   "cell_type": "code",
   "execution_count": 4,
   "id": "e6dbcd7e-c3d3-4835-870d-a927167b9de0",
   "metadata": {
    "tags": []
   },
   "outputs": [
    {
     "name": "stdout",
     "output_type": "stream",
     "text": [
      "Figures/2307/1DOpt already exists.\n"
     ]
    }
   ],
   "source": [
    "# Fill the class with the required inputs:\n",
    "class ArgValues:\n",
    "    def __init__(self):\n",
    "        self.folder = \"/home/greales/Desktop/TierIIData/2023_07/1DOpt_P50\"\n",
    "        self.savefolder = \"Figures/2307/1DOpt\"\n",
    "args0=ArgValues()\n",
    "create_folder(args0.savefolder)  # Create required folders to store pictures"
   ]
  },
  {
   "cell_type": "code",
   "execution_count": 5,
   "id": "19813d61-1c17-4fdf-a427-108a45c70fc4",
   "metadata": {
    "tags": []
   },
   "outputs": [],
   "source": [
    "import re\n",
    "\n",
    "def extract_number(string):\n",
    "    match = re.search(r'\\d+', string)\n",
    "    if match:\n",
    "        return float(match.group())\n",
    "    else:\n",
    "        return None\n",
    "\n",
    "def extract_number(string):\n",
    "    # Split the string by underscores\n",
    "    parts = string.split('_')\n",
    "    \n",
    "    # Extract the second element and convert it to an integer\n",
    "    number = int(parts[1])\n",
    "    \n",
    "    # Return the extracted number\n",
    "    return number\n",
    "\n",
    "import os\n",
    "def extract_numbers_from_folder(path):\n",
    "    numbers = []\n",
    "    filenames = os.listdir(path)\n",
    "    for filename in filenames:\n",
    "        parts = filename.split('_')\n",
    "        number = float(parts[1])\n",
    "        numbers.append(number)\n",
    "    return tuple(numbers), filenames\n"
   ]
  },
  {
   "cell_type": "code",
   "execution_count": 6,
   "id": "e69d9f8d-2afa-4461-9537-1e2185f77a83",
   "metadata": {
    "tags": []
   },
   "outputs": [
    {
     "name": "stdout",
     "output_type": "stream",
     "text": [
      "Opt1Dv4_129_184559_104_1290.root\n"
     ]
    },
    {
     "data": {
      "text/plain": [
       "129"
      ]
     },
     "execution_count": 6,
     "metadata": {},
     "output_type": "execute_result"
    }
   ],
   "source": [
    "filenames = os.listdir(args0.folder)\n",
    "print(filenames[0])\n",
    "parts = filenames[0].split('_')\n",
    "parts\n",
    "number = int(parts[1])\n",
    "number"
   ]
  },
  {
   "cell_type": "code",
   "execution_count": 7,
   "id": "8baaf1a0-9548-46b4-b804-892c2ad082d9",
   "metadata": {
    "tags": []
   },
   "outputs": [
    {
     "name": "stdout",
     "output_type": "stream",
     "text": [
      "(129.0, 103.0, 160.0, 68.0, 158.0, 69.0, 160.0, 68.0, 95.0, 65.0)\n",
      "['Opt1Dv4_129_184559_104_1290.root', 'Opt1Dv4_103_184560_78_1030.root', 'Opt1Dv4_160_184593_135_1600.root', 'Opt1Dv4_68_184595_43_680.root', 'Opt1Dv4_158_184596_133_1580.root', 'Opt1Dv4_69_184591_44_690.root', 'Opt1Dv4_160_184559_135_1600.root', 'Opt1Dv4_68_184564_43_680.root', 'Opt1Dv4_95_184593_70_950.root', 'Opt1Dv4_65_184597_40_650.root']\n"
     ]
    }
   ],
   "source": [
    "# read values of incrV\n",
    "incrV, filenames = extract_numbers_from_folder(args0.folder)\n",
    "ind=-1\n",
    "print(incrV[0:10])\n",
    "print(filenames[0:10])"
   ]
  },
  {
   "cell_type": "code",
   "execution_count": 8,
   "id": "2870bb8a-df19-49d5-87be-764d754b2d63",
   "metadata": {
    "tags": []
   },
   "outputs": [],
   "source": [
    "def get_branch_values_IncrV(file_path, tree_name, branch_name):\n",
    "    root_file = TFile(file_path)\n",
    "    tree = root_file.Get(tree_name)\n",
    "    branch = tree.GetBranch(branch_name)\n",
    "    values = []\n",
    "    for i in range(branch.GetEntries()):\n",
    "        branch.GetEntry(i)\n",
    "        values.append(branch.GetLeaf(branch_name).GetValue())\n",
    "    root_file.Close()\n",
    "    return values\n",
    "\n",
    "def GetRootVariables_name(path,tree,branch):\n",
    "    numbers = []\n",
    "    filenames = os.listdir(path)\n",
    "    for filename in filenames:\n",
    "        val_obj=get_branch_values(path+'/'+filename, tree, branch)\n",
    "        numbers.append(val_obj[0])\n",
    "    return numbers"
   ]
  },
  {
   "cell_type": "code",
   "execution_count": 9,
   "id": "61a89ef3-2983-4a87-8281-3c7dd07472d0",
   "metadata": {
    "tags": []
   },
   "outputs": [
    {
     "data": {
      "text/plain": [
       "[2557.742234117877,\n",
       " 2420.2270050720435,\n",
       " 2361.7687109467133,\n",
       " 1969.7219301754456,\n",
       " 2377.514755173111,\n",
       " 1983.5994019944128,\n",
       " 2355.1693049956466,\n",
       " 1965.4996408239626,\n",
       " 2334.0457307631086,\n",
       " 1920.215896188881]"
      ]
     },
     "execution_count": 9,
     "metadata": {},
     "output_type": "execute_result"
    }
   ],
   "source": [
    "# read values of LC\n",
    "LC = GetRootVariables_name(args0.folder,\"EndOfRun\",\"fLOAvg\")\n",
    "LC[0:10]"
   ]
  },
  {
   "cell_type": "code",
   "execution_count": 10,
   "id": "c7b3427e-a960-43f8-b05f-1c550229b617",
   "metadata": {
    "tags": []
   },
   "outputs": [
    {
     "name": "stdout",
     "output_type": "stream",
     "text": [
      "2718\n",
      "2718\n"
     ]
    }
   ],
   "source": [
    "print(len(LC))\n",
    "print(len(incrV))"
   ]
  },
  {
   "cell_type": "code",
   "execution_count": 11,
   "id": "29383eac-f8d2-49ab-a5ae-a4f3634f8cd0",
   "metadata": {
    "tags": []
   },
   "outputs": [
    {
     "name": "stdout",
     "output_type": "stream",
     "text": [
      "0\n",
      "2718\n",
      "2718\n"
     ]
    }
   ],
   "source": [
    "def remove_values_less_than_one(vector1, vector2):\n",
    "\n",
    "    # Find indices where vector1 has values less than 1\n",
    "    indices_to_remove = [i for i, value in enumerate(vector1) if value < 1]\n",
    "    print(len(indices_to_remove))\n",
    "\n",
    "    # Create new tuples without elements at the found indices\n",
    "    vector1_filtered = tuple(value for i, value in enumerate(vector1) if i not in indices_to_remove)\n",
    "    vector2_filtered = tuple(value for i, value in enumerate(vector2) if i not in indices_to_remove)\n",
    "    print(len(vector1_filtered))\n",
    "    print(len(vector2_filtered))\n",
    "    return vector1_filtered, vector2_filtered\n",
    "LC,incrV=remove_values_less_than_one(LC, incrV)\n"
   ]
  },
  {
   "cell_type": "code",
   "execution_count": 12,
   "id": "759a1ab7-d3e8-4703-b092-8ae9f2ca36aa",
   "metadata": {
    "tags": []
   },
   "outputs": [],
   "source": [
    "import statistics\n",
    "\n",
    "def get_matching_values_stats(vec1, vec2):\n",
    "    value_indexes = {} # Dictionary to hold the indexes of matching values in vec1\n",
    "    value_LC = {} # Dictionary to hold the indexes of matching values in vec1\n",
    "    for i, value in enumerate(vec1):\n",
    "        if value not in value_indexes:\n",
    "            value_indexes[value] = []\n",
    "            value_LC[value] = []\n",
    "        value_indexes[value].append(i) # Add the index to the list of indexes for this value\n",
    "        value_LC[value].append(vec2[i])\n",
    "    #print(value_indexes)\n",
    "    avg = [] # List to hold the matching values in vec2\n",
    "    std = []\n",
    "    for indexes in value_indexes.values():\n",
    "        avgval = [vec2[i] for i in indexes]\n",
    "        average = statistics.mean(avgval)\n",
    "        std_dev = statistics.stdev(avgval)\n",
    "        avg.append(average)\n",
    "        std.append(std_dev)\n",
    "\n",
    "    incrV_values = [float(x) for x in value_indexes.keys()]\n",
    "    return incrV_values, avg, std,value_LC\n"
   ]
  },
  {
   "cell_type": "code",
   "execution_count": 13,
   "id": "00d76afe-d5d1-4df5-925f-64189052fa94",
   "metadata": {
    "tags": []
   },
   "outputs": [],
   "source": [
    "# Get std, avg and incr\n",
    "xval, average, std_dev, value_LC = get_matching_values_stats(incrV,LC)\n",
    "#print(different_values[0], average[0], std_dev[0])\n"
   ]
  },
  {
   "cell_type": "code",
   "execution_count": 14,
   "id": "b00d8b4c-56da-4c2d-af75-26ac799470a4",
   "metadata": {
    "tags": []
   },
   "outputs": [
    {
     "name": "stdout",
     "output_type": "stream",
     "text": [
      "[25, 26, 27, 28, 29, 30, 31, 32, 33, 34, 35, 36, 37, 38, 39, 40, 41, 42, 43, 44, 45, 46, 47, 48, 49, 50, 51, 52, 53, 54, 55, 56, 57, 58, 59, 60, 61, 62, 63, 64, 65, 66, 67, 68, 69, 70, 71, 72, 73, 74, 75, 76, 77, 78, 79, 80, 81, 82, 83, 84, 85, 86, 87, 88, 89, 90, 91, 92, 93, 94, 95, 96, 97, 98, 99, 100, 101, 102, 103, 104, 105, 106, 107, 108, 109, 110, 111, 112, 113, 114, 115, 116, 117, 118, 119, 120, 121, 122, 123, 124, 125, 126, 127, 128, 129, 130, 131, 132, 133, 134, 135, 136, 137, 138, 139, 140, 141, 142, 143, 144, 145, 146, 147, 148, 149, 150, 151, 152, 153, 154, 155, 156, 157, 158, 159, 160, 161, 162, 163, 164, 165, 166, 167, 168, 169, 170, 171, 172, 173, 174, 175]\n",
      "[[25, 26, 27, 28], [29, 30, 31, 32], [33, 34, 35, 36], [37, 38, 39, 40], [41, 42, 43, 44], [45, 46, 47, 48], [49, 50, 51, 52], [53, 54, 55, 56], [57, 58, 59, 60], [61, 62, 63, 64], [65, 66, 67, 68], [69, 70, 71, 72], [73, 74, 75, 76], [77, 78, 79, 80], [81, 82, 83, 84], [85, 86, 87, 88], [89, 90, 91, 92], [93, 94, 95, 96], [97, 98, 99, 100], [101, 102, 103, 104], [105, 106, 107, 108], [109, 110, 111, 112], [113, 114, 115, 116], [117, 118, 119, 120], [121, 122, 123, 124], [125, 126, 127, 128], [129, 130, 131, 132], [133, 134, 135, 136], [137, 138, 139, 140], [141, 142, 143, 144], [145, 146, 147, 148], [149, 150, 151, 152], [153, 154, 155, 156], [157, 158, 159, 160], [161, 162, 163, 164], [165, 166, 167, 168], [169, 170, 171, 172]]\n",
      "[26.5, 30.5, 34.5, 38.5, 42.5, 46.5, 50.5, 54.5, 58.5, 62.5, 66.5, 70.5, 74.5, 78.5, 82.5, 86.5, 90.5, 94.5, 98.5, 102.5, 106.5, 110.5, 114.5, 118.5, 122.5, 126.5, 130.5, 134.5, 138.5, 142.5, 146.5, 150.5, 154.5, 158.5, 162.5, 166.5, 170.5]\n",
      "[2.4000000000000004, 2.4000000000000004, 2.4000000000000004, 2.4000000000000004, 2.4000000000000004, 2.4000000000000004, 2.4000000000000004, 2.4000000000000004, 2.4000000000000004, 2.4000000000000004, 2.4000000000000004, 2.4000000000000004, 2.4000000000000004, 2.4000000000000004, 2.4000000000000004, 2.4000000000000004, 2.4000000000000004, 2.4000000000000004, 2.4000000000000004, 2.4000000000000004, 2.4000000000000004, 2.4000000000000004, 2.4000000000000004, 2.4000000000000004, 2.4000000000000004, 2.4000000000000004, 2.4000000000000004, 2.4000000000000004, 2.4000000000000004, 2.4000000000000004, 2.4000000000000004, 2.4000000000000004, 2.4000000000000004, 2.4000000000000004, 2.4000000000000004, 2.4000000000000004, 2.4000000000000004]\n"
     ]
    }
   ],
   "source": [
    "xval, average, std_dev, value_LC = get_matching_values_stats(incrV,LC)\n",
    "data_sorted = dict(sorted(value_LC.items(), key=lambda x: x[0]))\n",
    "dd=[]\n",
    "pv=[]\n",
    "pvv=[]\n",
    "posv=[]\n",
    "incrV_values = [int(x) for x in data_sorted.keys()]\n",
    "print(incrV_values)\n",
    "cc=0\n",
    "pos=incrV_values[0]\n",
    "distv=[]\n",
    "for i in incrV_values:\n",
    "    if cc<4:\n",
    "        dd.extend(data_sorted[i])\n",
    "        pv.append(i)\n",
    "        pos=pos+i\n",
    "        cc+=1\n",
    "    else:\n",
    "        pos=pos/cc\n",
    "        posv.append(sum(pv)/cc)\n",
    "        distv.append((pv[-1]-pv[0])*0.8)\n",
    "        pos=i\n",
    "        pvv.append(pv)\n",
    "        pv=[i]\n",
    "        dd.append(data_sorted[i])\n",
    "        cc=1\n",
    "print(pvv)\n",
    "print(posv)\n",
    "print(distv)"
   ]
  },
  {
   "cell_type": "code",
   "execution_count": 15,
   "id": "98933bf6-870d-451a-ab06-bbd182b9b633",
   "metadata": {
    "tags": []
   },
   "outputs": [
    {
     "data": {
      "text/plain": [
       "[2536.706481015259,\n",
       " 2541.6942225181115,\n",
       " 2535.4736405504327,\n",
       " 2533.6710973029335,\n",
       " 2537.6294339720484,\n",
       " 2535.599138135467,\n",
       " 2536.5345116504473,\n",
       " 2538.9600104138376,\n",
       " 2532.679415291398,\n",
       " 2535.9513385687114,\n",
       " 2534.561615614629,\n",
       " 2537.294341846685,\n",
       " 2544.285420035183,\n",
       " 2536.6794654407518,\n",
       " 2539.4857217977333,\n",
       " 2534.172551327797,\n",
       " 2538.5810106425897,\n",
       " 2536.7101136304905]"
      ]
     },
     "execution_count": 15,
     "metadata": {},
     "output_type": "execute_result"
    }
   ],
   "source": [
    "value_LC[xval[10]]"
   ]
  },
  {
   "cell_type": "code",
   "execution_count": 16,
   "id": "fa2e12a3-c9c5-4e31-b537-db07565bb883",
   "metadata": {
    "tags": []
   },
   "outputs": [
    {
     "data": {
      "image/png": "[encoded data removed]",
      "text/plain": [
       "<Figure size 640x480 with 1 Axes>"
      ]
     },
     "metadata": {},
     "output_type": "display_data"
    },
    {
     "data": {
      "text/plain": [
       "<Figure size 640x480 with 0 Axes>"
      ]
     },
     "metadata": {},
     "output_type": "display_data"
    }
   ],
   "source": [
    "# Create the plot\n",
    "fig, ax = plt.subplots()\n",
    "#ax.errorbar(xval,average, yerr=std_dev, fmt='o',c='gray', capsize=5)\n",
    "ax.errorbar(xval,average, yerr=std_dev,fmt='o',c='gray', mfc='white', mec='gray', ms=3, mew=2)\n",
    "# Set the axis labels and titlea\n",
    "ax.set_xlabel('Design variable [I]')\n",
    "ax.set_ylabel('Light Collection Average [ph]')\n",
    "plt.grid()\n",
    "plt.axvline(x = 100, color = 'k', linestyle = '--')\n",
    "\n",
    "# Display the plot\n",
    "fig.savefig(\"Figures/2307/1DOpt/1Dstudy.pdf\")\n",
    "plt.show()\n",
    "plt.draw()"
   ]
  },
  {
   "cell_type": "code",
   "execution_count": 17,
   "id": "6265be0c-2d3a-4c6f-ba13-3999195d9afb",
   "metadata": {},
   "outputs": [],
   "source": [
    "import csv\n",
    "\n",
    "# Export data to CSV\n",
    "data = np.column_stack((xval, average, std_dev))\n",
    "header = ['xval', 'average', 'std_dev']\n",
    "\n",
    "with open('data_1D_opt.csv', 'w', newline='') as csvfile:\n",
    "    writer = csv.writer(csvfile)\n",
    "    writer.writerow(header)\n",
    "    writer.writerows(data)"
   ]
  },
  {
   "cell_type": "code",
   "execution_count": 18,
   "id": "3c6fa35e-7bfb-430a-9984-470e44fcd9e0",
   "metadata": {
    "tags": []
   },
   "outputs": [
    {
     "name": "stdout",
     "output_type": "stream",
     "text": [
      "[25, 26, 27, 28, 29, 30, 31, 32, 33, 34, 35, 36, 37, 38, 39, 40, 41, 42, 43, 44, 45, 46, 47, 48, 49, 50, 51, 52, 53, 54, 55, 56, 57, 58, 59, 60, 61, 62, 63, 64, 65, 66, 67, 68, 69, 70, 71, 72, 73, 74, 75, 76, 77, 78, 79, 80, 81, 82, 83, 84, 85, 86, 87, 88, 89, 90, 91, 92, 93, 94, 95, 96, 97, 98, 99, 100, 101, 102, 103, 104, 105, 106, 107, 108, 109, 110, 111, 112, 113, 114, 115, 116, 117, 118, 119, 120, 121, 122, 123, 124, 125, 126, 127, 128, 129, 130, 131, 132, 133, 134, 135, 136, 137, 138, 139, 140, 141, 142, 143, 144, 145, 146, 147, 148, 149, 150, 151, 152, 153, 154, 155, 156, 157, 158, 159, 160, 161, 162, 163, 164, 165, 166, 167, 168, 169, 170, 171, 172, 173, 174, 175]\n",
      "[1145.5953796294964, 1142.792071578993, 1142.0883705244878, 1140.2498271376796, 1141.646582063483, 1140.5908084388075, 1141.5301892227455, 1142.5041178865993, 1141.860101075634, 1143.6061303015265, 1143.1011867162026, 1140.2747874473787, 1141.2089712103736, 1141.1595086597508, 1142.0466078751451, 1145.2879808452565, 1143.3646778478926, 1138.7906650941313, 1160.4630427077634, 1159.9195783781504, 1159.173635475035, 1158.3023356726023, 1161.0000018259548, 1160.8829788571388, 1156.277319075127, 1156.8802969113744, 1159.1697392667268, 1157.939023941602, 1157.421473477281, 1158.196999056575, 1159.324021540727, 1159.702610613337, 1156.7429020412449, 1158.4502789010378, 1162.9699884078957, 1162.9140453801695, 1167.3382317674132, 1166.9943442933927, 1164.6843477898472, 1168.0303573767876, 1165.8586384187704, 1169.5058342939358, 1170.5979037627203, 1168.479784005915, 1168.7741990359366, 1172.884953277084, 1171.6695280249085, 1170.800155212181, 1168.5440511833147, 1168.9796951850176, 1170.4075971737416, 1169.1417289184844, 1170.7387027454076, 1166.455633683532]\n",
      "50\n",
      "50\n",
      "50\n",
      "Mean of 26.0: 1156.7280355784021\n",
      "Mean of 29.0: 1212.1017214709796\n",
      "Mean of 32.0: 1276.83572791684\n",
      "Mean of 35.0: 1337.1951327024549\n",
      "Mean of 38.0: 1396.9995936848975\n",
      "Mean of 41.0: 1458.833191637474\n",
      "Mean of 44.0: 1518.0098072810956\n",
      "Mean of 47.0: 1575.2156871267075\n",
      "Mean of 50.0: 1634.6901271125937\n",
      "Mean of 53.0: 1694.1204148618428\n",
      "Mean of 56.0: 1752.416297145012\n",
      "Mean of 59.0: 1807.95324087123\n",
      "Mean of 62.0: 1861.3383827068433\n",
      "Mean of 65.0: 1915.7157754048972\n",
      "Mean of 68.0: 1967.0719073767832\n",
      "Mean of 71.0: 2016.8964450690762\n",
      "Mean of 74.0: 2066.62920984462\n",
      "Mean of 77.0: 2114.6178427461928\n",
      "Mean of 80.0: 2156.976262354438\n",
      "Mean of 83.0: 2197.6910584625957\n",
      "Mean of 86.0: 2236.5180543094875\n",
      "Mean of 89.0: 2274.3448825755963\n",
      "Mean of 92.0: 2310.111052302084\n",
      "Mean of 95.0: 2345.05077337371\n",
      "Mean of 98.0: 2377.6705565302336\n",
      "Mean of 101.0: 2403.887827973129\n",
      "Mean of 104.0: 2421.340882168921\n",
      "Mean of 107.0: 2441.4581070490362\n",
      "Mean of 110.0: 2463.5445233840096\n",
      "Mean of 113.0: 2487.3256335612887\n",
      "Mean of 116.0: 2509.3765382571\n",
      "Mean of 119.0: 2529.8710833074542\n",
      "Mean of 122.0: 2546.3348424799665\n",
      "Mean of 125.0: 2554.7412619477077\n",
      "Mean of 128.0: 2558.8263795952143\n",
      "Mean of 131.0: 2557.1049285769923\n",
      "Mean of 134.0: 2549.2539128874087\n",
      "Mean of 137.0: 2538.8587451390445\n",
      "Mean of 140.0: 2521.3810749065633\n",
      "Mean of 143.0: 2501.794081638997\n",
      "Mean of 146.0: 2480.399468801421\n",
      "Mean of 149.0: 2455.6166805883204\n",
      "Mean of 152.0: 2430.1599504780966\n",
      "Mean of 155.0: 2404.5881562328236\n",
      "Mean of 158.0: 2375.7883600826353\n",
      "Mean of 161.0: 2349.0293616569656\n",
      "Mean of 164.0: 2319.434830203794\n",
      "Mean of 167.0: 2291.310004415056\n",
      "Mean of 170.0: 2264.7284346669685\n",
      "Mean of 173.0: 2236.1483742252867\n",
      "2558.8263795952143\n",
      "2403.887827973129\n",
      "6.445332008387599\n"
     ]
    }
   ],
   "source": [
    "xval, average, std_dev, value_LC = get_matching_values_stats(incrV,LC)\n",
    "data_sorted = dict(sorted(value_LC.items(), key=lambda x: x[0]))\n",
    "dd=[]\n",
    "pv=[]\n",
    "pvv=[]\n",
    "posv=[]\n",
    "dd0=[]\n",
    "incrV_values = [int(x) for x in data_sorted.keys()]\n",
    "print(incrV_values)\n",
    "cc=0\n",
    "pos=incrV_values[0]\n",
    "distv=[]\n",
    "for i in incrV_values:\n",
    "    if cc<3:\n",
    "        dd0.extend(data_sorted[i])\n",
    "        pv.append(i)\n",
    "        pos=pos+i\n",
    "        cc+=1\n",
    "    else:\n",
    "        pos=pos/cc\n",
    "        posv.append(sum(pv)/cc)\n",
    "        distv.append((pv[-1]-pv[0])*0.8)\n",
    "        pos=i\n",
    "        pvv.append(pv)\n",
    "        pv=[i]\n",
    "        dd.append(dd0)\n",
    "        dd0=(data_sorted[i])\n",
    "        cc=1\n",
    "print(dd[0])\n",
    "print(len(dd))\n",
    "\n",
    "print(len(posv))\n",
    "print(len(distv))\n",
    "sol=[]\n",
    "for sublist, p in zip(dd, posv):\n",
    "    mean = sum(sublist) / len(sublist)\n",
    "    sol.append(mean)\n",
    "    if p==101:\n",
    "        p100=mean\n",
    "    print(f\"Mean of {p}: {mean}\")\n",
    "print(max(sol))\n",
    "print(p100)\n",
    "print((max(sol)-p100)/p100*100)"
   ]
  },
  {
   "cell_type": "code",
   "execution_count": 19,
   "id": "c1d2dcca-58f2-448a-8238-a3f9e50c7acc",
   "metadata": {
    "tags": []
   },
   "outputs": [
    {
     "name": "stderr",
     "output_type": "stream",
     "text": [
      "No artists with labels found to put in legend.  Note that artists whose label start with an underscore are ignored when legend() is called with no argument.\n",
      "/tmp/ipykernel_104927/1602468396.py:73: UserWarning: Matplotlib is currently using pgf, which is a non-GUI backend, so cannot show the figure.\n",
      "  plt.show()\n",
      "/tmp/ipykernel_104927/1602468396.py:81: UserWarning: Matplotlib is currently using pgf, which is a non-GUI backend, so cannot show the figure.\n",
      "  plt.show()\n"
     ]
    }
   ],
   "source": [
    "setup_pgf()\n",
    "import matplotlib.pyplot as plt\n",
    "import matplotlib.ticker as mticker\n",
    "\n",
    "geometry_textwidth = 384  # pt\n",
    "pt_to_inch = 1.0 / 72.27  # Conversion factor from points to inches\n",
    "plot_width = geometry_textwidth * pt_to_inch *0.5\n",
    "fig, ax = plt.subplots(figsize=(plot_width, plot_width*0.9))\n",
    "sol=[]\n",
    "for sublist, p in zip(dd, posv):\n",
    "    mean = sum(sublist) / len(sublist)\n",
    "    sol.append(mean)\n",
    "    #print(f\"Mean of {p}: {mean}\")\n",
    "\n",
    "# Create the boxplot\n",
    "plt.boxplot(dd, positions=posv, widths=distv, showfliers=True,\n",
    "                         patch_artist=False,  # Set patch_artist to False\n",
    "                         whiskerprops=dict(color='blue', linewidth=0.5), capprops=dict(color='blue', linewidth=0.5),\n",
    "                         medianprops=dict(color='blue', linewidth=0.5), flierprops=dict(marker='o', markersize=1,\n",
    "                                                                         markerfacecolor='black'), whis=1.5,boxprops=dict(color='blue', linewidth=0.5))\n",
    "\n",
    "\n",
    "\n",
    "# Plot the averages as scatter points\n",
    "x_ticks = posv\n",
    "\n",
    "# Set the x-axis labels to the sorted locations\n",
    "x_labels = posv\n",
    "\n",
    "# Define the number of ticks and labels to skip\n",
    "skip_ticks = 5\n",
    "\n",
    "# Create a list of filtered x tick indices\n",
    "x_ticks_filtered = [x_tick for i, x_tick in enumerate(x_ticks) if i % skip_ticks == 0]\n",
    "\n",
    "# Create a list of filtered x tick labels\n",
    "x_labels_filtered = [x_label for i, x_label in enumerate(x_labels) if i % skip_ticks == 0]\n",
    "\n",
    "plt.xticks(x_ticks_filtered, x_labels_filtered)\n",
    "\n",
    "# Add labels and title\n",
    "ax.set_xlabel(r\"Design variable, I$\")\n",
    "#ax.set_xlabel(r\"test\")\n",
    "\n",
    "#ax.set_ylabel(r\"Light Collection $\\left(\\si{\\sum\\gamma_d}\\right)$\")  # Set x-axis label with units\n",
    "ax.set_ylabel(r\"Light Output $\\left(\\si{\\sum\\gamma_d/\\electronvolt}\\right)$\")  # Set x-axis label with units\n",
    "\n",
    "plt.grid()\n",
    "\n",
    "# Add a vertical dotted line at the location of the x-axis tick value closest to 100\n",
    "plt.axvline(x=100, color='black', linestyle='dotted',linewidth=1)\n",
    "\n",
    "import numpy as np\n",
    "import matplotlib.pyplot as plt\n",
    "\n",
    "x_fit = posv\n",
    "y_fit = np.polyval(np.polyfit(posv, sol, 3), x_fit)\n",
    "residuals = sol - y_fit\n",
    "ss_res = np.sum(residuals**2)\n",
    "ss_tot = np.sum((y_fit - np.mean(y_fit))**2)\n",
    "r2 = 1 - (ss_res / ss_tot)\n",
    "params = np.polyfit(posv, sol, 2)  # Store the polynomial coefficients\n",
    "#label = 'Fit, $R^2$ ${:.2f}$\\n${:.1e}x^3{:.1e}x^2+{:.1f}x+{:.1f}$'.format(r2, *params)\n",
    "#ax.plot(x_fit, sol, 'ro',markersize=1, linestyle='none', linewidth=1, label='Mean')\n",
    "#label = 'Fit, $R^2$ ${:.2f}$\\n${:.1e}x^2+{:.1e}x+{:.1f}$'.format(r2, *params)\n",
    "\n",
    "#ax.plot(x_fit, y_fit, color='red', linestyle='--', linewidth=0.75, label=label)\n",
    "\n",
    "# Add the legend to the plot\n",
    "ax.legend()\n",
    "\n",
    "# Show the plot\n",
    "plt.show()\n",
    "\n",
    "    # Set the number of divisions on the x-axis\n",
    "num_divisions = 10  # Choose the desired number of divisions\n",
    "ax.xaxis.set_major_locator(mticker.MaxNLocator(num_divisions))\n",
    "ax.xaxis.set_major_formatter(mticker.FormatStrFormatter('%0i'))  # Set the desired format for tick labels\n",
    "\n",
    "# Display the plot\n",
    "plt.show()\n",
    "plt.savefig(\"Figures/2307/1DOpt/1DOpt_boxplot_LOP50.pdf\", bbox_inches='tight')\n",
    "\n",
    " #   boxplot = ax.boxplot(data_in_ranges, positions=box_positions, widths=box_widths, showfliers=True,\n"
   ]
  }
 ],
 "metadata": {
  "kernelspec": {
   "display_name": "Python 3 (ipykernel)",
   "language": "python",
   "name": "python3"
  },
  "language_info": {
   "codemirror_mode": {
    "name": "ipython",
    "version": 3
   },
   "file_extension": ".py",
   "mimetype": "text/x-python",
   "name": "python",
   "nbconvert_exporter": "python",
   "pygments_lexer": "ipython3",
   "version": "3.9.16"
  }
 },
 "nbformat": 4,
 "nbformat_minor": 5
}
